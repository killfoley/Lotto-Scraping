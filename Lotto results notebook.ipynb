{
 "cells": [
  {
   "cell_type": "code",
   "execution_count": 1,
   "metadata": {},
   "outputs": [
    {
     "data": {
      "text/plain": [
       "<Response [200]>"
      ]
     },
     "execution_count": 1,
     "metadata": {},
     "output_type": "execute_result"
    }
   ],
   "source": [
    "#import the library used to query a website\n",
    "import requests\n",
    "#specify the url for 2019\n",
    "lottery = \"https://www.irishlottery.com/archive-2019\"\n",
    "#Query the website and return the html to the variable 'page'\n",
    "page = requests.get(lottery)\n",
    "page"
   ]
  },
  {
   "cell_type": "code",
   "execution_count": 2,
   "metadata": {},
   "outputs": [
    {
     "data": {
      "text/plain": [
       "200"
      ]
     },
     "execution_count": 2,
     "metadata": {},
     "output_type": "execute_result"
    }
   ],
   "source": [
    "page.status_code"
   ]
  },
  {
   "cell_type": "code",
   "execution_count": 3,
   "metadata": {},
   "outputs": [],
   "source": [
    "#import the Beautiful soup functions to parse the data returned from the website\n",
    "from bs4 import BeautifulSoup\n",
    "#Parse the html in the 'page' variable, and store it in Beautiful Soup format\n",
    "soup = BeautifulSoup(page.content, 'lxml')"
   ]
  },
  {
   "cell_type": "code",
   "execution_count": 4,
   "metadata": {},
   "outputs": [
    {
     "data": {
      "text/plain": [
       "list"
      ]
     },
     "execution_count": 4,
     "metadata": {},
     "output_type": "execute_result"
    }
   ],
   "source": [
    "# Find the 6 lotto numbers available at the class = \"Ball\"\n",
    "ball_class_19 = soup.find_all(\"li\", class_=\"ball\")\n",
    "#get the text using list comprehension\n",
    "ball_19 = [pt.get_text() for pt in ball_class_19]\n",
    "type(ball_19)"
   ]
  },
  {
   "cell_type": "code",
   "execution_count": 5,
   "metadata": {},
   "outputs": [
    {
     "data": {
      "text/html": [
       "<div>\n",
       "<style scoped>\n",
       "    .dataframe tbody tr th:only-of-type {\n",
       "        vertical-align: middle;\n",
       "    }\n",
       "\n",
       "    .dataframe tbody tr th {\n",
       "        vertical-align: top;\n",
       "    }\n",
       "\n",
       "    .dataframe thead th {\n",
       "        text-align: right;\n",
       "    }\n",
       "</style>\n",
       "<table border=\"1\" class=\"dataframe\">\n",
       "  <thead>\n",
       "    <tr style=\"text-align: right;\">\n",
       "      <th></th>\n",
       "      <th>A</th>\n",
       "      <th>B</th>\n",
       "      <th>C</th>\n",
       "      <th>D</th>\n",
       "      <th>E</th>\n",
       "      <th>F</th>\n",
       "    </tr>\n",
       "  </thead>\n",
       "  <tbody>\n",
       "    <tr>\n",
       "      <th>0</th>\n",
       "      <td>2</td>\n",
       "      <td>14</td>\n",
       "      <td>18</td>\n",
       "      <td>23</td>\n",
       "      <td>34</td>\n",
       "      <td>39</td>\n",
       "    </tr>\n",
       "    <tr>\n",
       "      <th>1</th>\n",
       "      <td>12</td>\n",
       "      <td>23</td>\n",
       "      <td>30</td>\n",
       "      <td>36</td>\n",
       "      <td>37</td>\n",
       "      <td>38</td>\n",
       "    </tr>\n",
       "    <tr>\n",
       "      <th>2</th>\n",
       "      <td>6</td>\n",
       "      <td>19</td>\n",
       "      <td>22</td>\n",
       "      <td>28</td>\n",
       "      <td>35</td>\n",
       "      <td>40</td>\n",
       "    </tr>\n",
       "    <tr>\n",
       "      <th>3</th>\n",
       "      <td>8</td>\n",
       "      <td>9</td>\n",
       "      <td>14</td>\n",
       "      <td>18</td>\n",
       "      <td>23</td>\n",
       "      <td>38</td>\n",
       "    </tr>\n",
       "    <tr>\n",
       "      <th>4</th>\n",
       "      <td>11</td>\n",
       "      <td>17</td>\n",
       "      <td>24</td>\n",
       "      <td>29</td>\n",
       "      <td>30</td>\n",
       "      <td>47</td>\n",
       "    </tr>\n",
       "    <tr>\n",
       "      <th>...</th>\n",
       "      <td>...</td>\n",
       "      <td>...</td>\n",
       "      <td>...</td>\n",
       "      <td>...</td>\n",
       "      <td>...</td>\n",
       "      <td>...</td>\n",
       "    </tr>\n",
       "    <tr>\n",
       "      <th>99</th>\n",
       "      <td>6</td>\n",
       "      <td>9</td>\n",
       "      <td>11</td>\n",
       "      <td>27</td>\n",
       "      <td>34</td>\n",
       "      <td>42</td>\n",
       "    </tr>\n",
       "    <tr>\n",
       "      <th>100</th>\n",
       "      <td>19</td>\n",
       "      <td>30</td>\n",
       "      <td>32</td>\n",
       "      <td>33</td>\n",
       "      <td>35</td>\n",
       "      <td>46</td>\n",
       "    </tr>\n",
       "    <tr>\n",
       "      <th>101</th>\n",
       "      <td>15</td>\n",
       "      <td>16</td>\n",
       "      <td>18</td>\n",
       "      <td>23</td>\n",
       "      <td>39</td>\n",
       "      <td>45</td>\n",
       "    </tr>\n",
       "    <tr>\n",
       "      <th>102</th>\n",
       "      <td>7</td>\n",
       "      <td>10</td>\n",
       "      <td>18</td>\n",
       "      <td>26</td>\n",
       "      <td>37</td>\n",
       "      <td>40</td>\n",
       "    </tr>\n",
       "    <tr>\n",
       "      <th>103</th>\n",
       "      <td>2</td>\n",
       "      <td>14</td>\n",
       "      <td>26</td>\n",
       "      <td>33</td>\n",
       "      <td>37</td>\n",
       "      <td>47</td>\n",
       "    </tr>\n",
       "  </tbody>\n",
       "</table>\n",
       "<p>104 rows × 6 columns</p>\n",
       "</div>"
      ],
      "text/plain": [
       "      A   B   C   D   E   F\n",
       "0     2  14  18  23  34  39\n",
       "1    12  23  30  36  37  38\n",
       "2     6  19  22  28  35  40\n",
       "3     8   9  14  18  23  38\n",
       "4    11  17  24  29  30  47\n",
       "..   ..  ..  ..  ..  ..  ..\n",
       "99    6   9  11  27  34  42\n",
       "100  19  30  32  33  35  46\n",
       "101  15  16  18  23  39  45\n",
       "102   7  10  18  26  37  40\n",
       "103   2  14  26  33  37  47\n",
       "\n",
       "[104 rows x 6 columns]"
      ]
     },
     "execution_count": 5,
     "metadata": {},
     "output_type": "execute_result"
    }
   ],
   "source": [
    "#convert into a dataframe in acsending order\n",
    "import numpy as np\n",
    "import pandas as pd\n",
    "df_ball_19 = pd.DataFrame(np.array(ball_19).reshape(-1,6),columns = list(\"ABCDEF\"))\n",
    "df_ball_19"
   ]
  },
  {
   "cell_type": "code",
   "execution_count": 6,
   "metadata": {},
   "outputs": [
    {
     "data": {
      "text/plain": [
       "list"
      ]
     },
     "execution_count": 6,
     "metadata": {},
     "output_type": "execute_result"
    }
   ],
   "source": [
    "# Find the bonus number available at the class = \"bonus-ball\"\n",
    "ball_bonus_class_19 = soup.find_all(\"li\", class_=\"bonus-ball\")\n",
    "ball_bonus_19 = [pt.get_text() for pt in ball_bonus_class_19]\n",
    "type(ball_bonus_19)"
   ]
  },
  {
   "cell_type": "code",
   "execution_count": 7,
   "metadata": {},
   "outputs": [],
   "source": [
    "df_ball_bonus_19 = pd.DataFrame(ball_bonus_19,columns = ['Bonus'])"
   ]
  },
  {
   "cell_type": "code",
   "execution_count": 8,
   "metadata": {},
   "outputs": [
    {
     "data": {
      "text/html": [
       "<div>\n",
       "<style scoped>\n",
       "    .dataframe tbody tr th:only-of-type {\n",
       "        vertical-align: middle;\n",
       "    }\n",
       "\n",
       "    .dataframe tbody tr th {\n",
       "        vertical-align: top;\n",
       "    }\n",
       "\n",
       "    .dataframe thead th {\n",
       "        text-align: right;\n",
       "    }\n",
       "</style>\n",
       "<table border=\"1\" class=\"dataframe\">\n",
       "  <thead>\n",
       "    <tr style=\"text-align: right;\">\n",
       "      <th></th>\n",
       "      <th>A</th>\n",
       "      <th>B</th>\n",
       "      <th>C</th>\n",
       "      <th>D</th>\n",
       "      <th>E</th>\n",
       "      <th>F</th>\n",
       "      <th>Bonus</th>\n",
       "    </tr>\n",
       "  </thead>\n",
       "  <tbody>\n",
       "    <tr>\n",
       "      <th>0</th>\n",
       "      <td>2</td>\n",
       "      <td>14</td>\n",
       "      <td>18</td>\n",
       "      <td>23</td>\n",
       "      <td>34</td>\n",
       "      <td>39</td>\n",
       "      <td>25</td>\n",
       "    </tr>\n",
       "    <tr>\n",
       "      <th>1</th>\n",
       "      <td>12</td>\n",
       "      <td>23</td>\n",
       "      <td>30</td>\n",
       "      <td>36</td>\n",
       "      <td>37</td>\n",
       "      <td>38</td>\n",
       "      <td>3</td>\n",
       "    </tr>\n",
       "    <tr>\n",
       "      <th>2</th>\n",
       "      <td>6</td>\n",
       "      <td>19</td>\n",
       "      <td>22</td>\n",
       "      <td>28</td>\n",
       "      <td>35</td>\n",
       "      <td>40</td>\n",
       "      <td>32</td>\n",
       "    </tr>\n",
       "    <tr>\n",
       "      <th>3</th>\n",
       "      <td>8</td>\n",
       "      <td>9</td>\n",
       "      <td>14</td>\n",
       "      <td>18</td>\n",
       "      <td>23</td>\n",
       "      <td>38</td>\n",
       "      <td>16</td>\n",
       "    </tr>\n",
       "    <tr>\n",
       "      <th>4</th>\n",
       "      <td>11</td>\n",
       "      <td>17</td>\n",
       "      <td>24</td>\n",
       "      <td>29</td>\n",
       "      <td>30</td>\n",
       "      <td>47</td>\n",
       "      <td>38</td>\n",
       "    </tr>\n",
       "    <tr>\n",
       "      <th>...</th>\n",
       "      <td>...</td>\n",
       "      <td>...</td>\n",
       "      <td>...</td>\n",
       "      <td>...</td>\n",
       "      <td>...</td>\n",
       "      <td>...</td>\n",
       "      <td>...</td>\n",
       "    </tr>\n",
       "    <tr>\n",
       "      <th>99</th>\n",
       "      <td>6</td>\n",
       "      <td>9</td>\n",
       "      <td>11</td>\n",
       "      <td>27</td>\n",
       "      <td>34</td>\n",
       "      <td>42</td>\n",
       "      <td>14</td>\n",
       "    </tr>\n",
       "    <tr>\n",
       "      <th>100</th>\n",
       "      <td>19</td>\n",
       "      <td>30</td>\n",
       "      <td>32</td>\n",
       "      <td>33</td>\n",
       "      <td>35</td>\n",
       "      <td>46</td>\n",
       "      <td>3</td>\n",
       "    </tr>\n",
       "    <tr>\n",
       "      <th>101</th>\n",
       "      <td>15</td>\n",
       "      <td>16</td>\n",
       "      <td>18</td>\n",
       "      <td>23</td>\n",
       "      <td>39</td>\n",
       "      <td>45</td>\n",
       "      <td>22</td>\n",
       "    </tr>\n",
       "    <tr>\n",
       "      <th>102</th>\n",
       "      <td>7</td>\n",
       "      <td>10</td>\n",
       "      <td>18</td>\n",
       "      <td>26</td>\n",
       "      <td>37</td>\n",
       "      <td>40</td>\n",
       "      <td>4</td>\n",
       "    </tr>\n",
       "    <tr>\n",
       "      <th>103</th>\n",
       "      <td>2</td>\n",
       "      <td>14</td>\n",
       "      <td>26</td>\n",
       "      <td>33</td>\n",
       "      <td>37</td>\n",
       "      <td>47</td>\n",
       "      <td>38</td>\n",
       "    </tr>\n",
       "  </tbody>\n",
       "</table>\n",
       "<p>104 rows × 7 columns</p>\n",
       "</div>"
      ],
      "text/plain": [
       "      A   B   C   D   E   F Bonus\n",
       "0     2  14  18  23  34  39    25\n",
       "1    12  23  30  36  37  38     3\n",
       "2     6  19  22  28  35  40    32\n",
       "3     8   9  14  18  23  38    16\n",
       "4    11  17  24  29  30  47    38\n",
       "..   ..  ..  ..  ..  ..  ..   ...\n",
       "99    6   9  11  27  34  42    14\n",
       "100  19  30  32  33  35  46     3\n",
       "101  15  16  18  23  39  45    22\n",
       "102   7  10  18  26  37  40     4\n",
       "103   2  14  26  33  37  47    38\n",
       "\n",
       "[104 rows x 7 columns]"
      ]
     },
     "execution_count": 8,
     "metadata": {},
     "output_type": "execute_result"
    }
   ],
   "source": [
    "#join the two dataframes\n",
    "df_2019 = pd.concat([df_ball_19, df_ball_bonus_19], axis=1)\n",
    "df_2019"
   ]
  },
  {
   "cell_type": "code",
   "execution_count": 9,
   "metadata": {},
   "outputs": [],
   "source": [
    "#find all the dates available in th\n",
    "#date = soup.find_all(\"th\")\n",
    "#date1 = [pt.get_text() for pt in date]"
   ]
  },
  {
   "cell_type": "code",
   "execution_count": 10,
   "metadata": {},
   "outputs": [],
   "source": [
    "#convert to the dtaframe\n",
    "#df_date = pd.DataFrame(date1,columns =['Date'])\n",
    "#select the datframe after first two rows as they show result date and draw result\n",
    "#df_date = df_date[2:]"
   ]
  },
  {
   "cell_type": "code",
   "execution_count": 11,
   "metadata": {},
   "outputs": [],
   "source": [
    "#reset the index from 0\n",
    "#df_date = df_date.reset_index()\n",
    "#del df_date['index']"
   ]
  },
  {
   "cell_type": "code",
   "execution_count": 12,
   "metadata": {},
   "outputs": [],
   "source": [
    "#df_date.dtypes"
   ]
  },
  {
   "cell_type": "code",
   "execution_count": 13,
   "metadata": {},
   "outputs": [],
   "source": [
    "#convert the date into date time\n",
    "#df_date = df_date.apply(pd.to_datetime)"
   ]
  },
  {
   "cell_type": "code",
   "execution_count": 14,
   "metadata": {},
   "outputs": [],
   "source": [
    "#https://stackoverflow.com/questions/42693410/how-to-convert-object-to-date-in-pandas\n",
    "#df_date.dtypes"
   ]
  },
  {
   "cell_type": "code",
   "execution_count": 15,
   "metadata": {},
   "outputs": [],
   "source": [
    "#df1 = pd.concat([df_date, df_2019], axis=1)\n",
    "#df1.describe()"
   ]
  },
  {
   "cell_type": "code",
   "execution_count": 16,
   "metadata": {},
   "outputs": [],
   "source": [
    "# df_2019.to_csv('Lotto.csv'index=False)"
   ]
  },
  {
   "cell_type": "code",
   "execution_count": 17,
   "metadata": {},
   "outputs": [
    {
     "data": {
      "text/plain": [
       "<Response [200]>"
      ]
     },
     "execution_count": 17,
     "metadata": {},
     "output_type": "execute_result"
    }
   ],
   "source": [
    "lottery = \"https://www.irishlottery.com/archive-2020\"\n",
    "#Query the website and return the html to the variable 'page'\n",
    "page = requests.get(lottery)\n",
    "page"
   ]
  },
  {
   "cell_type": "code",
   "execution_count": 18,
   "metadata": {},
   "outputs": [
    {
     "data": {
      "text/plain": [
       "200"
      ]
     },
     "execution_count": 18,
     "metadata": {},
     "output_type": "execute_result"
    }
   ],
   "source": [
    "page.status_code"
   ]
  },
  {
   "cell_type": "code",
   "execution_count": 19,
   "metadata": {},
   "outputs": [],
   "source": [
    "soup = BeautifulSoup(page.content, 'lxml')"
   ]
  },
  {
   "cell_type": "code",
   "execution_count": 20,
   "metadata": {},
   "outputs": [
    {
     "data": {
      "text/plain": [
       "list"
      ]
     },
     "execution_count": 20,
     "metadata": {},
     "output_type": "execute_result"
    }
   ],
   "source": [
    "# Find the 6 lotto numbers available at the class = \"Ball\"\n",
    "ball_class_20 = soup.find_all(\"li\", class_=\"ball\")\n",
    "#get the text using list comprehension\n",
    "ball_20 = [pt.get_text() for pt in ball_class_20]\n",
    "type(ball_20)"
   ]
  },
  {
   "cell_type": "code",
   "execution_count": 21,
   "metadata": {},
   "outputs": [
    {
     "data": {
      "text/html": [
       "<div>\n",
       "<style scoped>\n",
       "    .dataframe tbody tr th:only-of-type {\n",
       "        vertical-align: middle;\n",
       "    }\n",
       "\n",
       "    .dataframe tbody tr th {\n",
       "        vertical-align: top;\n",
       "    }\n",
       "\n",
       "    .dataframe thead th {\n",
       "        text-align: right;\n",
       "    }\n",
       "</style>\n",
       "<table border=\"1\" class=\"dataframe\">\n",
       "  <thead>\n",
       "    <tr style=\"text-align: right;\">\n",
       "      <th></th>\n",
       "      <th>A</th>\n",
       "      <th>B</th>\n",
       "      <th>C</th>\n",
       "      <th>D</th>\n",
       "      <th>E</th>\n",
       "      <th>F</th>\n",
       "    </tr>\n",
       "  </thead>\n",
       "  <tbody>\n",
       "    <tr>\n",
       "      <th>0</th>\n",
       "      <td>8</td>\n",
       "      <td>13</td>\n",
       "      <td>21</td>\n",
       "      <td>23</td>\n",
       "      <td>40</td>\n",
       "      <td>44</td>\n",
       "    </tr>\n",
       "    <tr>\n",
       "      <th>1</th>\n",
       "      <td>22</td>\n",
       "      <td>23</td>\n",
       "      <td>24</td>\n",
       "      <td>28</td>\n",
       "      <td>32</td>\n",
       "      <td>41</td>\n",
       "    </tr>\n",
       "    <tr>\n",
       "      <th>2</th>\n",
       "      <td>22</td>\n",
       "      <td>30</td>\n",
       "      <td>33</td>\n",
       "      <td>39</td>\n",
       "      <td>40</td>\n",
       "      <td>45</td>\n",
       "    </tr>\n",
       "    <tr>\n",
       "      <th>3</th>\n",
       "      <td>9</td>\n",
       "      <td>14</td>\n",
       "      <td>16</td>\n",
       "      <td>28</td>\n",
       "      <td>33</td>\n",
       "      <td>38</td>\n",
       "    </tr>\n",
       "    <tr>\n",
       "      <th>4</th>\n",
       "      <td>15</td>\n",
       "      <td>19</td>\n",
       "      <td>24</td>\n",
       "      <td>32</td>\n",
       "      <td>38</td>\n",
       "      <td>40</td>\n",
       "    </tr>\n",
       "    <tr>\n",
       "      <th>...</th>\n",
       "      <td>...</td>\n",
       "      <td>...</td>\n",
       "      <td>...</td>\n",
       "      <td>...</td>\n",
       "      <td>...</td>\n",
       "      <td>...</td>\n",
       "    </tr>\n",
       "    <tr>\n",
       "      <th>100</th>\n",
       "      <td>15</td>\n",
       "      <td>17</td>\n",
       "      <td>23</td>\n",
       "      <td>31</td>\n",
       "      <td>33</td>\n",
       "      <td>41</td>\n",
       "    </tr>\n",
       "    <tr>\n",
       "      <th>101</th>\n",
       "      <td>3</td>\n",
       "      <td>15</td>\n",
       "      <td>20</td>\n",
       "      <td>22</td>\n",
       "      <td>24</td>\n",
       "      <td>45</td>\n",
       "    </tr>\n",
       "    <tr>\n",
       "      <th>102</th>\n",
       "      <td>2</td>\n",
       "      <td>5</td>\n",
       "      <td>13</td>\n",
       "      <td>31</td>\n",
       "      <td>42</td>\n",
       "      <td>44</td>\n",
       "    </tr>\n",
       "    <tr>\n",
       "      <th>103</th>\n",
       "      <td>2</td>\n",
       "      <td>5</td>\n",
       "      <td>16</td>\n",
       "      <td>17</td>\n",
       "      <td>22</td>\n",
       "      <td>23</td>\n",
       "    </tr>\n",
       "    <tr>\n",
       "      <th>104</th>\n",
       "      <td>4</td>\n",
       "      <td>5</td>\n",
       "      <td>23</td>\n",
       "      <td>30</td>\n",
       "      <td>42</td>\n",
       "      <td>47</td>\n",
       "    </tr>\n",
       "  </tbody>\n",
       "</table>\n",
       "<p>105 rows × 6 columns</p>\n",
       "</div>"
      ],
      "text/plain": [
       "      A   B   C   D   E   F\n",
       "0     8  13  21  23  40  44\n",
       "1    22  23  24  28  32  41\n",
       "2    22  30  33  39  40  45\n",
       "3     9  14  16  28  33  38\n",
       "4    15  19  24  32  38  40\n",
       "..   ..  ..  ..  ..  ..  ..\n",
       "100  15  17  23  31  33  41\n",
       "101   3  15  20  22  24  45\n",
       "102   2   5  13  31  42  44\n",
       "103   2   5  16  17  22  23\n",
       "104   4   5  23  30  42  47\n",
       "\n",
       "[105 rows x 6 columns]"
      ]
     },
     "execution_count": 21,
     "metadata": {},
     "output_type": "execute_result"
    }
   ],
   "source": [
    "df_ball_20 = pd.DataFrame(np.array(ball_20).reshape(-1,6),columns = list(\"ABCDEF\"))\n",
    "df_ball_20"
   ]
  },
  {
   "cell_type": "code",
   "execution_count": 22,
   "metadata": {},
   "outputs": [
    {
     "data": {
      "text/plain": [
       "list"
      ]
     },
     "execution_count": 22,
     "metadata": {},
     "output_type": "execute_result"
    }
   ],
   "source": [
    "ball_bonus_class_20 = soup.find_all(\"li\", class_=\"bonus-ball\")\n",
    "ball_bonus_20 = [pt.get_text() for pt in ball_bonus_class_20]\n",
    "type(ball_bonus_20)"
   ]
  },
  {
   "cell_type": "code",
   "execution_count": 23,
   "metadata": {},
   "outputs": [],
   "source": [
    "df_ball_bonus_20 = pd.DataFrame(ball_bonus_20,columns = ['Bonus'])"
   ]
  },
  {
   "cell_type": "code",
   "execution_count": 24,
   "metadata": {},
   "outputs": [
    {
     "data": {
      "text/html": [
       "<div>\n",
       "<style scoped>\n",
       "    .dataframe tbody tr th:only-of-type {\n",
       "        vertical-align: middle;\n",
       "    }\n",
       "\n",
       "    .dataframe tbody tr th {\n",
       "        vertical-align: top;\n",
       "    }\n",
       "\n",
       "    .dataframe thead th {\n",
       "        text-align: right;\n",
       "    }\n",
       "</style>\n",
       "<table border=\"1\" class=\"dataframe\">\n",
       "  <thead>\n",
       "    <tr style=\"text-align: right;\">\n",
       "      <th></th>\n",
       "      <th>A</th>\n",
       "      <th>B</th>\n",
       "      <th>C</th>\n",
       "      <th>D</th>\n",
       "      <th>E</th>\n",
       "      <th>F</th>\n",
       "      <th>Bonus</th>\n",
       "    </tr>\n",
       "  </thead>\n",
       "  <tbody>\n",
       "    <tr>\n",
       "      <th>0</th>\n",
       "      <td>8</td>\n",
       "      <td>13</td>\n",
       "      <td>21</td>\n",
       "      <td>23</td>\n",
       "      <td>40</td>\n",
       "      <td>44</td>\n",
       "      <td>28</td>\n",
       "    </tr>\n",
       "    <tr>\n",
       "      <th>1</th>\n",
       "      <td>22</td>\n",
       "      <td>23</td>\n",
       "      <td>24</td>\n",
       "      <td>28</td>\n",
       "      <td>32</td>\n",
       "      <td>41</td>\n",
       "      <td>44</td>\n",
       "    </tr>\n",
       "    <tr>\n",
       "      <th>2</th>\n",
       "      <td>22</td>\n",
       "      <td>30</td>\n",
       "      <td>33</td>\n",
       "      <td>39</td>\n",
       "      <td>40</td>\n",
       "      <td>45</td>\n",
       "      <td>38</td>\n",
       "    </tr>\n",
       "    <tr>\n",
       "      <th>3</th>\n",
       "      <td>9</td>\n",
       "      <td>14</td>\n",
       "      <td>16</td>\n",
       "      <td>28</td>\n",
       "      <td>33</td>\n",
       "      <td>38</td>\n",
       "      <td>22</td>\n",
       "    </tr>\n",
       "    <tr>\n",
       "      <th>4</th>\n",
       "      <td>15</td>\n",
       "      <td>19</td>\n",
       "      <td>24</td>\n",
       "      <td>32</td>\n",
       "      <td>38</td>\n",
       "      <td>40</td>\n",
       "      <td>23</td>\n",
       "    </tr>\n",
       "    <tr>\n",
       "      <th>...</th>\n",
       "      <td>...</td>\n",
       "      <td>...</td>\n",
       "      <td>...</td>\n",
       "      <td>...</td>\n",
       "      <td>...</td>\n",
       "      <td>...</td>\n",
       "      <td>...</td>\n",
       "    </tr>\n",
       "    <tr>\n",
       "      <th>100</th>\n",
       "      <td>15</td>\n",
       "      <td>17</td>\n",
       "      <td>23</td>\n",
       "      <td>31</td>\n",
       "      <td>33</td>\n",
       "      <td>41</td>\n",
       "      <td>45</td>\n",
       "    </tr>\n",
       "    <tr>\n",
       "      <th>101</th>\n",
       "      <td>3</td>\n",
       "      <td>15</td>\n",
       "      <td>20</td>\n",
       "      <td>22</td>\n",
       "      <td>24</td>\n",
       "      <td>45</td>\n",
       "      <td>14</td>\n",
       "    </tr>\n",
       "    <tr>\n",
       "      <th>102</th>\n",
       "      <td>2</td>\n",
       "      <td>5</td>\n",
       "      <td>13</td>\n",
       "      <td>31</td>\n",
       "      <td>42</td>\n",
       "      <td>44</td>\n",
       "      <td>35</td>\n",
       "    </tr>\n",
       "    <tr>\n",
       "      <th>103</th>\n",
       "      <td>2</td>\n",
       "      <td>5</td>\n",
       "      <td>16</td>\n",
       "      <td>17</td>\n",
       "      <td>22</td>\n",
       "      <td>23</td>\n",
       "      <td>36</td>\n",
       "    </tr>\n",
       "    <tr>\n",
       "      <th>104</th>\n",
       "      <td>4</td>\n",
       "      <td>5</td>\n",
       "      <td>23</td>\n",
       "      <td>30</td>\n",
       "      <td>42</td>\n",
       "      <td>47</td>\n",
       "      <td>3</td>\n",
       "    </tr>\n",
       "  </tbody>\n",
       "</table>\n",
       "<p>105 rows × 7 columns</p>\n",
       "</div>"
      ],
      "text/plain": [
       "      A   B   C   D   E   F Bonus\n",
       "0     8  13  21  23  40  44    28\n",
       "1    22  23  24  28  32  41    44\n",
       "2    22  30  33  39  40  45    38\n",
       "3     9  14  16  28  33  38    22\n",
       "4    15  19  24  32  38  40    23\n",
       "..   ..  ..  ..  ..  ..  ..   ...\n",
       "100  15  17  23  31  33  41    45\n",
       "101   3  15  20  22  24  45    14\n",
       "102   2   5  13  31  42  44    35\n",
       "103   2   5  16  17  22  23    36\n",
       "104   4   5  23  30  42  47     3\n",
       "\n",
       "[105 rows x 7 columns]"
      ]
     },
     "execution_count": 24,
     "metadata": {},
     "output_type": "execute_result"
    }
   ],
   "source": [
    "#join the two dataframes\n",
    "df_2020 = pd.concat([df_ball_20, df_ball_bonus_20], axis=1)\n",
    "df_2020"
   ]
  },
  {
   "cell_type": "code",
   "execution_count": 25,
   "metadata": {},
   "outputs": [
    {
     "data": {
      "text/plain": [
       "<Response [200]>"
      ]
     },
     "execution_count": 25,
     "metadata": {},
     "output_type": "execute_result"
    }
   ],
   "source": [
    "lottery = \"https://www.irishlottery.com/archive-2018\"\n",
    "#Query the website and return the html to the variable 'page'\n",
    "page = requests.get(lottery)\n",
    "page"
   ]
  },
  {
   "cell_type": "code",
   "execution_count": 26,
   "metadata": {},
   "outputs": [
    {
     "data": {
      "text/plain": [
       "200"
      ]
     },
     "execution_count": 26,
     "metadata": {},
     "output_type": "execute_result"
    }
   ],
   "source": [
    "page.status_code"
   ]
  },
  {
   "cell_type": "code",
   "execution_count": 27,
   "metadata": {},
   "outputs": [],
   "source": [
    "soup = BeautifulSoup(page.content, 'lxml')"
   ]
  },
  {
   "cell_type": "code",
   "execution_count": 28,
   "metadata": {},
   "outputs": [
    {
     "data": {
      "text/plain": [
       "list"
      ]
     },
     "execution_count": 28,
     "metadata": {},
     "output_type": "execute_result"
    }
   ],
   "source": [
    "# Find the 6 lotto numbers available at the class = \"Ball\"\n",
    "ball_class_18 = soup.find_all(\"li\", class_=\"ball\")\n",
    "#get the text using list comprehension\n",
    "ball_18 = [pt.get_text() for pt in ball_class_18]\n",
    "type(ball_18)"
   ]
  },
  {
   "cell_type": "code",
   "execution_count": 29,
   "metadata": {},
   "outputs": [
    {
     "data": {
      "text/html": [
       "<div>\n",
       "<style scoped>\n",
       "    .dataframe tbody tr th:only-of-type {\n",
       "        vertical-align: middle;\n",
       "    }\n",
       "\n",
       "    .dataframe tbody tr th {\n",
       "        vertical-align: top;\n",
       "    }\n",
       "\n",
       "    .dataframe thead th {\n",
       "        text-align: right;\n",
       "    }\n",
       "</style>\n",
       "<table border=\"1\" class=\"dataframe\">\n",
       "  <thead>\n",
       "    <tr style=\"text-align: right;\">\n",
       "      <th></th>\n",
       "      <th>A</th>\n",
       "      <th>B</th>\n",
       "      <th>C</th>\n",
       "      <th>D</th>\n",
       "      <th>E</th>\n",
       "      <th>F</th>\n",
       "    </tr>\n",
       "  </thead>\n",
       "  <tbody>\n",
       "    <tr>\n",
       "      <th>0</th>\n",
       "      <td>7</td>\n",
       "      <td>13</td>\n",
       "      <td>18</td>\n",
       "      <td>26</td>\n",
       "      <td>27</td>\n",
       "      <td>28</td>\n",
       "    </tr>\n",
       "    <tr>\n",
       "      <th>1</th>\n",
       "      <td>1</td>\n",
       "      <td>2</td>\n",
       "      <td>30</td>\n",
       "      <td>41</td>\n",
       "      <td>42</td>\n",
       "      <td>43</td>\n",
       "    </tr>\n",
       "    <tr>\n",
       "      <th>2</th>\n",
       "      <td>5</td>\n",
       "      <td>20</td>\n",
       "      <td>21</td>\n",
       "      <td>24</td>\n",
       "      <td>34</td>\n",
       "      <td>45</td>\n",
       "    </tr>\n",
       "    <tr>\n",
       "      <th>3</th>\n",
       "      <td>1</td>\n",
       "      <td>5</td>\n",
       "      <td>19</td>\n",
       "      <td>24</td>\n",
       "      <td>27</td>\n",
       "      <td>42</td>\n",
       "    </tr>\n",
       "    <tr>\n",
       "      <th>4</th>\n",
       "      <td>2</td>\n",
       "      <td>9</td>\n",
       "      <td>23</td>\n",
       "      <td>34</td>\n",
       "      <td>35</td>\n",
       "      <td>38</td>\n",
       "    </tr>\n",
       "    <tr>\n",
       "      <th>...</th>\n",
       "      <td>...</td>\n",
       "      <td>...</td>\n",
       "      <td>...</td>\n",
       "      <td>...</td>\n",
       "      <td>...</td>\n",
       "      <td>...</td>\n",
       "    </tr>\n",
       "    <tr>\n",
       "      <th>99</th>\n",
       "      <td>1</td>\n",
       "      <td>4</td>\n",
       "      <td>25</td>\n",
       "      <td>31</td>\n",
       "      <td>32</td>\n",
       "      <td>38</td>\n",
       "    </tr>\n",
       "    <tr>\n",
       "      <th>100</th>\n",
       "      <td>1</td>\n",
       "      <td>2</td>\n",
       "      <td>7</td>\n",
       "      <td>33</td>\n",
       "      <td>34</td>\n",
       "      <td>40</td>\n",
       "    </tr>\n",
       "    <tr>\n",
       "      <th>101</th>\n",
       "      <td>29</td>\n",
       "      <td>32</td>\n",
       "      <td>33</td>\n",
       "      <td>35</td>\n",
       "      <td>36</td>\n",
       "      <td>44</td>\n",
       "    </tr>\n",
       "    <tr>\n",
       "      <th>102</th>\n",
       "      <td>6</td>\n",
       "      <td>8</td>\n",
       "      <td>19</td>\n",
       "      <td>20</td>\n",
       "      <td>38</td>\n",
       "      <td>46</td>\n",
       "    </tr>\n",
       "    <tr>\n",
       "      <th>103</th>\n",
       "      <td>3</td>\n",
       "      <td>8</td>\n",
       "      <td>15</td>\n",
       "      <td>22</td>\n",
       "      <td>25</td>\n",
       "      <td>27</td>\n",
       "    </tr>\n",
       "  </tbody>\n",
       "</table>\n",
       "<p>104 rows × 6 columns</p>\n",
       "</div>"
      ],
      "text/plain": [
       "      A   B   C   D   E   F\n",
       "0     7  13  18  26  27  28\n",
       "1     1   2  30  41  42  43\n",
       "2     5  20  21  24  34  45\n",
       "3     1   5  19  24  27  42\n",
       "4     2   9  23  34  35  38\n",
       "..   ..  ..  ..  ..  ..  ..\n",
       "99    1   4  25  31  32  38\n",
       "100   1   2   7  33  34  40\n",
       "101  29  32  33  35  36  44\n",
       "102   6   8  19  20  38  46\n",
       "103   3   8  15  22  25  27\n",
       "\n",
       "[104 rows x 6 columns]"
      ]
     },
     "execution_count": 29,
     "metadata": {},
     "output_type": "execute_result"
    }
   ],
   "source": [
    "df_ball_18 = pd.DataFrame(np.array(ball_18).reshape(-1,6),columns = list(\"ABCDEF\"))\n",
    "df_ball_18"
   ]
  },
  {
   "cell_type": "code",
   "execution_count": 30,
   "metadata": {},
   "outputs": [
    {
     "data": {
      "text/plain": [
       "list"
      ]
     },
     "execution_count": 30,
     "metadata": {},
     "output_type": "execute_result"
    }
   ],
   "source": [
    "ball_bonus_class_18 = soup.find_all(\"li\", class_=\"bonus-ball\")\n",
    "ball_bonus_18 = [pt.get_text() for pt in ball_bonus_class_18]\n",
    "type(ball_bonus_18)"
   ]
  },
  {
   "cell_type": "code",
   "execution_count": 31,
   "metadata": {},
   "outputs": [],
   "source": [
    "df_ball_bonus_18 = pd.DataFrame(ball_bonus_18,columns = ['Bonus'])"
   ]
  },
  {
   "cell_type": "code",
   "execution_count": 32,
   "metadata": {},
   "outputs": [
    {
     "data": {
      "text/html": [
       "<div>\n",
       "<style scoped>\n",
       "    .dataframe tbody tr th:only-of-type {\n",
       "        vertical-align: middle;\n",
       "    }\n",
       "\n",
       "    .dataframe tbody tr th {\n",
       "        vertical-align: top;\n",
       "    }\n",
       "\n",
       "    .dataframe thead th {\n",
       "        text-align: right;\n",
       "    }\n",
       "</style>\n",
       "<table border=\"1\" class=\"dataframe\">\n",
       "  <thead>\n",
       "    <tr style=\"text-align: right;\">\n",
       "      <th></th>\n",
       "      <th>A</th>\n",
       "      <th>B</th>\n",
       "      <th>C</th>\n",
       "      <th>D</th>\n",
       "      <th>E</th>\n",
       "      <th>F</th>\n",
       "      <th>Bonus</th>\n",
       "    </tr>\n",
       "  </thead>\n",
       "  <tbody>\n",
       "    <tr>\n",
       "      <th>0</th>\n",
       "      <td>7</td>\n",
       "      <td>13</td>\n",
       "      <td>18</td>\n",
       "      <td>26</td>\n",
       "      <td>27</td>\n",
       "      <td>28</td>\n",
       "      <td>9</td>\n",
       "    </tr>\n",
       "    <tr>\n",
       "      <th>1</th>\n",
       "      <td>1</td>\n",
       "      <td>2</td>\n",
       "      <td>30</td>\n",
       "      <td>41</td>\n",
       "      <td>42</td>\n",
       "      <td>43</td>\n",
       "      <td>25</td>\n",
       "    </tr>\n",
       "    <tr>\n",
       "      <th>2</th>\n",
       "      <td>5</td>\n",
       "      <td>20</td>\n",
       "      <td>21</td>\n",
       "      <td>24</td>\n",
       "      <td>34</td>\n",
       "      <td>45</td>\n",
       "      <td>22</td>\n",
       "    </tr>\n",
       "    <tr>\n",
       "      <th>3</th>\n",
       "      <td>1</td>\n",
       "      <td>5</td>\n",
       "      <td>19</td>\n",
       "      <td>24</td>\n",
       "      <td>27</td>\n",
       "      <td>42</td>\n",
       "      <td>44</td>\n",
       "    </tr>\n",
       "    <tr>\n",
       "      <th>4</th>\n",
       "      <td>2</td>\n",
       "      <td>9</td>\n",
       "      <td>23</td>\n",
       "      <td>34</td>\n",
       "      <td>35</td>\n",
       "      <td>38</td>\n",
       "      <td>41</td>\n",
       "    </tr>\n",
       "    <tr>\n",
       "      <th>...</th>\n",
       "      <td>...</td>\n",
       "      <td>...</td>\n",
       "      <td>...</td>\n",
       "      <td>...</td>\n",
       "      <td>...</td>\n",
       "      <td>...</td>\n",
       "      <td>...</td>\n",
       "    </tr>\n",
       "    <tr>\n",
       "      <th>99</th>\n",
       "      <td>1</td>\n",
       "      <td>4</td>\n",
       "      <td>25</td>\n",
       "      <td>31</td>\n",
       "      <td>32</td>\n",
       "      <td>38</td>\n",
       "      <td>45</td>\n",
       "    </tr>\n",
       "    <tr>\n",
       "      <th>100</th>\n",
       "      <td>1</td>\n",
       "      <td>2</td>\n",
       "      <td>7</td>\n",
       "      <td>33</td>\n",
       "      <td>34</td>\n",
       "      <td>40</td>\n",
       "      <td>6</td>\n",
       "    </tr>\n",
       "    <tr>\n",
       "      <th>101</th>\n",
       "      <td>29</td>\n",
       "      <td>32</td>\n",
       "      <td>33</td>\n",
       "      <td>35</td>\n",
       "      <td>36</td>\n",
       "      <td>44</td>\n",
       "      <td>42</td>\n",
       "    </tr>\n",
       "    <tr>\n",
       "      <th>102</th>\n",
       "      <td>6</td>\n",
       "      <td>8</td>\n",
       "      <td>19</td>\n",
       "      <td>20</td>\n",
       "      <td>38</td>\n",
       "      <td>46</td>\n",
       "      <td>23</td>\n",
       "    </tr>\n",
       "    <tr>\n",
       "      <th>103</th>\n",
       "      <td>3</td>\n",
       "      <td>8</td>\n",
       "      <td>15</td>\n",
       "      <td>22</td>\n",
       "      <td>25</td>\n",
       "      <td>27</td>\n",
       "      <td>20</td>\n",
       "    </tr>\n",
       "  </tbody>\n",
       "</table>\n",
       "<p>104 rows × 7 columns</p>\n",
       "</div>"
      ],
      "text/plain": [
       "      A   B   C   D   E   F Bonus\n",
       "0     7  13  18  26  27  28     9\n",
       "1     1   2  30  41  42  43    25\n",
       "2     5  20  21  24  34  45    22\n",
       "3     1   5  19  24  27  42    44\n",
       "4     2   9  23  34  35  38    41\n",
       "..   ..  ..  ..  ..  ..  ..   ...\n",
       "99    1   4  25  31  32  38    45\n",
       "100   1   2   7  33  34  40     6\n",
       "101  29  32  33  35  36  44    42\n",
       "102   6   8  19  20  38  46    23\n",
       "103   3   8  15  22  25  27    20\n",
       "\n",
       "[104 rows x 7 columns]"
      ]
     },
     "execution_count": 32,
     "metadata": {},
     "output_type": "execute_result"
    }
   ],
   "source": [
    "#join the two dataframes\n",
    "df_2018 = pd.concat([df_ball_18, df_ball_bonus_18], axis=1)\n",
    "df_2018"
   ]
  },
  {
   "cell_type": "code",
   "execution_count": 33,
   "metadata": {},
   "outputs": [
    {
     "data": {
      "text/plain": [
       "<Response [200]>"
      ]
     },
     "execution_count": 33,
     "metadata": {},
     "output_type": "execute_result"
    }
   ],
   "source": [
    "lottery = \"https://www.irishlottery.com/archive-2017\"\n",
    "#Query the website and return the html to the variable 'page'\n",
    "page = requests.get(lottery)\n",
    "page"
   ]
  },
  {
   "cell_type": "code",
   "execution_count": 34,
   "metadata": {},
   "outputs": [
    {
     "data": {
      "text/plain": [
       "200"
      ]
     },
     "execution_count": 34,
     "metadata": {},
     "output_type": "execute_result"
    }
   ],
   "source": [
    "page.status_code"
   ]
  },
  {
   "cell_type": "code",
   "execution_count": 35,
   "metadata": {},
   "outputs": [],
   "source": [
    "soup = BeautifulSoup(page.content, 'lxml')"
   ]
  },
  {
   "cell_type": "code",
   "execution_count": 36,
   "metadata": {},
   "outputs": [
    {
     "data": {
      "text/plain": [
       "list"
      ]
     },
     "execution_count": 36,
     "metadata": {},
     "output_type": "execute_result"
    }
   ],
   "source": [
    "# Find the 6 lotto numbers available at the class = \"Ball\"\n",
    "ball_class_17 = soup.find_all(\"li\", class_=\"ball\")\n",
    "#get the text using list comprehension\n",
    "ball_17 = [pt.get_text() for pt in ball_class_17]\n",
    "type(ball_17)"
   ]
  },
  {
   "cell_type": "code",
   "execution_count": 37,
   "metadata": {},
   "outputs": [
    {
     "data": {
      "text/html": [
       "<div>\n",
       "<style scoped>\n",
       "    .dataframe tbody tr th:only-of-type {\n",
       "        vertical-align: middle;\n",
       "    }\n",
       "\n",
       "    .dataframe tbody tr th {\n",
       "        vertical-align: top;\n",
       "    }\n",
       "\n",
       "    .dataframe thead th {\n",
       "        text-align: right;\n",
       "    }\n",
       "</style>\n",
       "<table border=\"1\" class=\"dataframe\">\n",
       "  <thead>\n",
       "    <tr style=\"text-align: right;\">\n",
       "      <th></th>\n",
       "      <th>A</th>\n",
       "      <th>B</th>\n",
       "      <th>C</th>\n",
       "      <th>D</th>\n",
       "      <th>E</th>\n",
       "      <th>F</th>\n",
       "    </tr>\n",
       "  </thead>\n",
       "  <tbody>\n",
       "    <tr>\n",
       "      <th>0</th>\n",
       "      <td>2</td>\n",
       "      <td>8</td>\n",
       "      <td>14</td>\n",
       "      <td>18</td>\n",
       "      <td>39</td>\n",
       "      <td>44</td>\n",
       "    </tr>\n",
       "    <tr>\n",
       "      <th>1</th>\n",
       "      <td>17</td>\n",
       "      <td>20</td>\n",
       "      <td>22</td>\n",
       "      <td>24</td>\n",
       "      <td>25</td>\n",
       "      <td>40</td>\n",
       "    </tr>\n",
       "    <tr>\n",
       "      <th>2</th>\n",
       "      <td>5</td>\n",
       "      <td>14</td>\n",
       "      <td>28</td>\n",
       "      <td>29</td>\n",
       "      <td>32</td>\n",
       "      <td>38</td>\n",
       "    </tr>\n",
       "    <tr>\n",
       "      <th>3</th>\n",
       "      <td>15</td>\n",
       "      <td>16</td>\n",
       "      <td>18</td>\n",
       "      <td>26</td>\n",
       "      <td>27</td>\n",
       "      <td>38</td>\n",
       "    </tr>\n",
       "    <tr>\n",
       "      <th>4</th>\n",
       "      <td>1</td>\n",
       "      <td>21</td>\n",
       "      <td>33</td>\n",
       "      <td>37</td>\n",
       "      <td>38</td>\n",
       "      <td>40</td>\n",
       "    </tr>\n",
       "    <tr>\n",
       "      <th>...</th>\n",
       "      <td>...</td>\n",
       "      <td>...</td>\n",
       "      <td>...</td>\n",
       "      <td>...</td>\n",
       "      <td>...</td>\n",
       "      <td>...</td>\n",
       "    </tr>\n",
       "    <tr>\n",
       "      <th>99</th>\n",
       "      <td>2</td>\n",
       "      <td>12</td>\n",
       "      <td>24</td>\n",
       "      <td>31</td>\n",
       "      <td>34</td>\n",
       "      <td>43</td>\n",
       "    </tr>\n",
       "    <tr>\n",
       "      <th>100</th>\n",
       "      <td>2</td>\n",
       "      <td>4</td>\n",
       "      <td>11</td>\n",
       "      <td>22</td>\n",
       "      <td>25</td>\n",
       "      <td>34</td>\n",
       "    </tr>\n",
       "    <tr>\n",
       "      <th>101</th>\n",
       "      <td>8</td>\n",
       "      <td>12</td>\n",
       "      <td>13</td>\n",
       "      <td>16</td>\n",
       "      <td>19</td>\n",
       "      <td>24</td>\n",
       "    </tr>\n",
       "    <tr>\n",
       "      <th>102</th>\n",
       "      <td>33</td>\n",
       "      <td>36</td>\n",
       "      <td>39</td>\n",
       "      <td>42</td>\n",
       "      <td>45</td>\n",
       "      <td>47</td>\n",
       "    </tr>\n",
       "    <tr>\n",
       "      <th>103</th>\n",
       "      <td>6</td>\n",
       "      <td>10</td>\n",
       "      <td>19</td>\n",
       "      <td>21</td>\n",
       "      <td>43</td>\n",
       "      <td>44</td>\n",
       "    </tr>\n",
       "  </tbody>\n",
       "</table>\n",
       "<p>104 rows × 6 columns</p>\n",
       "</div>"
      ],
      "text/plain": [
       "      A   B   C   D   E   F\n",
       "0     2   8  14  18  39  44\n",
       "1    17  20  22  24  25  40\n",
       "2     5  14  28  29  32  38\n",
       "3    15  16  18  26  27  38\n",
       "4     1  21  33  37  38  40\n",
       "..   ..  ..  ..  ..  ..  ..\n",
       "99    2  12  24  31  34  43\n",
       "100   2   4  11  22  25  34\n",
       "101   8  12  13  16  19  24\n",
       "102  33  36  39  42  45  47\n",
       "103   6  10  19  21  43  44\n",
       "\n",
       "[104 rows x 6 columns]"
      ]
     },
     "execution_count": 37,
     "metadata": {},
     "output_type": "execute_result"
    }
   ],
   "source": [
    "df_ball_17 = pd.DataFrame(np.array(ball_17).reshape(-1,6),columns = list(\"ABCDEF\"))\n",
    "df_ball_17"
   ]
  },
  {
   "cell_type": "code",
   "execution_count": 38,
   "metadata": {},
   "outputs": [
    {
     "data": {
      "text/plain": [
       "list"
      ]
     },
     "execution_count": 38,
     "metadata": {},
     "output_type": "execute_result"
    }
   ],
   "source": [
    "ball_bonus_class_17 = soup.find_all(\"li\", class_=\"bonus-ball\")\n",
    "ball_bonus_17 = [pt.get_text() for pt in ball_bonus_class_17]\n",
    "type(ball_bonus_17)"
   ]
  },
  {
   "cell_type": "code",
   "execution_count": 39,
   "metadata": {},
   "outputs": [],
   "source": [
    "df_ball_bonus_17 = pd.DataFrame(ball_bonus_17,columns = ['Bonus'])"
   ]
  },
  {
   "cell_type": "code",
   "execution_count": 40,
   "metadata": {},
   "outputs": [
    {
     "data": {
      "text/html": [
       "<div>\n",
       "<style scoped>\n",
       "    .dataframe tbody tr th:only-of-type {\n",
       "        vertical-align: middle;\n",
       "    }\n",
       "\n",
       "    .dataframe tbody tr th {\n",
       "        vertical-align: top;\n",
       "    }\n",
       "\n",
       "    .dataframe thead th {\n",
       "        text-align: right;\n",
       "    }\n",
       "</style>\n",
       "<table border=\"1\" class=\"dataframe\">\n",
       "  <thead>\n",
       "    <tr style=\"text-align: right;\">\n",
       "      <th></th>\n",
       "      <th>A</th>\n",
       "      <th>B</th>\n",
       "      <th>C</th>\n",
       "      <th>D</th>\n",
       "      <th>E</th>\n",
       "      <th>F</th>\n",
       "      <th>Bonus</th>\n",
       "    </tr>\n",
       "  </thead>\n",
       "  <tbody>\n",
       "    <tr>\n",
       "      <th>0</th>\n",
       "      <td>2</td>\n",
       "      <td>8</td>\n",
       "      <td>14</td>\n",
       "      <td>18</td>\n",
       "      <td>39</td>\n",
       "      <td>44</td>\n",
       "      <td>16</td>\n",
       "    </tr>\n",
       "    <tr>\n",
       "      <th>1</th>\n",
       "      <td>17</td>\n",
       "      <td>20</td>\n",
       "      <td>22</td>\n",
       "      <td>24</td>\n",
       "      <td>25</td>\n",
       "      <td>40</td>\n",
       "      <td>18</td>\n",
       "    </tr>\n",
       "    <tr>\n",
       "      <th>2</th>\n",
       "      <td>5</td>\n",
       "      <td>14</td>\n",
       "      <td>28</td>\n",
       "      <td>29</td>\n",
       "      <td>32</td>\n",
       "      <td>38</td>\n",
       "      <td>31</td>\n",
       "    </tr>\n",
       "    <tr>\n",
       "      <th>3</th>\n",
       "      <td>15</td>\n",
       "      <td>16</td>\n",
       "      <td>18</td>\n",
       "      <td>26</td>\n",
       "      <td>27</td>\n",
       "      <td>38</td>\n",
       "      <td>43</td>\n",
       "    </tr>\n",
       "    <tr>\n",
       "      <th>4</th>\n",
       "      <td>1</td>\n",
       "      <td>21</td>\n",
       "      <td>33</td>\n",
       "      <td>37</td>\n",
       "      <td>38</td>\n",
       "      <td>40</td>\n",
       "      <td>8</td>\n",
       "    </tr>\n",
       "    <tr>\n",
       "      <th>...</th>\n",
       "      <td>...</td>\n",
       "      <td>...</td>\n",
       "      <td>...</td>\n",
       "      <td>...</td>\n",
       "      <td>...</td>\n",
       "      <td>...</td>\n",
       "      <td>...</td>\n",
       "    </tr>\n",
       "    <tr>\n",
       "      <th>99</th>\n",
       "      <td>2</td>\n",
       "      <td>12</td>\n",
       "      <td>24</td>\n",
       "      <td>31</td>\n",
       "      <td>34</td>\n",
       "      <td>43</td>\n",
       "      <td>47</td>\n",
       "    </tr>\n",
       "    <tr>\n",
       "      <th>100</th>\n",
       "      <td>2</td>\n",
       "      <td>4</td>\n",
       "      <td>11</td>\n",
       "      <td>22</td>\n",
       "      <td>25</td>\n",
       "      <td>34</td>\n",
       "      <td>7</td>\n",
       "    </tr>\n",
       "    <tr>\n",
       "      <th>101</th>\n",
       "      <td>8</td>\n",
       "      <td>12</td>\n",
       "      <td>13</td>\n",
       "      <td>16</td>\n",
       "      <td>19</td>\n",
       "      <td>24</td>\n",
       "      <td>15</td>\n",
       "    </tr>\n",
       "    <tr>\n",
       "      <th>102</th>\n",
       "      <td>33</td>\n",
       "      <td>36</td>\n",
       "      <td>39</td>\n",
       "      <td>42</td>\n",
       "      <td>45</td>\n",
       "      <td>47</td>\n",
       "      <td>38</td>\n",
       "    </tr>\n",
       "    <tr>\n",
       "      <th>103</th>\n",
       "      <td>6</td>\n",
       "      <td>10</td>\n",
       "      <td>19</td>\n",
       "      <td>21</td>\n",
       "      <td>43</td>\n",
       "      <td>44</td>\n",
       "      <td>3</td>\n",
       "    </tr>\n",
       "  </tbody>\n",
       "</table>\n",
       "<p>104 rows × 7 columns</p>\n",
       "</div>"
      ],
      "text/plain": [
       "      A   B   C   D   E   F Bonus\n",
       "0     2   8  14  18  39  44    16\n",
       "1    17  20  22  24  25  40    18\n",
       "2     5  14  28  29  32  38    31\n",
       "3    15  16  18  26  27  38    43\n",
       "4     1  21  33  37  38  40     8\n",
       "..   ..  ..  ..  ..  ..  ..   ...\n",
       "99    2  12  24  31  34  43    47\n",
       "100   2   4  11  22  25  34     7\n",
       "101   8  12  13  16  19  24    15\n",
       "102  33  36  39  42  45  47    38\n",
       "103   6  10  19  21  43  44     3\n",
       "\n",
       "[104 rows x 7 columns]"
      ]
     },
     "execution_count": 40,
     "metadata": {},
     "output_type": "execute_result"
    }
   ],
   "source": [
    "#join the two dataframes\n",
    "df_2017 = pd.concat([df_ball_17, df_ball_bonus_17], axis=1)\n",
    "df_2017"
   ]
  },
  {
   "cell_type": "code",
   "execution_count": 41,
   "metadata": {},
   "outputs": [
    {
     "data": {
      "text/plain": [
       "<Response [200]>"
      ]
     },
     "execution_count": 41,
     "metadata": {},
     "output_type": "execute_result"
    }
   ],
   "source": [
    "lottery = \"https://www.irishlottery.com/archive-2016\"\n",
    "#Query the website and return the html to the variable 'page'\n",
    "page = requests.get(lottery)\n",
    "page"
   ]
  },
  {
   "cell_type": "code",
   "execution_count": 42,
   "metadata": {},
   "outputs": [
    {
     "data": {
      "text/plain": [
       "200"
      ]
     },
     "execution_count": 42,
     "metadata": {},
     "output_type": "execute_result"
    }
   ],
   "source": [
    "page.status_code"
   ]
  },
  {
   "cell_type": "code",
   "execution_count": 43,
   "metadata": {},
   "outputs": [],
   "source": [
    "soup = BeautifulSoup(page.content, 'lxml')"
   ]
  },
  {
   "cell_type": "code",
   "execution_count": 44,
   "metadata": {},
   "outputs": [
    {
     "data": {
      "text/plain": [
       "list"
      ]
     },
     "execution_count": 44,
     "metadata": {},
     "output_type": "execute_result"
    }
   ],
   "source": [
    "# Find the 6 lotto numbers available at the class = \"Ball\"\n",
    "ball_class_16 = soup.find_all(\"li\", class_=\"ball\")\n",
    "#get the text using list comprehension\n",
    "ball_16 = [pt.get_text() for pt in ball_class_16]\n",
    "type(ball_16)"
   ]
  },
  {
   "cell_type": "code",
   "execution_count": 45,
   "metadata": {},
   "outputs": [
    {
     "data": {
      "text/html": [
       "<div>\n",
       "<style scoped>\n",
       "    .dataframe tbody tr th:only-of-type {\n",
       "        vertical-align: middle;\n",
       "    }\n",
       "\n",
       "    .dataframe tbody tr th {\n",
       "        vertical-align: top;\n",
       "    }\n",
       "\n",
       "    .dataframe thead th {\n",
       "        text-align: right;\n",
       "    }\n",
       "</style>\n",
       "<table border=\"1\" class=\"dataframe\">\n",
       "  <thead>\n",
       "    <tr style=\"text-align: right;\">\n",
       "      <th></th>\n",
       "      <th>A</th>\n",
       "      <th>B</th>\n",
       "      <th>C</th>\n",
       "      <th>D</th>\n",
       "      <th>E</th>\n",
       "      <th>F</th>\n",
       "    </tr>\n",
       "  </thead>\n",
       "  <tbody>\n",
       "    <tr>\n",
       "      <th>0</th>\n",
       "      <td>2</td>\n",
       "      <td>8</td>\n",
       "      <td>10</td>\n",
       "      <td>23</td>\n",
       "      <td>27</td>\n",
       "      <td>29</td>\n",
       "    </tr>\n",
       "    <tr>\n",
       "      <th>1</th>\n",
       "      <td>1</td>\n",
       "      <td>12</td>\n",
       "      <td>34</td>\n",
       "      <td>43</td>\n",
       "      <td>45</td>\n",
       "      <td>47</td>\n",
       "    </tr>\n",
       "    <tr>\n",
       "      <th>2</th>\n",
       "      <td>8</td>\n",
       "      <td>10</td>\n",
       "      <td>11</td>\n",
       "      <td>16</td>\n",
       "      <td>40</td>\n",
       "      <td>42</td>\n",
       "    </tr>\n",
       "    <tr>\n",
       "      <th>3</th>\n",
       "      <td>6</td>\n",
       "      <td>10</td>\n",
       "      <td>23</td>\n",
       "      <td>28</td>\n",
       "      <td>37</td>\n",
       "      <td>41</td>\n",
       "    </tr>\n",
       "    <tr>\n",
       "      <th>4</th>\n",
       "      <td>7</td>\n",
       "      <td>20</td>\n",
       "      <td>25</td>\n",
       "      <td>27</td>\n",
       "      <td>41</td>\n",
       "      <td>45</td>\n",
       "    </tr>\n",
       "    <tr>\n",
       "      <th>...</th>\n",
       "      <td>...</td>\n",
       "      <td>...</td>\n",
       "      <td>...</td>\n",
       "      <td>...</td>\n",
       "      <td>...</td>\n",
       "      <td>...</td>\n",
       "    </tr>\n",
       "    <tr>\n",
       "      <th>100</th>\n",
       "      <td>14</td>\n",
       "      <td>18</td>\n",
       "      <td>25</td>\n",
       "      <td>27</td>\n",
       "      <td>33</td>\n",
       "      <td>44</td>\n",
       "    </tr>\n",
       "    <tr>\n",
       "      <th>101</th>\n",
       "      <td>10</td>\n",
       "      <td>14</td>\n",
       "      <td>26</td>\n",
       "      <td>37</td>\n",
       "      <td>42</td>\n",
       "      <td>47</td>\n",
       "    </tr>\n",
       "    <tr>\n",
       "      <th>102</th>\n",
       "      <td>2</td>\n",
       "      <td>11</td>\n",
       "      <td>14</td>\n",
       "      <td>28</td>\n",
       "      <td>29</td>\n",
       "      <td>34</td>\n",
       "    </tr>\n",
       "    <tr>\n",
       "      <th>103</th>\n",
       "      <td>2</td>\n",
       "      <td>15</td>\n",
       "      <td>25</td>\n",
       "      <td>43</td>\n",
       "      <td>45</td>\n",
       "      <td>46</td>\n",
       "    </tr>\n",
       "    <tr>\n",
       "      <th>104</th>\n",
       "      <td>10</td>\n",
       "      <td>19</td>\n",
       "      <td>23</td>\n",
       "      <td>28</td>\n",
       "      <td>31</td>\n",
       "      <td>32</td>\n",
       "    </tr>\n",
       "  </tbody>\n",
       "</table>\n",
       "<p>105 rows × 6 columns</p>\n",
       "</div>"
      ],
      "text/plain": [
       "      A   B   C   D   E   F\n",
       "0     2   8  10  23  27  29\n",
       "1     1  12  34  43  45  47\n",
       "2     8  10  11  16  40  42\n",
       "3     6  10  23  28  37  41\n",
       "4     7  20  25  27  41  45\n",
       "..   ..  ..  ..  ..  ..  ..\n",
       "100  14  18  25  27  33  44\n",
       "101  10  14  26  37  42  47\n",
       "102   2  11  14  28  29  34\n",
       "103   2  15  25  43  45  46\n",
       "104  10  19  23  28  31  32\n",
       "\n",
       "[105 rows x 6 columns]"
      ]
     },
     "execution_count": 45,
     "metadata": {},
     "output_type": "execute_result"
    }
   ],
   "source": [
    "df_ball_16 = pd.DataFrame(np.array(ball_16).reshape(-1,6),columns = list(\"ABCDEF\"))\n",
    "df_ball_16"
   ]
  },
  {
   "cell_type": "code",
   "execution_count": 46,
   "metadata": {},
   "outputs": [
    {
     "data": {
      "text/plain": [
       "list"
      ]
     },
     "execution_count": 46,
     "metadata": {},
     "output_type": "execute_result"
    }
   ],
   "source": [
    "ball_bonus_class_16 = soup.find_all(\"li\", class_=\"bonus-ball\")\n",
    "ball_bonus_16 = [pt.get_text() for pt in ball_bonus_class_16]\n",
    "type(ball_bonus_16)"
   ]
  },
  {
   "cell_type": "code",
   "execution_count": 47,
   "metadata": {},
   "outputs": [],
   "source": [
    "df_ball_bonus_16 = pd.DataFrame(ball_bonus_16,columns = ['Bonus'])"
   ]
  },
  {
   "cell_type": "code",
   "execution_count": 48,
   "metadata": {},
   "outputs": [
    {
     "data": {
      "text/html": [
       "<div>\n",
       "<style scoped>\n",
       "    .dataframe tbody tr th:only-of-type {\n",
       "        vertical-align: middle;\n",
       "    }\n",
       "\n",
       "    .dataframe tbody tr th {\n",
       "        vertical-align: top;\n",
       "    }\n",
       "\n",
       "    .dataframe thead th {\n",
       "        text-align: right;\n",
       "    }\n",
       "</style>\n",
       "<table border=\"1\" class=\"dataframe\">\n",
       "  <thead>\n",
       "    <tr style=\"text-align: right;\">\n",
       "      <th></th>\n",
       "      <th>A</th>\n",
       "      <th>B</th>\n",
       "      <th>C</th>\n",
       "      <th>D</th>\n",
       "      <th>E</th>\n",
       "      <th>F</th>\n",
       "      <th>Bonus</th>\n",
       "    </tr>\n",
       "  </thead>\n",
       "  <tbody>\n",
       "    <tr>\n",
       "      <th>0</th>\n",
       "      <td>2</td>\n",
       "      <td>8</td>\n",
       "      <td>10</td>\n",
       "      <td>23</td>\n",
       "      <td>27</td>\n",
       "      <td>29</td>\n",
       "      <td>5</td>\n",
       "    </tr>\n",
       "    <tr>\n",
       "      <th>1</th>\n",
       "      <td>1</td>\n",
       "      <td>12</td>\n",
       "      <td>34</td>\n",
       "      <td>43</td>\n",
       "      <td>45</td>\n",
       "      <td>47</td>\n",
       "      <td>27</td>\n",
       "    </tr>\n",
       "    <tr>\n",
       "      <th>2</th>\n",
       "      <td>8</td>\n",
       "      <td>10</td>\n",
       "      <td>11</td>\n",
       "      <td>16</td>\n",
       "      <td>40</td>\n",
       "      <td>42</td>\n",
       "      <td>38</td>\n",
       "    </tr>\n",
       "    <tr>\n",
       "      <th>3</th>\n",
       "      <td>6</td>\n",
       "      <td>10</td>\n",
       "      <td>23</td>\n",
       "      <td>28</td>\n",
       "      <td>37</td>\n",
       "      <td>41</td>\n",
       "      <td>18</td>\n",
       "    </tr>\n",
       "    <tr>\n",
       "      <th>4</th>\n",
       "      <td>7</td>\n",
       "      <td>20</td>\n",
       "      <td>25</td>\n",
       "      <td>27</td>\n",
       "      <td>41</td>\n",
       "      <td>45</td>\n",
       "      <td>35</td>\n",
       "    </tr>\n",
       "    <tr>\n",
       "      <th>...</th>\n",
       "      <td>...</td>\n",
       "      <td>...</td>\n",
       "      <td>...</td>\n",
       "      <td>...</td>\n",
       "      <td>...</td>\n",
       "      <td>...</td>\n",
       "      <td>...</td>\n",
       "    </tr>\n",
       "    <tr>\n",
       "      <th>100</th>\n",
       "      <td>14</td>\n",
       "      <td>18</td>\n",
       "      <td>25</td>\n",
       "      <td>27</td>\n",
       "      <td>33</td>\n",
       "      <td>44</td>\n",
       "      <td>38</td>\n",
       "    </tr>\n",
       "    <tr>\n",
       "      <th>101</th>\n",
       "      <td>10</td>\n",
       "      <td>14</td>\n",
       "      <td>26</td>\n",
       "      <td>37</td>\n",
       "      <td>42</td>\n",
       "      <td>47</td>\n",
       "      <td>2</td>\n",
       "    </tr>\n",
       "    <tr>\n",
       "      <th>102</th>\n",
       "      <td>2</td>\n",
       "      <td>11</td>\n",
       "      <td>14</td>\n",
       "      <td>28</td>\n",
       "      <td>29</td>\n",
       "      <td>34</td>\n",
       "      <td>37</td>\n",
       "    </tr>\n",
       "    <tr>\n",
       "      <th>103</th>\n",
       "      <td>2</td>\n",
       "      <td>15</td>\n",
       "      <td>25</td>\n",
       "      <td>43</td>\n",
       "      <td>45</td>\n",
       "      <td>46</td>\n",
       "      <td>16</td>\n",
       "    </tr>\n",
       "    <tr>\n",
       "      <th>104</th>\n",
       "      <td>10</td>\n",
       "      <td>19</td>\n",
       "      <td>23</td>\n",
       "      <td>28</td>\n",
       "      <td>31</td>\n",
       "      <td>32</td>\n",
       "      <td>6</td>\n",
       "    </tr>\n",
       "  </tbody>\n",
       "</table>\n",
       "<p>105 rows × 7 columns</p>\n",
       "</div>"
      ],
      "text/plain": [
       "      A   B   C   D   E   F Bonus\n",
       "0     2   8  10  23  27  29     5\n",
       "1     1  12  34  43  45  47    27\n",
       "2     8  10  11  16  40  42    38\n",
       "3     6  10  23  28  37  41    18\n",
       "4     7  20  25  27  41  45    35\n",
       "..   ..  ..  ..  ..  ..  ..   ...\n",
       "100  14  18  25  27  33  44    38\n",
       "101  10  14  26  37  42  47     2\n",
       "102   2  11  14  28  29  34    37\n",
       "103   2  15  25  43  45  46    16\n",
       "104  10  19  23  28  31  32     6\n",
       "\n",
       "[105 rows x 7 columns]"
      ]
     },
     "execution_count": 48,
     "metadata": {},
     "output_type": "execute_result"
    }
   ],
   "source": [
    "#join the two dataframes\n",
    "df_2016 = pd.concat([df_ball_16, df_ball_bonus_16], axis=1)\n",
    "df_2016"
   ]
  },
  {
   "cell_type": "code",
   "execution_count": 49,
   "metadata": {},
   "outputs": [
    {
     "data": {
      "text/plain": [
       "<Response [200]>"
      ]
     },
     "execution_count": 49,
     "metadata": {},
     "output_type": "execute_result"
    }
   ],
   "source": [
    "lottery = \"https://www.irishlottery.com/archive-2021\"\n",
    "#Query the website and return the html to the variable 'page'\n",
    "page = requests.get(lottery)\n",
    "page"
   ]
  },
  {
   "cell_type": "code",
   "execution_count": 50,
   "metadata": {},
   "outputs": [
    {
     "data": {
      "text/plain": [
       "200"
      ]
     },
     "execution_count": 50,
     "metadata": {},
     "output_type": "execute_result"
    }
   ],
   "source": [
    "page.status_code"
   ]
  },
  {
   "cell_type": "code",
   "execution_count": 51,
   "metadata": {},
   "outputs": [],
   "source": [
    "soup = BeautifulSoup(page.content, 'lxml')"
   ]
  },
  {
   "cell_type": "code",
   "execution_count": 52,
   "metadata": {},
   "outputs": [
    {
     "data": {
      "text/plain": [
       "list"
      ]
     },
     "execution_count": 52,
     "metadata": {},
     "output_type": "execute_result"
    }
   ],
   "source": [
    "# Find the 6 lotto numbers available at the class = \"Ball\"\n",
    "ball_class_21 = soup.find_all(\"li\", class_=\"ball\")\n",
    "#get the text using list comprehension\n",
    "ball_21 = [pt.get_text() for pt in ball_class_21]\n",
    "type(ball_21)"
   ]
  },
  {
   "cell_type": "code",
   "execution_count": 53,
   "metadata": {},
   "outputs": [
    {
     "data": {
      "text/html": [
       "<div>\n",
       "<style scoped>\n",
       "    .dataframe tbody tr th:only-of-type {\n",
       "        vertical-align: middle;\n",
       "    }\n",
       "\n",
       "    .dataframe tbody tr th {\n",
       "        vertical-align: top;\n",
       "    }\n",
       "\n",
       "    .dataframe thead th {\n",
       "        text-align: right;\n",
       "    }\n",
       "</style>\n",
       "<table border=\"1\" class=\"dataframe\">\n",
       "  <thead>\n",
       "    <tr style=\"text-align: right;\">\n",
       "      <th></th>\n",
       "      <th>A</th>\n",
       "      <th>B</th>\n",
       "      <th>C</th>\n",
       "      <th>D</th>\n",
       "      <th>E</th>\n",
       "      <th>F</th>\n",
       "    </tr>\n",
       "  </thead>\n",
       "  <tbody>\n",
       "    <tr>\n",
       "      <th>0</th>\n",
       "      <td>10</td>\n",
       "      <td>17</td>\n",
       "      <td>42</td>\n",
       "      <td>43</td>\n",
       "      <td>45</td>\n",
       "      <td>47</td>\n",
       "    </tr>\n",
       "    <tr>\n",
       "      <th>1</th>\n",
       "      <td>8</td>\n",
       "      <td>10</td>\n",
       "      <td>14</td>\n",
       "      <td>23</td>\n",
       "      <td>39</td>\n",
       "      <td>47</td>\n",
       "    </tr>\n",
       "    <tr>\n",
       "      <th>2</th>\n",
       "      <td>3</td>\n",
       "      <td>6</td>\n",
       "      <td>18</td>\n",
       "      <td>26</td>\n",
       "      <td>42</td>\n",
       "      <td>47</td>\n",
       "    </tr>\n",
       "  </tbody>\n",
       "</table>\n",
       "</div>"
      ],
      "text/plain": [
       "    A   B   C   D   E   F\n",
       "0  10  17  42  43  45  47\n",
       "1   8  10  14  23  39  47\n",
       "2   3   6  18  26  42  47"
      ]
     },
     "execution_count": 53,
     "metadata": {},
     "output_type": "execute_result"
    }
   ],
   "source": [
    "df_ball_21 = pd.DataFrame(np.array(ball_21).reshape(-1,6),columns = list(\"ABCDEF\"))\n",
    "df_ball_21"
   ]
  },
  {
   "cell_type": "code",
   "execution_count": 54,
   "metadata": {},
   "outputs": [
    {
     "data": {
      "text/plain": [
       "list"
      ]
     },
     "execution_count": 54,
     "metadata": {},
     "output_type": "execute_result"
    }
   ],
   "source": [
    "ball_bonus_class_21 = soup.find_all(\"li\", class_=\"bonus-ball\")\n",
    "ball_bonus_21 = [pt.get_text() for pt in ball_bonus_class_21]\n",
    "type(ball_bonus_21)"
   ]
  },
  {
   "cell_type": "code",
   "execution_count": 55,
   "metadata": {},
   "outputs": [],
   "source": [
    "df_ball_bonus_21 = pd.DataFrame(ball_bonus_21,columns = ['Bonus'])"
   ]
  },
  {
   "cell_type": "code",
   "execution_count": 56,
   "metadata": {},
   "outputs": [
    {
     "data": {
      "text/html": [
       "<div>\n",
       "<style scoped>\n",
       "    .dataframe tbody tr th:only-of-type {\n",
       "        vertical-align: middle;\n",
       "    }\n",
       "\n",
       "    .dataframe tbody tr th {\n",
       "        vertical-align: top;\n",
       "    }\n",
       "\n",
       "    .dataframe thead th {\n",
       "        text-align: right;\n",
       "    }\n",
       "</style>\n",
       "<table border=\"1\" class=\"dataframe\">\n",
       "  <thead>\n",
       "    <tr style=\"text-align: right;\">\n",
       "      <th></th>\n",
       "      <th>A</th>\n",
       "      <th>B</th>\n",
       "      <th>C</th>\n",
       "      <th>D</th>\n",
       "      <th>E</th>\n",
       "      <th>F</th>\n",
       "      <th>Bonus</th>\n",
       "    </tr>\n",
       "  </thead>\n",
       "  <tbody>\n",
       "    <tr>\n",
       "      <th>0</th>\n",
       "      <td>10</td>\n",
       "      <td>17</td>\n",
       "      <td>42</td>\n",
       "      <td>43</td>\n",
       "      <td>45</td>\n",
       "      <td>47</td>\n",
       "      <td>37</td>\n",
       "    </tr>\n",
       "    <tr>\n",
       "      <th>1</th>\n",
       "      <td>8</td>\n",
       "      <td>10</td>\n",
       "      <td>14</td>\n",
       "      <td>23</td>\n",
       "      <td>39</td>\n",
       "      <td>47</td>\n",
       "      <td>5</td>\n",
       "    </tr>\n",
       "    <tr>\n",
       "      <th>2</th>\n",
       "      <td>3</td>\n",
       "      <td>6</td>\n",
       "      <td>18</td>\n",
       "      <td>26</td>\n",
       "      <td>42</td>\n",
       "      <td>47</td>\n",
       "      <td>1</td>\n",
       "    </tr>\n",
       "  </tbody>\n",
       "</table>\n",
       "</div>"
      ],
      "text/plain": [
       "    A   B   C   D   E   F Bonus\n",
       "0  10  17  42  43  45  47    37\n",
       "1   8  10  14  23  39  47     5\n",
       "2   3   6  18  26  42  47     1"
      ]
     },
     "execution_count": 56,
     "metadata": {},
     "output_type": "execute_result"
    }
   ],
   "source": [
    "#join the two dataframes\n",
    "df_2021 = pd.concat([df_ball_21, df_ball_bonus_21], axis=1)\n",
    "df_2021"
   ]
  },
  {
   "cell_type": "code",
   "execution_count": 57,
   "metadata": {
    "scrolled": true
   },
   "outputs": [
    {
     "data": {
      "text/html": [
       "<div>\n",
       "<style scoped>\n",
       "    .dataframe tbody tr th:only-of-type {\n",
       "        vertical-align: middle;\n",
       "    }\n",
       "\n",
       "    .dataframe tbody tr th {\n",
       "        vertical-align: top;\n",
       "    }\n",
       "\n",
       "    .dataframe thead th {\n",
       "        text-align: right;\n",
       "    }\n",
       "</style>\n",
       "<table border=\"1\" class=\"dataframe\">\n",
       "  <thead>\n",
       "    <tr style=\"text-align: right;\">\n",
       "      <th></th>\n",
       "      <th></th>\n",
       "      <th>A</th>\n",
       "      <th>B</th>\n",
       "      <th>C</th>\n",
       "      <th>D</th>\n",
       "      <th>E</th>\n",
       "      <th>F</th>\n",
       "      <th>Bonus</th>\n",
       "    </tr>\n",
       "  </thead>\n",
       "  <tbody>\n",
       "    <tr>\n",
       "      <th rowspan=\"5\" valign=\"top\">2016</th>\n",
       "      <th>0</th>\n",
       "      <td>2</td>\n",
       "      <td>8</td>\n",
       "      <td>10</td>\n",
       "      <td>23</td>\n",
       "      <td>27</td>\n",
       "      <td>29</td>\n",
       "      <td>5</td>\n",
       "    </tr>\n",
       "    <tr>\n",
       "      <th>1</th>\n",
       "      <td>1</td>\n",
       "      <td>12</td>\n",
       "      <td>34</td>\n",
       "      <td>43</td>\n",
       "      <td>45</td>\n",
       "      <td>47</td>\n",
       "      <td>27</td>\n",
       "    </tr>\n",
       "    <tr>\n",
       "      <th>2</th>\n",
       "      <td>8</td>\n",
       "      <td>10</td>\n",
       "      <td>11</td>\n",
       "      <td>16</td>\n",
       "      <td>40</td>\n",
       "      <td>42</td>\n",
       "      <td>38</td>\n",
       "    </tr>\n",
       "    <tr>\n",
       "      <th>3</th>\n",
       "      <td>6</td>\n",
       "      <td>10</td>\n",
       "      <td>23</td>\n",
       "      <td>28</td>\n",
       "      <td>37</td>\n",
       "      <td>41</td>\n",
       "      <td>18</td>\n",
       "    </tr>\n",
       "    <tr>\n",
       "      <th>4</th>\n",
       "      <td>7</td>\n",
       "      <td>20</td>\n",
       "      <td>25</td>\n",
       "      <td>27</td>\n",
       "      <td>41</td>\n",
       "      <td>45</td>\n",
       "      <td>35</td>\n",
       "    </tr>\n",
       "    <tr>\n",
       "      <th>...</th>\n",
       "      <th>...</th>\n",
       "      <td>...</td>\n",
       "      <td>...</td>\n",
       "      <td>...</td>\n",
       "      <td>...</td>\n",
       "      <td>...</td>\n",
       "      <td>...</td>\n",
       "      <td>...</td>\n",
       "    </tr>\n",
       "    <tr>\n",
       "      <th rowspan=\"2\" valign=\"top\">2020</th>\n",
       "      <th>103</th>\n",
       "      <td>2</td>\n",
       "      <td>5</td>\n",
       "      <td>16</td>\n",
       "      <td>17</td>\n",
       "      <td>22</td>\n",
       "      <td>23</td>\n",
       "      <td>36</td>\n",
       "    </tr>\n",
       "    <tr>\n",
       "      <th>104</th>\n",
       "      <td>4</td>\n",
       "      <td>5</td>\n",
       "      <td>23</td>\n",
       "      <td>30</td>\n",
       "      <td>42</td>\n",
       "      <td>47</td>\n",
       "      <td>3</td>\n",
       "    </tr>\n",
       "    <tr>\n",
       "      <th rowspan=\"3\" valign=\"top\">2021</th>\n",
       "      <th>0</th>\n",
       "      <td>10</td>\n",
       "      <td>17</td>\n",
       "      <td>42</td>\n",
       "      <td>43</td>\n",
       "      <td>45</td>\n",
       "      <td>47</td>\n",
       "      <td>37</td>\n",
       "    </tr>\n",
       "    <tr>\n",
       "      <th>1</th>\n",
       "      <td>8</td>\n",
       "      <td>10</td>\n",
       "      <td>14</td>\n",
       "      <td>23</td>\n",
       "      <td>39</td>\n",
       "      <td>47</td>\n",
       "      <td>5</td>\n",
       "    </tr>\n",
       "    <tr>\n",
       "      <th>2</th>\n",
       "      <td>3</td>\n",
       "      <td>6</td>\n",
       "      <td>18</td>\n",
       "      <td>26</td>\n",
       "      <td>42</td>\n",
       "      <td>47</td>\n",
       "      <td>1</td>\n",
       "    </tr>\n",
       "  </tbody>\n",
       "</table>\n",
       "<p>525 rows × 7 columns</p>\n",
       "</div>"
      ],
      "text/plain": [
       "           A   B   C   D   E   F Bonus\n",
       "2016 0     2   8  10  23  27  29     5\n",
       "     1     1  12  34  43  45  47    27\n",
       "     2     8  10  11  16  40  42    38\n",
       "     3     6  10  23  28  37  41    18\n",
       "     4     7  20  25  27  41  45    35\n",
       "...       ..  ..  ..  ..  ..  ..   ...\n",
       "2020 103   2   5  16  17  22  23    36\n",
       "     104   4   5  23  30  42  47     3\n",
       "2021 0    10  17  42  43  45  47    37\n",
       "     1     8  10  14  23  39  47     5\n",
       "     2     3   6  18  26  42  47     1\n",
       "\n",
       "[525 rows x 7 columns]"
      ]
     },
     "execution_count": 57,
     "metadata": {},
     "output_type": "execute_result"
    }
   ],
   "source": [
    "frames = [df_2016, df_2017, df_2018, df_2019, df_2020, df_2021]\n",
    "df_combined = pd.concat(frames, keys=['2016', '2017', '2018', '2019', '2020', '2021'])\n",
    "df_combined"
   ]
  },
  {
   "cell_type": "code",
   "execution_count": 58,
   "metadata": {},
   "outputs": [],
   "source": [
    "df_combined.to_csv('lotto_results.csv')"
   ]
  },
  {
   "cell_type": "code",
   "execution_count": 59,
   "metadata": {},
   "outputs": [
    {
     "data": {
      "text/html": [
       "<div>\n",
       "<style scoped>\n",
       "    .dataframe tbody tr th:only-of-type {\n",
       "        vertical-align: middle;\n",
       "    }\n",
       "\n",
       "    .dataframe tbody tr th {\n",
       "        vertical-align: top;\n",
       "    }\n",
       "\n",
       "    .dataframe thead th {\n",
       "        text-align: right;\n",
       "    }\n",
       "</style>\n",
       "<table border=\"1\" class=\"dataframe\">\n",
       "  <thead>\n",
       "    <tr style=\"text-align: right;\">\n",
       "      <th></th>\n",
       "      <th>Unnamed: 0</th>\n",
       "      <th>A</th>\n",
       "      <th>B</th>\n",
       "      <th>C</th>\n",
       "      <th>D</th>\n",
       "      <th>E</th>\n",
       "      <th>F</th>\n",
       "      <th>Bonus</th>\n",
       "    </tr>\n",
       "  </thead>\n",
       "  <tbody>\n",
       "    <tr>\n",
       "      <th>0</th>\n",
       "      <td>2016</td>\n",
       "      <td>2</td>\n",
       "      <td>8</td>\n",
       "      <td>10</td>\n",
       "      <td>23</td>\n",
       "      <td>27</td>\n",
       "      <td>29</td>\n",
       "      <td>5</td>\n",
       "    </tr>\n",
       "    <tr>\n",
       "      <th>1</th>\n",
       "      <td>2016</td>\n",
       "      <td>1</td>\n",
       "      <td>12</td>\n",
       "      <td>34</td>\n",
       "      <td>43</td>\n",
       "      <td>45</td>\n",
       "      <td>47</td>\n",
       "      <td>27</td>\n",
       "    </tr>\n",
       "    <tr>\n",
       "      <th>2</th>\n",
       "      <td>2016</td>\n",
       "      <td>8</td>\n",
       "      <td>10</td>\n",
       "      <td>11</td>\n",
       "      <td>16</td>\n",
       "      <td>40</td>\n",
       "      <td>42</td>\n",
       "      <td>38</td>\n",
       "    </tr>\n",
       "    <tr>\n",
       "      <th>3</th>\n",
       "      <td>2016</td>\n",
       "      <td>6</td>\n",
       "      <td>10</td>\n",
       "      <td>23</td>\n",
       "      <td>28</td>\n",
       "      <td>37</td>\n",
       "      <td>41</td>\n",
       "      <td>18</td>\n",
       "    </tr>\n",
       "    <tr>\n",
       "      <th>4</th>\n",
       "      <td>2016</td>\n",
       "      <td>7</td>\n",
       "      <td>20</td>\n",
       "      <td>25</td>\n",
       "      <td>27</td>\n",
       "      <td>41</td>\n",
       "      <td>45</td>\n",
       "      <td>35</td>\n",
       "    </tr>\n",
       "    <tr>\n",
       "      <th>...</th>\n",
       "      <td>...</td>\n",
       "      <td>...</td>\n",
       "      <td>...</td>\n",
       "      <td>...</td>\n",
       "      <td>...</td>\n",
       "      <td>...</td>\n",
       "      <td>...</td>\n",
       "      <td>...</td>\n",
       "    </tr>\n",
       "    <tr>\n",
       "      <th>520</th>\n",
       "      <td>2020</td>\n",
       "      <td>2</td>\n",
       "      <td>5</td>\n",
       "      <td>16</td>\n",
       "      <td>17</td>\n",
       "      <td>22</td>\n",
       "      <td>23</td>\n",
       "      <td>36</td>\n",
       "    </tr>\n",
       "    <tr>\n",
       "      <th>521</th>\n",
       "      <td>2020</td>\n",
       "      <td>4</td>\n",
       "      <td>5</td>\n",
       "      <td>23</td>\n",
       "      <td>30</td>\n",
       "      <td>42</td>\n",
       "      <td>47</td>\n",
       "      <td>3</td>\n",
       "    </tr>\n",
       "    <tr>\n",
       "      <th>522</th>\n",
       "      <td>2021</td>\n",
       "      <td>10</td>\n",
       "      <td>17</td>\n",
       "      <td>42</td>\n",
       "      <td>43</td>\n",
       "      <td>45</td>\n",
       "      <td>47</td>\n",
       "      <td>37</td>\n",
       "    </tr>\n",
       "    <tr>\n",
       "      <th>523</th>\n",
       "      <td>2021</td>\n",
       "      <td>8</td>\n",
       "      <td>10</td>\n",
       "      <td>14</td>\n",
       "      <td>23</td>\n",
       "      <td>39</td>\n",
       "      <td>47</td>\n",
       "      <td>5</td>\n",
       "    </tr>\n",
       "    <tr>\n",
       "      <th>524</th>\n",
       "      <td>2021</td>\n",
       "      <td>3</td>\n",
       "      <td>6</td>\n",
       "      <td>18</td>\n",
       "      <td>26</td>\n",
       "      <td>42</td>\n",
       "      <td>47</td>\n",
       "      <td>1</td>\n",
       "    </tr>\n",
       "  </tbody>\n",
       "</table>\n",
       "<p>525 rows × 8 columns</p>\n",
       "</div>"
      ],
      "text/plain": [
       "     Unnamed: 0   A   B   C   D   E   F  Bonus\n",
       "0          2016   2   8  10  23  27  29      5\n",
       "1          2016   1  12  34  43  45  47     27\n",
       "2          2016   8  10  11  16  40  42     38\n",
       "3          2016   6  10  23  28  37  41     18\n",
       "4          2016   7  20  25  27  41  45     35\n",
       "..          ...  ..  ..  ..  ..  ..  ..    ...\n",
       "520        2020   2   5  16  17  22  23     36\n",
       "521        2020   4   5  23  30  42  47      3\n",
       "522        2021  10  17  42  43  45  47     37\n",
       "523        2021   8  10  14  23  39  47      5\n",
       "524        2021   3   6  18  26  42  47      1\n",
       "\n",
       "[525 rows x 8 columns]"
      ]
     },
     "execution_count": 59,
     "metadata": {},
     "output_type": "execute_result"
    }
   ],
   "source": [
    "df_lotto = pd.read_csv('lotto_results.csv')\n",
    "df_lotto = df_lotto.drop(['Unnamed: 1'], axis=1)\n",
    "df_lotto"
   ]
  },
  {
   "cell_type": "code",
   "execution_count": 60,
   "metadata": {},
   "outputs": [],
   "source": [
    "df_lotto = df_lotto.rename(columns={\"Unnamed: 0\": \"Year\"})"
   ]
  },
  {
   "cell_type": "code",
   "execution_count": 61,
   "metadata": {},
   "outputs": [
    {
     "data": {
      "text/html": [
       "<div>\n",
       "<style scoped>\n",
       "    .dataframe tbody tr th:only-of-type {\n",
       "        vertical-align: middle;\n",
       "    }\n",
       "\n",
       "    .dataframe tbody tr th {\n",
       "        vertical-align: top;\n",
       "    }\n",
       "\n",
       "    .dataframe thead th {\n",
       "        text-align: right;\n",
       "    }\n",
       "</style>\n",
       "<table border=\"1\" class=\"dataframe\">\n",
       "  <thead>\n",
       "    <tr style=\"text-align: right;\">\n",
       "      <th></th>\n",
       "      <th>Year</th>\n",
       "      <th>A</th>\n",
       "      <th>B</th>\n",
       "      <th>C</th>\n",
       "      <th>D</th>\n",
       "      <th>E</th>\n",
       "      <th>F</th>\n",
       "      <th>Bonus</th>\n",
       "    </tr>\n",
       "  </thead>\n",
       "  <tbody>\n",
       "    <tr>\n",
       "      <th>count</th>\n",
       "      <td>525.000000</td>\n",
       "      <td>525.000000</td>\n",
       "      <td>525.000000</td>\n",
       "      <td>525.000000</td>\n",
       "      <td>525.000000</td>\n",
       "      <td>525.000000</td>\n",
       "      <td>525.000000</td>\n",
       "      <td>525.000000</td>\n",
       "    </tr>\n",
       "    <tr>\n",
       "      <th>mean</th>\n",
       "      <td>2018.017143</td>\n",
       "      <td>6.912381</td>\n",
       "      <td>13.592381</td>\n",
       "      <td>20.571429</td>\n",
       "      <td>27.316190</td>\n",
       "      <td>34.106667</td>\n",
       "      <td>41.125714</td>\n",
       "      <td>24.354286</td>\n",
       "    </tr>\n",
       "    <tr>\n",
       "      <th>std</th>\n",
       "      <td>1.432212</td>\n",
       "      <td>5.681423</td>\n",
       "      <td>7.150611</td>\n",
       "      <td>7.687674</td>\n",
       "      <td>7.506932</td>\n",
       "      <td>7.124577</td>\n",
       "      <td>5.538158</td>\n",
       "      <td>13.776162</td>\n",
       "    </tr>\n",
       "    <tr>\n",
       "      <th>min</th>\n",
       "      <td>2016.000000</td>\n",
       "      <td>1.000000</td>\n",
       "      <td>2.000000</td>\n",
       "      <td>3.000000</td>\n",
       "      <td>6.000000</td>\n",
       "      <td>11.000000</td>\n",
       "      <td>19.000000</td>\n",
       "      <td>1.000000</td>\n",
       "    </tr>\n",
       "    <tr>\n",
       "      <th>25%</th>\n",
       "      <td>2017.000000</td>\n",
       "      <td>3.000000</td>\n",
       "      <td>8.000000</td>\n",
       "      <td>15.000000</td>\n",
       "      <td>22.000000</td>\n",
       "      <td>29.000000</td>\n",
       "      <td>38.000000</td>\n",
       "      <td>12.000000</td>\n",
       "    </tr>\n",
       "    <tr>\n",
       "      <th>50%</th>\n",
       "      <td>2018.000000</td>\n",
       "      <td>5.000000</td>\n",
       "      <td>13.000000</td>\n",
       "      <td>20.000000</td>\n",
       "      <td>27.000000</td>\n",
       "      <td>35.000000</td>\n",
       "      <td>42.000000</td>\n",
       "      <td>25.000000</td>\n",
       "    </tr>\n",
       "    <tr>\n",
       "      <th>75%</th>\n",
       "      <td>2019.000000</td>\n",
       "      <td>9.000000</td>\n",
       "      <td>18.000000</td>\n",
       "      <td>26.000000</td>\n",
       "      <td>33.000000</td>\n",
       "      <td>40.000000</td>\n",
       "      <td>46.000000</td>\n",
       "      <td>37.000000</td>\n",
       "    </tr>\n",
       "    <tr>\n",
       "      <th>max</th>\n",
       "      <td>2021.000000</td>\n",
       "      <td>33.000000</td>\n",
       "      <td>38.000000</td>\n",
       "      <td>44.000000</td>\n",
       "      <td>45.000000</td>\n",
       "      <td>46.000000</td>\n",
       "      <td>47.000000</td>\n",
       "      <td>47.000000</td>\n",
       "    </tr>\n",
       "  </tbody>\n",
       "</table>\n",
       "</div>"
      ],
      "text/plain": [
       "              Year           A           B           C           D  \\\n",
       "count   525.000000  525.000000  525.000000  525.000000  525.000000   \n",
       "mean   2018.017143    6.912381   13.592381   20.571429   27.316190   \n",
       "std       1.432212    5.681423    7.150611    7.687674    7.506932   \n",
       "min    2016.000000    1.000000    2.000000    3.000000    6.000000   \n",
       "25%    2017.000000    3.000000    8.000000   15.000000   22.000000   \n",
       "50%    2018.000000    5.000000   13.000000   20.000000   27.000000   \n",
       "75%    2019.000000    9.000000   18.000000   26.000000   33.000000   \n",
       "max    2021.000000   33.000000   38.000000   44.000000   45.000000   \n",
       "\n",
       "                E           F       Bonus  \n",
       "count  525.000000  525.000000  525.000000  \n",
       "mean    34.106667   41.125714   24.354286  \n",
       "std      7.124577    5.538158   13.776162  \n",
       "min     11.000000   19.000000    1.000000  \n",
       "25%     29.000000   38.000000   12.000000  \n",
       "50%     35.000000   42.000000   25.000000  \n",
       "75%     40.000000   46.000000   37.000000  \n",
       "max     46.000000   47.000000   47.000000  "
      ]
     },
     "execution_count": 61,
     "metadata": {},
     "output_type": "execute_result"
    }
   ],
   "source": [
    "df_lotto.describe()"
   ]
  },
  {
   "cell_type": "code",
   "execution_count": 62,
   "metadata": {},
   "outputs": [
    {
     "data": {
      "text/html": [
       "<div>\n",
       "<style scoped>\n",
       "    .dataframe tbody tr th:only-of-type {\n",
       "        vertical-align: middle;\n",
       "    }\n",
       "\n",
       "    .dataframe tbody tr th {\n",
       "        vertical-align: top;\n",
       "    }\n",
       "\n",
       "    .dataframe thead th {\n",
       "        text-align: right;\n",
       "    }\n",
       "</style>\n",
       "<table border=\"1\" class=\"dataframe\">\n",
       "  <thead>\n",
       "    <tr style=\"text-align: right;\">\n",
       "      <th></th>\n",
       "      <th>A</th>\n",
       "      <th>B</th>\n",
       "      <th>C</th>\n",
       "      <th>D</th>\n",
       "      <th>E</th>\n",
       "      <th>F</th>\n",
       "    </tr>\n",
       "  </thead>\n",
       "  <tbody>\n",
       "    <tr>\n",
       "      <th>0</th>\n",
       "      <td>2</td>\n",
       "      <td>8</td>\n",
       "      <td>10</td>\n",
       "      <td>23</td>\n",
       "      <td>27</td>\n",
       "      <td>29</td>\n",
       "    </tr>\n",
       "    <tr>\n",
       "      <th>1</th>\n",
       "      <td>1</td>\n",
       "      <td>12</td>\n",
       "      <td>34</td>\n",
       "      <td>43</td>\n",
       "      <td>45</td>\n",
       "      <td>47</td>\n",
       "    </tr>\n",
       "    <tr>\n",
       "      <th>2</th>\n",
       "      <td>8</td>\n",
       "      <td>10</td>\n",
       "      <td>11</td>\n",
       "      <td>16</td>\n",
       "      <td>40</td>\n",
       "      <td>42</td>\n",
       "    </tr>\n",
       "    <tr>\n",
       "      <th>3</th>\n",
       "      <td>6</td>\n",
       "      <td>10</td>\n",
       "      <td>23</td>\n",
       "      <td>28</td>\n",
       "      <td>37</td>\n",
       "      <td>41</td>\n",
       "    </tr>\n",
       "    <tr>\n",
       "      <th>4</th>\n",
       "      <td>7</td>\n",
       "      <td>20</td>\n",
       "      <td>25</td>\n",
       "      <td>27</td>\n",
       "      <td>41</td>\n",
       "      <td>45</td>\n",
       "    </tr>\n",
       "    <tr>\n",
       "      <th>...</th>\n",
       "      <td>...</td>\n",
       "      <td>...</td>\n",
       "      <td>...</td>\n",
       "      <td>...</td>\n",
       "      <td>...</td>\n",
       "      <td>...</td>\n",
       "    </tr>\n",
       "    <tr>\n",
       "      <th>520</th>\n",
       "      <td>2</td>\n",
       "      <td>5</td>\n",
       "      <td>16</td>\n",
       "      <td>17</td>\n",
       "      <td>22</td>\n",
       "      <td>23</td>\n",
       "    </tr>\n",
       "    <tr>\n",
       "      <th>521</th>\n",
       "      <td>4</td>\n",
       "      <td>5</td>\n",
       "      <td>23</td>\n",
       "      <td>30</td>\n",
       "      <td>42</td>\n",
       "      <td>47</td>\n",
       "    </tr>\n",
       "    <tr>\n",
       "      <th>522</th>\n",
       "      <td>10</td>\n",
       "      <td>17</td>\n",
       "      <td>42</td>\n",
       "      <td>43</td>\n",
       "      <td>45</td>\n",
       "      <td>47</td>\n",
       "    </tr>\n",
       "    <tr>\n",
       "      <th>523</th>\n",
       "      <td>8</td>\n",
       "      <td>10</td>\n",
       "      <td>14</td>\n",
       "      <td>23</td>\n",
       "      <td>39</td>\n",
       "      <td>47</td>\n",
       "    </tr>\n",
       "    <tr>\n",
       "      <th>524</th>\n",
       "      <td>3</td>\n",
       "      <td>6</td>\n",
       "      <td>18</td>\n",
       "      <td>26</td>\n",
       "      <td>42</td>\n",
       "      <td>47</td>\n",
       "    </tr>\n",
       "  </tbody>\n",
       "</table>\n",
       "<p>525 rows × 6 columns</p>\n",
       "</div>"
      ],
      "text/plain": [
       "      A   B   C   D   E   F\n",
       "0     2   8  10  23  27  29\n",
       "1     1  12  34  43  45  47\n",
       "2     8  10  11  16  40  42\n",
       "3     6  10  23  28  37  41\n",
       "4     7  20  25  27  41  45\n",
       "..   ..  ..  ..  ..  ..  ..\n",
       "520   2   5  16  17  22  23\n",
       "521   4   5  23  30  42  47\n",
       "522  10  17  42  43  45  47\n",
       "523   8  10  14  23  39  47\n",
       "524   3   6  18  26  42  47\n",
       "\n",
       "[525 rows x 6 columns]"
      ]
     },
     "execution_count": 62,
     "metadata": {},
     "output_type": "execute_result"
    }
   ],
   "source": [
    "df_ball = df_lotto.drop(['Year','Bonus'], axis=1)\n",
    "df_ball"
   ]
  },
  {
   "cell_type": "code",
   "execution_count": 63,
   "metadata": {},
   "outputs": [],
   "source": [
    "list_ball = list(df_ball.values.T.flatten())"
   ]
  },
  {
   "cell_type": "code",
   "execution_count": 64,
   "metadata": {},
   "outputs": [],
   "source": [
    "## The maximum occurance of number in the list of numbers\n",
    "from collections import Counter\n",
    "most_common,num_most_common = Counter(list_ball).most_common(1)[0]"
   ]
  },
  {
   "cell_type": "code",
   "execution_count": 65,
   "metadata": {},
   "outputs": [
    {
     "name": "stdout",
     "output_type": "stream",
     "text": [
      "27\n",
      "88\n"
     ]
    }
   ],
   "source": [
    "print(most_common)\n",
    "print(num_most_common)"
   ]
  },
  {
   "cell_type": "code",
   "execution_count": 66,
   "metadata": {},
   "outputs": [
    {
     "data": {
      "text/plain": [
       "[(27, 88), (42, 86), (29, 82), (47, 79), (10, 78), (16, 78)]"
      ]
     },
     "execution_count": 66,
     "metadata": {},
     "output_type": "execute_result"
    }
   ],
   "source": [
    "# find the 6 most common numbers in the list\n",
    "most_common_6 = Counter(list_ball).most_common(6)\n",
    "most_common_6"
   ]
  },
  {
   "cell_type": "code",
   "execution_count": 67,
   "metadata": {},
   "outputs": [
    {
     "name": "stdout",
     "output_type": "stream",
     "text": [
      "[27, 42, 29, 47, 10, 16, 18, 22, 15, 31, 7, 14, 2, 34, 30, 23, 38, 37, 20, 28, 45, 9, 40, 1, 5, 8, 39, 3, 19, 24, 17, 33, 6, 4, 12, 44, 25, 46, 13, 35, 11, 21, 41, 32, 43, 36, 26]\n",
      "{2: 72, 1: 67, 8: 66, 6: 61, 7: 74, 4: 61, 30: 71, 3: 63, 12: 61, 13: 59, 20: 70, 11: 58, 5: 67, 9: 68, 10: 78, 22: 75, 15: 75, 16: 78, 19: 63, 14: 74, 21: 58, 17: 62, 31: 75, 18: 77, 27: 88, 33: 62, 26: 47, 23: 71, 29: 82, 36: 48, 25: 60, 35: 59, 28: 70, 32: 53, 38: 71, 24: 63, 34: 72, 37: 71, 39: 66, 44: 61, 42: 86, 43: 53, 40: 68, 41: 58, 45: 69, 46: 60, 47: 79}\n"
     ]
    }
   ],
   "source": [
    "number_counter = {}\n",
    "for number in list_ball:\n",
    "    if number in number_counter:\n",
    "        number_counter[number] += 1\n",
    "    else:\n",
    "        number_counter[number] = 1\n",
    " \n",
    "popular_numbers = sorted(number_counter, key = number_counter.get, reverse = True)\n",
    " \n",
    "print(popular_numbers)\n",
    "print(number_counter)"
   ]
  },
  {
   "cell_type": "code",
   "execution_count": 68,
   "metadata": {},
   "outputs": [
    {
     "data": {
      "image/png": "[encoded data removed]",
      "text/plain": [
       "<Figure size 432x288 with 1 Axes>"
      ]
     },
     "metadata": {
      "needs_background": "light"
     },
     "output_type": "display_data"
    }
   ],
   "source": [
    "#for plot of the most popular numbers\n",
    "import matplotlib.pyplot as plt\n",
    "%matplotlib inline\n",
    "\n",
    "#lists = sorted(number_counter.items()) # sorted by key, return a list of tuples\n",
    "x, y = zip(*number_counter.items()) # unpack a list of pairs into two tuples\n",
    "\n",
    "plt.plot(x, y, \".\")\n",
    "plt.ylabel('times')\n",
    "plt.xlabel(\"Numbers\")\n",
    "plt.title(\"Occurance of numbers\")\n",
    "\n",
    "plt.show()"
   ]
  },
  {
   "cell_type": "code",
   "execution_count": 69,
   "metadata": {
    "scrolled": false
   },
   "outputs": [
    {
     "name": "stdout",
     "output_type": "stream",
     "text": [
      "27\t: \t 88 times\n",
      "42\t: \t 86 times\n",
      "29\t: \t 82 times\n",
      "47\t: \t 79 times\n",
      "10\t: \t 78 times\n",
      "16\t: \t 78 times\n",
      "18\t: \t 77 times\n",
      "22\t: \t 75 times\n",
      "15\t: \t 75 times\n",
      "31\t: \t 75 times\n",
      "7\t: \t 74 times\n",
      "14\t: \t 74 times\n",
      "2\t: \t 72 times\n",
      "34\t: \t 72 times\n",
      "30\t: \t 71 times\n",
      "23\t: \t 71 times\n",
      "38\t: \t 71 times\n",
      "37\t: \t 71 times\n",
      "20\t: \t 70 times\n",
      "28\t: \t 70 times\n",
      "45\t: \t 69 times\n",
      "9\t: \t 68 times\n",
      "40\t: \t 68 times\n",
      "1\t: \t 67 times\n",
      "5\t: \t 67 times\n",
      "8\t: \t 66 times\n",
      "39\t: \t 66 times\n",
      "3\t: \t 63 times\n",
      "19\t: \t 63 times\n",
      "24\t: \t 63 times\n",
      "17\t: \t 62 times\n",
      "33\t: \t 62 times\n",
      "6\t: \t 61 times\n",
      "4\t: \t 61 times\n",
      "12\t: \t 61 times\n",
      "44\t: \t 61 times\n",
      "25\t: \t 60 times\n",
      "46\t: \t 60 times\n",
      "13\t: \t 59 times\n",
      "35\t: \t 59 times\n",
      "11\t: \t 58 times\n",
      "21\t: \t 58 times\n",
      "41\t: \t 58 times\n",
      "32\t: \t 53 times\n",
      "43\t: \t 53 times\n",
      "36\t: \t 48 times\n",
      "26\t: \t 47 times\n"
     ]
    }
   ],
   "source": [
    "#print the dictionary with sorted values\n",
    "dictionary_numbers = Counter(list_ball)\n",
    "dictionary_numbers_sorted_keys = sorted(dictionary_numbers, key=dictionary_numbers.get, reverse=True)\n",
    "for r in dictionary_numbers_sorted_keys:\n",
    "    print (\"{}\\t: \\t {} times\".format(r, dictionary_numbers[r]))"
   ]
  },
  {
   "cell_type": "code",
   "execution_count": 70,
   "metadata": {},
   "outputs": [
    {
     "data": {
      "text/plain": [
       "35    18\n",
       "31    17\n",
       "43    17\n",
       "37    17\n",
       "17    16\n",
       "38    14\n",
       "7     14\n",
       "9     14\n",
       "3     14\n",
       "5     14\n",
       "13    14\n",
       "16    14\n",
       "12    14\n",
       "41    13\n",
       "34    13\n",
       "19    12\n",
       "20    12\n",
       "14    12\n",
       "42    12\n",
       "45    12\n",
       "27    11\n",
       "46    11\n",
       "40    11\n",
       "2     11\n",
       "1     11\n",
       "29    10\n",
       "28    10\n",
       "25    10\n",
       "33    10\n",
       "22    10\n",
       "39    10\n",
       "11    10\n",
       "4      9\n",
       "10     9\n",
       "47     9\n",
       "36     9\n",
       "44     9\n",
       "15     8\n",
       "18     8\n",
       "21     8\n",
       "6      8\n",
       "30     8\n",
       "24     8\n",
       "23     7\n",
       "32     7\n",
       "26     6\n",
       "8      4\n",
       "Name: Bonus, dtype: int64"
      ]
     },
     "execution_count": 70,
     "metadata": {},
     "output_type": "execute_result"
    }
   ],
   "source": [
    "#counts of unique values for the bonus to find the most occuring numbers\n",
    "df_lotto['Bonus'].value_counts()"
   ]
  },
  {
   "cell_type": "code",
   "execution_count": 71,
   "metadata": {},
   "outputs": [
    {
     "data": {
      "text/plain": [
       "23.937460317460317"
      ]
     },
     "execution_count": 71,
     "metadata": {},
     "output_type": "execute_result"
    }
   ],
   "source": [
    "#mean\n",
    "np.mean(list_ball)"
   ]
  },
  {
   "cell_type": "code",
   "execution_count": 72,
   "metadata": {},
   "outputs": [
    {
     "data": {
      "text/plain": [
       "13.529165200053182"
      ]
     },
     "execution_count": 72,
     "metadata": {},
     "output_type": "execute_result"
    }
   ],
   "source": [
    "#standard deviation\n",
    "np.std(list_ball)"
   ]
  },
  {
   "cell_type": "code",
   "execution_count": 73,
   "metadata": {},
   "outputs": [
    {
     "data": {
      "text/plain": [
       "24.0"
      ]
     },
     "execution_count": 73,
     "metadata": {},
     "output_type": "execute_result"
    }
   ],
   "source": [
    "np.median(list_ball)"
   ]
  },
  {
   "cell_type": "code",
   "execution_count": 74,
   "metadata": {
    "scrolled": true
   },
   "outputs": [],
   "source": [
    "list_ball_2021 = list(df_2021.drop(['Bonus'],axis=1).values.T.flatten())"
   ]
  },
  {
   "cell_type": "code",
   "execution_count": 75,
   "metadata": {},
   "outputs": [],
   "source": [
    "## The maximum occurance of number in the list of numbers\n",
    "from collections import Counter\n",
    "most_common_2021,num_most_common_2021 = Counter(list_ball_2021).most_common(1)[0]"
   ]
  },
  {
   "cell_type": "code",
   "execution_count": 76,
   "metadata": {},
   "outputs": [
    {
     "name": "stdout",
     "output_type": "stream",
     "text": [
      "47\n",
      "3\n"
     ]
    }
   ],
   "source": [
    "print(most_common_2021)\n",
    "print(num_most_common_2021)"
   ]
  },
  {
   "cell_type": "code",
   "execution_count": 77,
   "metadata": {},
   "outputs": [
    {
     "data": {
      "text/plain": [
       "[('47', 3), ('10', 2), ('42', 2), ('8', 1), ('3', 1), ('17', 1)]"
      ]
     },
     "execution_count": 77,
     "metadata": {},
     "output_type": "execute_result"
    }
   ],
   "source": [
    "# find the 6 most common numbers in the list\n",
    "most_common_6_2021 = Counter(list_ball_2021).most_common(6)\n",
    "most_common_6_2021"
   ]
  },
  {
   "cell_type": "code",
   "execution_count": 78,
   "metadata": {},
   "outputs": [
    {
     "name": "stdout",
     "output_type": "stream",
     "text": [
      "['47', '10', '42', '8', '3', '17', '6', '14', '18', '43', '23', '26', '45', '39']\n",
      "{'10': 2, '8': 1, '3': 1, '17': 1, '6': 1, '42': 2, '14': 1, '18': 1, '43': 1, '23': 1, '26': 1, '45': 1, '39': 1, '47': 3}\n"
     ]
    }
   ],
   "source": [
    "number_counter_2021 = {}\n",
    "for number in list_ball_2021:\n",
    "    if number in number_counter_2021:\n",
    "        number_counter_2021[number] += 1\n",
    "    else:\n",
    "        number_counter_2021[number] = 1\n",
    " \n",
    "popular_numbers_2021 = sorted(number_counter_2021, key = number_counter_2021.get, reverse = True)\n",
    " \n",
    "print(popular_numbers_2021)\n",
    "print(number_counter_2021)"
   ]
  },
  {
   "cell_type": "code",
   "execution_count": 79,
   "metadata": {},
   "outputs": [
    {
     "name": "stdout",
     "output_type": "stream",
     "text": [
      "47\t: \t 3 times\n",
      "10\t: \t 2 times\n",
      "42\t: \t 2 times\n",
      "8\t: \t 1 times\n",
      "3\t: \t 1 times\n",
      "17\t: \t 1 times\n",
      "6\t: \t 1 times\n",
      "14\t: \t 1 times\n",
      "18\t: \t 1 times\n",
      "43\t: \t 1 times\n",
      "23\t: \t 1 times\n",
      "26\t: \t 1 times\n",
      "45\t: \t 1 times\n",
      "39\t: \t 1 times\n"
     ]
    }
   ],
   "source": [
    "#print the dictionary with sorted values\n",
    "dictionary_numbers_2021 = Counter(list_ball_2021)\n",
    "dictionary_numbers_sorted_keys_2021 = sorted(dictionary_numbers_2021, key=dictionary_numbers_2021.get, reverse=True)\n",
    "for r in dictionary_numbers_sorted_keys_2021:\n",
    "    print (\"{}\\t: \\t {} times\".format(r, dictionary_numbers_2021[r]))"
   ]
  },
  {
   "cell_type": "code",
   "execution_count": 80,
   "metadata": {},
   "outputs": [],
   "source": [
    "list_ball_2020 = list(df_2020.drop(['Bonus'],axis=1).values.T.flatten())"
   ]
  },
  {
   "cell_type": "code",
   "execution_count": 81,
   "metadata": {},
   "outputs": [],
   "source": [
    "## The maximum occurance of number in the list of numbers\n",
    "from collections import Counter\n",
    "most_common_2020,num_most_common_2020 = Counter(list_ball_2020).most_common(1)[0]"
   ]
  },
  {
   "cell_type": "code",
   "execution_count": 82,
   "metadata": {},
   "outputs": [
    {
     "name": "stdout",
     "output_type": "stream",
     "text": [
      "5\n",
      "22\n"
     ]
    }
   ],
   "source": [
    "print(most_common_2020)\n",
    "print(num_most_common_2020)"
   ]
  },
  {
   "cell_type": "code",
   "execution_count": 83,
   "metadata": {},
   "outputs": [
    {
     "data": {
      "text/plain": [
       "[('5', 22), ('23', 21), ('47', 20), ('15', 19), ('14', 19), ('20', 19)]"
      ]
     },
     "execution_count": 83,
     "metadata": {},
     "output_type": "execute_result"
    }
   ],
   "source": [
    "# find the 6 most common numbers in the list\n",
    "most_common_6_2020 = Counter(list_ball_2020).most_common(6)\n",
    "most_common_6_2020"
   ]
  },
  {
   "cell_type": "code",
   "execution_count": 84,
   "metadata": {},
   "outputs": [
    {
     "name": "stdout",
     "output_type": "stream",
     "text": [
      "['5', '23', '47', '15', '14', '20', '3', '33', '38', '22', '28', '10', '34', '16', '42', '13', '4', '27', '31', '29', '40', '44', '12', '41', '45', '30', '24', '8', '9', '18', '21', '37', '7', '39', '1', '2', '11', '19', '36', '25', '46', '6', '26', '17', '32', '35', '43']\n",
      "{'8': 12, '22': 17, '9': 12, '15': 19, '3': 18, '13': 15, '5': 22, '1': 9, '6': 8, '2': 9, '14': 19, '4': 15, '20': 19, '12': 14, '21': 11, '10': 16, '11': 9, '7': 10, '23': 21, '30': 13, '19': 9, '26': 8, '34': 16, '24': 13, '18': 12, '28': 17, '17': 7, '16': 16, '27': 15, '33': 18, '36': 9, '25': 9, '32': 7, '31': 15, '29': 15, '39': 10, '35': 7, '37': 11, '38': 18, '42': 16, '40': 15, '41': 14, '43': 7, '45': 14, '44': 15, '46': 9, '47': 20}\n"
     ]
    }
   ],
   "source": [
    "number_counter_2020 = {}\n",
    "for number in list_ball_2020:\n",
    "    if number in number_counter_2020:\n",
    "        number_counter_2020[number] += 1\n",
    "    else:\n",
    "        number_counter_2020[number] = 1\n",
    " \n",
    "popular_numbers_2020 = sorted(number_counter_2020, key = number_counter_2020.get, reverse = True)\n",
    " \n",
    "print(popular_numbers_2020)\n",
    "print(number_counter_2020)"
   ]
  },
  {
   "cell_type": "code",
   "execution_count": 85,
   "metadata": {},
   "outputs": [
    {
     "name": "stdout",
     "output_type": "stream",
     "text": [
      "5\t: \t 22 times\n",
      "23\t: \t 21 times\n",
      "47\t: \t 20 times\n",
      "15\t: \t 19 times\n",
      "14\t: \t 19 times\n",
      "20\t: \t 19 times\n",
      "3\t: \t 18 times\n",
      "33\t: \t 18 times\n",
      "38\t: \t 18 times\n",
      "22\t: \t 17 times\n",
      "28\t: \t 17 times\n",
      "10\t: \t 16 times\n",
      "34\t: \t 16 times\n",
      "16\t: \t 16 times\n",
      "42\t: \t 16 times\n",
      "13\t: \t 15 times\n",
      "4\t: \t 15 times\n",
      "27\t: \t 15 times\n",
      "31\t: \t 15 times\n",
      "29\t: \t 15 times\n",
      "40\t: \t 15 times\n",
      "44\t: \t 15 times\n",
      "12\t: \t 14 times\n",
      "41\t: \t 14 times\n",
      "45\t: \t 14 times\n",
      "30\t: \t 13 times\n",
      "24\t: \t 13 times\n",
      "8\t: \t 12 times\n",
      "9\t: \t 12 times\n",
      "18\t: \t 12 times\n",
      "21\t: \t 11 times\n",
      "37\t: \t 11 times\n",
      "7\t: \t 10 times\n",
      "39\t: \t 10 times\n",
      "1\t: \t 9 times\n",
      "2\t: \t 9 times\n",
      "11\t: \t 9 times\n",
      "19\t: \t 9 times\n",
      "36\t: \t 9 times\n",
      "25\t: \t 9 times\n",
      "46\t: \t 9 times\n",
      "6\t: \t 8 times\n",
      "26\t: \t 8 times\n",
      "17\t: \t 7 times\n",
      "32\t: \t 7 times\n",
      "35\t: \t 7 times\n",
      "43\t: \t 7 times\n"
     ]
    }
   ],
   "source": [
    "#print the dictionary with sorted values\n",
    "dictionary_numbers_2020 = Counter(list_ball_2020)\n",
    "dictionary_numbers_sorted_keys_2020 = sorted(dictionary_numbers_2020, key=dictionary_numbers_2020.get, reverse=True)\n",
    "for r in dictionary_numbers_sorted_keys_2020:\n",
    "    print (\"{}\\t: \\t {} times\".format(r, dictionary_numbers_2020[r]))"
   ]
  },
  {
   "cell_type": "code",
   "execution_count": 86,
   "metadata": {},
   "outputs": [],
   "source": [
    "df_20_21 = pd.concat([df_2020, df_2021])"
   ]
  },
  {
   "cell_type": "code",
   "execution_count": 87,
   "metadata": {},
   "outputs": [
    {
     "name": "stdout",
     "output_type": "stream",
     "text": [
      "47\n",
      "23\n"
     ]
    }
   ],
   "source": [
    "list_ball_20_21 = list(df_20_21.drop(['Bonus'],axis=1).values.T.flatten())\n",
    "most_common_20_21,num_most_common_20_21 = Counter(list_ball_20_21).most_common(1)[0]\n",
    "print(most_common_20_21)\n",
    "print(num_most_common_20_21)"
   ]
  },
  {
   "cell_type": "code",
   "execution_count": 88,
   "metadata": {},
   "outputs": [
    {
     "data": {
      "text/plain": [
       "[('47', 23), ('5', 22), ('23', 22), ('14', 20), ('15', 19), ('3', 19)]"
      ]
     },
     "execution_count": 88,
     "metadata": {},
     "output_type": "execute_result"
    }
   ],
   "source": [
    "# find the 6 most common numbers in the list\n",
    "most_common_6_20_21 = Counter(list_ball_20_21).most_common(6)\n",
    "most_common_6_20_21"
   ]
  },
  {
   "cell_type": "code",
   "execution_count": 89,
   "metadata": {},
   "outputs": [
    {
     "name": "stdout",
     "output_type": "stream",
     "text": [
      "['47', '5', '23', '14', '15', '3', '20', '10', '33', '42', '38', '22', '28', '34', '16', '13', '4', '27', '31', '29', '40', '45', '44', '12', '41', '8', '30', '24', '18', '9', '21', '39', '37', '7', '1', '6', '2', '11', '19', '26', '36', '25', '46', '17', '43', '32', '35']\n",
      "{'8': 13, '22': 17, '9': 12, '15': 19, '3': 19, '13': 15, '5': 22, '1': 9, '6': 9, '2': 9, '14': 20, '4': 15, '20': 19, '12': 14, '21': 11, '10': 18, '11': 9, '7': 10, '23': 22, '30': 13, '19': 9, '26': 9, '34': 16, '24': 13, '18': 13, '28': 17, '17': 8, '16': 16, '27': 15, '33': 18, '36': 9, '25': 9, '32': 7, '31': 15, '29': 15, '42': 18, '39': 11, '35': 7, '37': 11, '38': 18, '40': 15, '41': 14, '43': 8, '45': 15, '44': 15, '46': 9, '47': 23}\n"
     ]
    }
   ],
   "source": [
    "number_counter_20_21 = {}\n",
    "for number in list_ball_20_21:\n",
    "    if number in number_counter_20_21:\n",
    "        number_counter_20_21[number] += 1\n",
    "    else:\n",
    "        number_counter_20_21[number] = 1\n",
    " \n",
    "popular_numbers_20_21 = sorted(number_counter_20_21, key = number_counter_20_21.get, reverse = True)\n",
    " \n",
    "print(popular_numbers_20_21)\n",
    "print(number_counter_20_21)"
   ]
  },
  {
   "cell_type": "code",
   "execution_count": 90,
   "metadata": {},
   "outputs": [
    {
     "name": "stdout",
     "output_type": "stream",
     "text": [
      "47\t: \t 23 times\n",
      "5\t: \t 22 times\n",
      "23\t: \t 22 times\n",
      "14\t: \t 20 times\n",
      "15\t: \t 19 times\n",
      "3\t: \t 19 times\n",
      "20\t: \t 19 times\n",
      "10\t: \t 18 times\n",
      "33\t: \t 18 times\n",
      "42\t: \t 18 times\n",
      "38\t: \t 18 times\n",
      "22\t: \t 17 times\n",
      "28\t: \t 17 times\n",
      "34\t: \t 16 times\n",
      "16\t: \t 16 times\n",
      "13\t: \t 15 times\n",
      "4\t: \t 15 times\n",
      "27\t: \t 15 times\n",
      "31\t: \t 15 times\n",
      "29\t: \t 15 times\n",
      "40\t: \t 15 times\n",
      "45\t: \t 15 times\n",
      "44\t: \t 15 times\n",
      "12\t: \t 14 times\n",
      "41\t: \t 14 times\n",
      "8\t: \t 13 times\n",
      "30\t: \t 13 times\n",
      "24\t: \t 13 times\n",
      "18\t: \t 13 times\n",
      "9\t: \t 12 times\n",
      "21\t: \t 11 times\n",
      "39\t: \t 11 times\n",
      "37\t: \t 11 times\n",
      "7\t: \t 10 times\n",
      "1\t: \t 9 times\n",
      "6\t: \t 9 times\n",
      "2\t: \t 9 times\n",
      "11\t: \t 9 times\n",
      "19\t: \t 9 times\n",
      "26\t: \t 9 times\n",
      "36\t: \t 9 times\n",
      "25\t: \t 9 times\n",
      "46\t: \t 9 times\n",
      "17\t: \t 8 times\n",
      "43\t: \t 8 times\n",
      "32\t: \t 7 times\n",
      "35\t: \t 7 times\n"
     ]
    }
   ],
   "source": [
    "#print the dictionary with sorted values\n",
    "dictionary_numbers_20_21 = Counter(list_ball_20_21)\n",
    "dictionary_numbers_sorted_keys_20_21 = sorted(dictionary_numbers_20_21, key=dictionary_numbers_20_21.get, reverse=True)\n",
    "for r in dictionary_numbers_sorted_keys_20_21:\n",
    "    print (\"{}\\t: \\t {} times\".format(r, dictionary_numbers_20_21[r]))"
   ]
  },
  {
   "cell_type": "code",
   "execution_count": 91,
   "metadata": {},
   "outputs": [],
   "source": [
    "df_19_20_21 = pd.concat([df_2019, df_2020, df_2021])"
   ]
  },
  {
   "cell_type": "code",
   "execution_count": 93,
   "metadata": {},
   "outputs": [
    {
     "name": "stdout",
     "output_type": "stream",
     "text": [
      "3\n",
      "44\n"
     ]
    }
   ],
   "source": [
    "list_ball_19_20_21 = list(df_19_20_21.values.T.flatten())\n",
    "most_common_19_20_21,num_most_common_19_20_21 = Counter(list_ball_19_20_21).most_common(1)[0]\n",
    "print(most_common_19_20_21)\n",
    "print(num_most_common_19_20_21)"
   ]
  },
  {
   "cell_type": "code",
   "execution_count": 94,
   "metadata": {},
   "outputs": [
    {
     "data": {
      "text/plain": [
       "[('3', 44), ('23', 43), ('14', 42), ('27', 39), ('37', 39), ('42', 39)]"
      ]
     },
     "execution_count": 94,
     "metadata": {},
     "output_type": "execute_result"
    }
   ],
   "source": [
    "# find the 6 most common numbers in the list\n",
    "most_common_6_19_20_21 = Counter(list_ball_19_20_21).most_common(6)\n",
    "most_common_6_19_20_21"
   ]
  },
  {
   "cell_type": "code",
   "execution_count": 95,
   "metadata": {},
   "outputs": [
    {
     "name": "stdout",
     "output_type": "stream",
     "text": [
      "['3', '23', '14', '27', '37', '42', '16', '10', '34', '47', '29', '12', '15', '7', '33', '13', '38', '18', '22', '35', '31', '39', '1', '28', '30', '40', '20', '41', '46', '5', '45', '9', '2', '17', '44', '4', '19', '21', '24', '6', '8', '11', '25', '26', '43', '36', '32']\n",
      "{'2': 28, '12': 35, '6': 25, '8': 25, '11': 24, '13': 34, '14': 42, '4': 27, '15': 35, '1': 32, '3': 44, '5': 30, '7': 35, '9': 29, '18': 33, '16': 38, '10': 38, '20': 31, '22': 33, '19': 26, '21': 26, '23': 43, '17': 28, '28': 32, '27': 39, '29': 36, '25': 24, '32': 17, '24': 26, '30': 32, '26': 23, '33': 35, '34': 37, '37': 39, '35': 33, '36': 19, '31': 33, '42': 39, '39': 33, '38': 34, '40': 32, '45': 30, '41': 31, '43': 23, '44': 28, '46': 31, '47': 37}\n"
     ]
    }
   ],
   "source": [
    "number_counter_19_20_21 = {}\n",
    "for number in list_ball_19_20_21:\n",
    "    if number in number_counter_19_20_21:\n",
    "        number_counter_19_20_21[number] += 1\n",
    "    else:\n",
    "        number_counter_19_20_21[number] = 1\n",
    " \n",
    "popular_numbers_19_20_21 = sorted(number_counter_19_20_21, key = number_counter_19_20_21.get, reverse = True)\n",
    " \n",
    "print(popular_numbers_19_20_21)\n",
    "print(number_counter_19_20_21)"
   ]
  },
  {
   "cell_type": "code",
   "execution_count": 96,
   "metadata": {},
   "outputs": [
    {
     "name": "stdout",
     "output_type": "stream",
     "text": [
      "3\t: \t 44 times\n",
      "23\t: \t 43 times\n",
      "14\t: \t 42 times\n",
      "27\t: \t 39 times\n",
      "37\t: \t 39 times\n",
      "42\t: \t 39 times\n",
      "16\t: \t 38 times\n",
      "10\t: \t 38 times\n",
      "34\t: \t 37 times\n",
      "47\t: \t 37 times\n",
      "29\t: \t 36 times\n",
      "12\t: \t 35 times\n",
      "15\t: \t 35 times\n",
      "7\t: \t 35 times\n",
      "33\t: \t 35 times\n",
      "13\t: \t 34 times\n",
      "38\t: \t 34 times\n",
      "18\t: \t 33 times\n",
      "22\t: \t 33 times\n",
      "35\t: \t 33 times\n",
      "31\t: \t 33 times\n",
      "39\t: \t 33 times\n",
      "1\t: \t 32 times\n",
      "28\t: \t 32 times\n",
      "30\t: \t 32 times\n",
      "40\t: \t 32 times\n",
      "20\t: \t 31 times\n",
      "41\t: \t 31 times\n",
      "46\t: \t 31 times\n",
      "5\t: \t 30 times\n",
      "45\t: \t 30 times\n",
      "9\t: \t 29 times\n",
      "2\t: \t 28 times\n",
      "17\t: \t 28 times\n",
      "44\t: \t 28 times\n",
      "4\t: \t 27 times\n",
      "19\t: \t 26 times\n",
      "21\t: \t 26 times\n",
      "24\t: \t 26 times\n",
      "6\t: \t 25 times\n",
      "8\t: \t 25 times\n",
      "11\t: \t 24 times\n",
      "25\t: \t 24 times\n",
      "26\t: \t 23 times\n",
      "43\t: \t 23 times\n",
      "36\t: \t 19 times\n",
      "32\t: \t 17 times\n"
     ]
    }
   ],
   "source": [
    "#print the dictionary with sorted values\n",
    "dictionary_numbers_19_20_21 = Counter(list_ball_19_20_21)\n",
    "dictionary_numbers_sorted_keys_19_20_21 = sorted(dictionary_numbers_19_20_21, key=dictionary_numbers_19_20_21.get, reverse=True)\n",
    "for r in dictionary_numbers_sorted_keys_19_20_21:\n",
    "    print (\"{}\\t: \\t {} times\".format(r, dictionary_numbers_19_20_21[r]))"
   ]
  },
  {
   "cell_type": "code",
   "execution_count": 97,
   "metadata": {},
   "outputs": [
    {
     "data": {
      "text/html": [
       "<div>\n",
       "<style scoped>\n",
       "    .dataframe tbody tr th:only-of-type {\n",
       "        vertical-align: middle;\n",
       "    }\n",
       "\n",
       "    .dataframe tbody tr th {\n",
       "        vertical-align: top;\n",
       "    }\n",
       "\n",
       "    .dataframe thead th {\n",
       "        text-align: right;\n",
       "    }\n",
       "</style>\n",
       "<table border=\"1\" class=\"dataframe\">\n",
       "  <thead>\n",
       "    <tr style=\"text-align: right;\">\n",
       "      <th></th>\n",
       "      <th>Year</th>\n",
       "      <th>A</th>\n",
       "      <th>B</th>\n",
       "      <th>C</th>\n",
       "      <th>D</th>\n",
       "      <th>E</th>\n",
       "      <th>F</th>\n",
       "      <th>Bonus</th>\n",
       "    </tr>\n",
       "  </thead>\n",
       "  <tbody>\n",
       "    <tr>\n",
       "      <th>25</th>\n",
       "      <td>2016</td>\n",
       "      <td>4</td>\n",
       "      <td>17</td>\n",
       "      <td>22</td>\n",
       "      <td>40</td>\n",
       "      <td>42</td>\n",
       "      <td>46</td>\n",
       "      <td>11</td>\n",
       "    </tr>\n",
       "    <tr>\n",
       "      <th>26</th>\n",
       "      <td>2016</td>\n",
       "      <td>2</td>\n",
       "      <td>5</td>\n",
       "      <td>8</td>\n",
       "      <td>14</td>\n",
       "      <td>40</td>\n",
       "      <td>42</td>\n",
       "      <td>7</td>\n",
       "    </tr>\n",
       "    <tr>\n",
       "      <th>27</th>\n",
       "      <td>2016</td>\n",
       "      <td>1</td>\n",
       "      <td>2</td>\n",
       "      <td>20</td>\n",
       "      <td>27</td>\n",
       "      <td>32</td>\n",
       "      <td>38</td>\n",
       "      <td>3</td>\n",
       "    </tr>\n",
       "    <tr>\n",
       "      <th>28</th>\n",
       "      <td>2016</td>\n",
       "      <td>2</td>\n",
       "      <td>7</td>\n",
       "      <td>16</td>\n",
       "      <td>17</td>\n",
       "      <td>27</td>\n",
       "      <td>47</td>\n",
       "      <td>41</td>\n",
       "    </tr>\n",
       "    <tr>\n",
       "      <th>29</th>\n",
       "      <td>2016</td>\n",
       "      <td>2</td>\n",
       "      <td>19</td>\n",
       "      <td>31</td>\n",
       "      <td>40</td>\n",
       "      <td>43</td>\n",
       "      <td>46</td>\n",
       "      <td>5</td>\n",
       "    </tr>\n",
       "    <tr>\n",
       "      <th>...</th>\n",
       "      <td>...</td>\n",
       "      <td>...</td>\n",
       "      <td>...</td>\n",
       "      <td>...</td>\n",
       "      <td>...</td>\n",
       "      <td>...</td>\n",
       "      <td>...</td>\n",
       "      <td>...</td>\n",
       "    </tr>\n",
       "    <tr>\n",
       "      <th>196</th>\n",
       "      <td>2017</td>\n",
       "      <td>3</td>\n",
       "      <td>10</td>\n",
       "      <td>15</td>\n",
       "      <td>17</td>\n",
       "      <td>34</td>\n",
       "      <td>39</td>\n",
       "      <td>31</td>\n",
       "    </tr>\n",
       "    <tr>\n",
       "      <th>197</th>\n",
       "      <td>2017</td>\n",
       "      <td>2</td>\n",
       "      <td>16</td>\n",
       "      <td>19</td>\n",
       "      <td>26</td>\n",
       "      <td>28</td>\n",
       "      <td>29</td>\n",
       "      <td>37</td>\n",
       "    </tr>\n",
       "    <tr>\n",
       "      <th>198</th>\n",
       "      <td>2017</td>\n",
       "      <td>2</td>\n",
       "      <td>6</td>\n",
       "      <td>9</td>\n",
       "      <td>31</td>\n",
       "      <td>41</td>\n",
       "      <td>47</td>\n",
       "      <td>43</td>\n",
       "    </tr>\n",
       "    <tr>\n",
       "      <th>199</th>\n",
       "      <td>2017</td>\n",
       "      <td>10</td>\n",
       "      <td>21</td>\n",
       "      <td>22</td>\n",
       "      <td>26</td>\n",
       "      <td>42</td>\n",
       "      <td>46</td>\n",
       "      <td>35</td>\n",
       "    </tr>\n",
       "    <tr>\n",
       "      <th>200</th>\n",
       "      <td>2017</td>\n",
       "      <td>11</td>\n",
       "      <td>13</td>\n",
       "      <td>34</td>\n",
       "      <td>38</td>\n",
       "      <td>40</td>\n",
       "      <td>47</td>\n",
       "      <td>21</td>\n",
       "    </tr>\n",
       "  </tbody>\n",
       "</table>\n",
       "<p>176 rows × 8 columns</p>\n",
       "</div>"
      ],
      "text/plain": [
       "     Year   A   B   C   D   E   F  Bonus\n",
       "25   2016   4  17  22  40  42  46     11\n",
       "26   2016   2   5   8  14  40  42      7\n",
       "27   2016   1   2  20  27  32  38      3\n",
       "28   2016   2   7  16  17  27  47     41\n",
       "29   2016   2  19  31  40  43  46      5\n",
       "..    ...  ..  ..  ..  ..  ..  ..    ...\n",
       "196  2017   3  10  15  17  34  39     31\n",
       "197  2017   2  16  19  26  28  29     37\n",
       "198  2017   2   6   9  31  41  47     43\n",
       "199  2017  10  21  22  26  42  46     35\n",
       "200  2017  11  13  34  38  40  47     21\n",
       "\n",
       "[176 rows x 8 columns]"
      ]
     },
     "execution_count": 97,
     "metadata": {},
     "output_type": "execute_result"
    }
   ],
   "source": [
    "#counts of unique values for the bonus to find the most occuring numbers\n",
    "df_lotto.loc[25:200]"
   ]
  },
  {
   "cell_type": "code",
   "execution_count": 98,
   "metadata": {},
   "outputs": [
    {
     "data": {
      "text/html": [
       "<div>\n",
       "<style scoped>\n",
       "    .dataframe tbody tr th:only-of-type {\n",
       "        vertical-align: middle;\n",
       "    }\n",
       "\n",
       "    .dataframe tbody tr th {\n",
       "        vertical-align: top;\n",
       "    }\n",
       "\n",
       "    .dataframe thead th {\n",
       "        text-align: right;\n",
       "    }\n",
       "</style>\n",
       "<table border=\"1\" class=\"dataframe\">\n",
       "  <thead>\n",
       "    <tr style=\"text-align: right;\">\n",
       "      <th></th>\n",
       "      <th>Year</th>\n",
       "      <th>A</th>\n",
       "      <th>B</th>\n",
       "      <th>C</th>\n",
       "      <th>D</th>\n",
       "      <th>E</th>\n",
       "      <th>F</th>\n",
       "      <th>Bonus</th>\n",
       "    </tr>\n",
       "  </thead>\n",
       "  <tbody>\n",
       "    <tr>\n",
       "      <th>0</th>\n",
       "      <td>2016</td>\n",
       "      <td>2</td>\n",
       "      <td>8</td>\n",
       "      <td>10</td>\n",
       "      <td>23</td>\n",
       "      <td>27</td>\n",
       "      <td>29</td>\n",
       "      <td>5</td>\n",
       "    </tr>\n",
       "    <tr>\n",
       "      <th>1</th>\n",
       "      <td>2016</td>\n",
       "      <td>1</td>\n",
       "      <td>12</td>\n",
       "      <td>34</td>\n",
       "      <td>43</td>\n",
       "      <td>45</td>\n",
       "      <td>47</td>\n",
       "      <td>27</td>\n",
       "    </tr>\n",
       "    <tr>\n",
       "      <th>2</th>\n",
       "      <td>2016</td>\n",
       "      <td>8</td>\n",
       "      <td>10</td>\n",
       "      <td>11</td>\n",
       "      <td>16</td>\n",
       "      <td>40</td>\n",
       "      <td>42</td>\n",
       "      <td>38</td>\n",
       "    </tr>\n",
       "    <tr>\n",
       "      <th>3</th>\n",
       "      <td>2016</td>\n",
       "      <td>6</td>\n",
       "      <td>10</td>\n",
       "      <td>23</td>\n",
       "      <td>28</td>\n",
       "      <td>37</td>\n",
       "      <td>41</td>\n",
       "      <td>18</td>\n",
       "    </tr>\n",
       "    <tr>\n",
       "      <th>4</th>\n",
       "      <td>2016</td>\n",
       "      <td>7</td>\n",
       "      <td>20</td>\n",
       "      <td>25</td>\n",
       "      <td>27</td>\n",
       "      <td>41</td>\n",
       "      <td>45</td>\n",
       "      <td>35</td>\n",
       "    </tr>\n",
       "    <tr>\n",
       "      <th>...</th>\n",
       "      <td>...</td>\n",
       "      <td>...</td>\n",
       "      <td>...</td>\n",
       "      <td>...</td>\n",
       "      <td>...</td>\n",
       "      <td>...</td>\n",
       "      <td>...</td>\n",
       "      <td>...</td>\n",
       "    </tr>\n",
       "    <tr>\n",
       "      <th>520</th>\n",
       "      <td>2020</td>\n",
       "      <td>2</td>\n",
       "      <td>5</td>\n",
       "      <td>16</td>\n",
       "      <td>17</td>\n",
       "      <td>22</td>\n",
       "      <td>23</td>\n",
       "      <td>36</td>\n",
       "    </tr>\n",
       "    <tr>\n",
       "      <th>521</th>\n",
       "      <td>2020</td>\n",
       "      <td>4</td>\n",
       "      <td>5</td>\n",
       "      <td>23</td>\n",
       "      <td>30</td>\n",
       "      <td>42</td>\n",
       "      <td>47</td>\n",
       "      <td>3</td>\n",
       "    </tr>\n",
       "    <tr>\n",
       "      <th>522</th>\n",
       "      <td>2021</td>\n",
       "      <td>10</td>\n",
       "      <td>17</td>\n",
       "      <td>42</td>\n",
       "      <td>43</td>\n",
       "      <td>45</td>\n",
       "      <td>47</td>\n",
       "      <td>37</td>\n",
       "    </tr>\n",
       "    <tr>\n",
       "      <th>523</th>\n",
       "      <td>2021</td>\n",
       "      <td>8</td>\n",
       "      <td>10</td>\n",
       "      <td>14</td>\n",
       "      <td>23</td>\n",
       "      <td>39</td>\n",
       "      <td>47</td>\n",
       "      <td>5</td>\n",
       "    </tr>\n",
       "    <tr>\n",
       "      <th>524</th>\n",
       "      <td>2021</td>\n",
       "      <td>3</td>\n",
       "      <td>6</td>\n",
       "      <td>18</td>\n",
       "      <td>26</td>\n",
       "      <td>42</td>\n",
       "      <td>47</td>\n",
       "      <td>1</td>\n",
       "    </tr>\n",
       "  </tbody>\n",
       "</table>\n",
       "<p>525 rows × 8 columns</p>\n",
       "</div>"
      ],
      "text/plain": [
       "     Year   A   B   C   D   E   F  Bonus\n",
       "0    2016   2   8  10  23  27  29      5\n",
       "1    2016   1  12  34  43  45  47     27\n",
       "2    2016   8  10  11  16  40  42     38\n",
       "3    2016   6  10  23  28  37  41     18\n",
       "4    2016   7  20  25  27  41  45     35\n",
       "..    ...  ..  ..  ..  ..  ..  ..    ...\n",
       "520  2020   2   5  16  17  22  23     36\n",
       "521  2020   4   5  23  30  42  47      3\n",
       "522  2021  10  17  42  43  45  47     37\n",
       "523  2021   8  10  14  23  39  47      5\n",
       "524  2021   3   6  18  26  42  47      1\n",
       "\n",
       "[525 rows x 8 columns]"
      ]
     },
     "execution_count": 98,
     "metadata": {},
     "output_type": "execute_result"
    }
   ],
   "source": [
    "df_lotto"
   ]
  },
  {
   "cell_type": "code",
   "execution_count": 99,
   "metadata": {},
   "outputs": [
    {
     "data": {
      "text/html": [
       "<div>\n",
       "<style scoped>\n",
       "    .dataframe tbody tr th:only-of-type {\n",
       "        vertical-align: middle;\n",
       "    }\n",
       "\n",
       "    .dataframe tbody tr th {\n",
       "        vertical-align: top;\n",
       "    }\n",
       "\n",
       "    .dataframe thead th {\n",
       "        text-align: right;\n",
       "    }\n",
       "</style>\n",
       "<table border=\"1\" class=\"dataframe\">\n",
       "  <thead>\n",
       "    <tr style=\"text-align: right;\">\n",
       "      <th></th>\n",
       "      <th>A</th>\n",
       "      <th>B</th>\n",
       "      <th>C</th>\n",
       "      <th>D</th>\n",
       "      <th>E</th>\n",
       "      <th>F</th>\n",
       "      <th>Bonus</th>\n",
       "    </tr>\n",
       "  </thead>\n",
       "  <tbody>\n",
       "    <tr>\n",
       "      <th>0</th>\n",
       "      <td>2</td>\n",
       "      <td>8</td>\n",
       "      <td>10</td>\n",
       "      <td>23</td>\n",
       "      <td>27</td>\n",
       "      <td>29</td>\n",
       "      <td>5</td>\n",
       "    </tr>\n",
       "    <tr>\n",
       "      <th>1</th>\n",
       "      <td>1</td>\n",
       "      <td>12</td>\n",
       "      <td>34</td>\n",
       "      <td>43</td>\n",
       "      <td>45</td>\n",
       "      <td>47</td>\n",
       "      <td>27</td>\n",
       "    </tr>\n",
       "    <tr>\n",
       "      <th>2</th>\n",
       "      <td>8</td>\n",
       "      <td>10</td>\n",
       "      <td>11</td>\n",
       "      <td>16</td>\n",
       "      <td>40</td>\n",
       "      <td>42</td>\n",
       "      <td>38</td>\n",
       "    </tr>\n",
       "    <tr>\n",
       "      <th>3</th>\n",
       "      <td>6</td>\n",
       "      <td>10</td>\n",
       "      <td>23</td>\n",
       "      <td>28</td>\n",
       "      <td>37</td>\n",
       "      <td>41</td>\n",
       "      <td>18</td>\n",
       "    </tr>\n",
       "    <tr>\n",
       "      <th>4</th>\n",
       "      <td>7</td>\n",
       "      <td>20</td>\n",
       "      <td>25</td>\n",
       "      <td>27</td>\n",
       "      <td>41</td>\n",
       "      <td>45</td>\n",
       "      <td>35</td>\n",
       "    </tr>\n",
       "    <tr>\n",
       "      <th>...</th>\n",
       "      <td>...</td>\n",
       "      <td>...</td>\n",
       "      <td>...</td>\n",
       "      <td>...</td>\n",
       "      <td>...</td>\n",
       "      <td>...</td>\n",
       "      <td>...</td>\n",
       "    </tr>\n",
       "    <tr>\n",
       "      <th>520</th>\n",
       "      <td>2</td>\n",
       "      <td>5</td>\n",
       "      <td>16</td>\n",
       "      <td>17</td>\n",
       "      <td>22</td>\n",
       "      <td>23</td>\n",
       "      <td>36</td>\n",
       "    </tr>\n",
       "    <tr>\n",
       "      <th>521</th>\n",
       "      <td>4</td>\n",
       "      <td>5</td>\n",
       "      <td>23</td>\n",
       "      <td>30</td>\n",
       "      <td>42</td>\n",
       "      <td>47</td>\n",
       "      <td>3</td>\n",
       "    </tr>\n",
       "    <tr>\n",
       "      <th>522</th>\n",
       "      <td>10</td>\n",
       "      <td>17</td>\n",
       "      <td>42</td>\n",
       "      <td>43</td>\n",
       "      <td>45</td>\n",
       "      <td>47</td>\n",
       "      <td>37</td>\n",
       "    </tr>\n",
       "    <tr>\n",
       "      <th>523</th>\n",
       "      <td>8</td>\n",
       "      <td>10</td>\n",
       "      <td>14</td>\n",
       "      <td>23</td>\n",
       "      <td>39</td>\n",
       "      <td>47</td>\n",
       "      <td>5</td>\n",
       "    </tr>\n",
       "    <tr>\n",
       "      <th>524</th>\n",
       "      <td>3</td>\n",
       "      <td>6</td>\n",
       "      <td>18</td>\n",
       "      <td>26</td>\n",
       "      <td>42</td>\n",
       "      <td>47</td>\n",
       "      <td>1</td>\n",
       "    </tr>\n",
       "  </tbody>\n",
       "</table>\n",
       "<p>525 rows × 7 columns</p>\n",
       "</div>"
      ],
      "text/plain": [
       "      A   B   C   D   E   F  Bonus\n",
       "0     2   8  10  23  27  29      5\n",
       "1     1  12  34  43  45  47     27\n",
       "2     8  10  11  16  40  42     38\n",
       "3     6  10  23  28  37  41     18\n",
       "4     7  20  25  27  41  45     35\n",
       "..   ..  ..  ..  ..  ..  ..    ...\n",
       "520   2   5  16  17  22  23     36\n",
       "521   4   5  23  30  42  47      3\n",
       "522  10  17  42  43  45  47     37\n",
       "523   8  10  14  23  39  47      5\n",
       "524   3   6  18  26  42  47      1\n",
       "\n",
       "[525 rows x 7 columns]"
      ]
     },
     "execution_count": 99,
     "metadata": {},
     "output_type": "execute_result"
    }
   ],
   "source": [
    "df_numbers = df_lotto.drop('Year',axis=1)\n",
    "df_numbers"
   ]
  },
  {
   "cell_type": "code",
   "execution_count": 100,
   "metadata": {},
   "outputs": [
    {
     "name": "stdout",
     "output_type": "stream",
     "text": [
      "27\n",
      "99\n"
     ]
    }
   ],
   "source": [
    "list_ball_all = list(df_numbers.values.T.flatten())\n",
    "most_common_all,num_most_common_all = Counter(list_ball_all).most_common(1)[0]\n",
    "print(most_common_all)\n",
    "print(num_most_common_all)"
   ]
  },
  {
   "cell_type": "code",
   "execution_count": 101,
   "metadata": {},
   "outputs": [
    {
     "data": {
      "text/plain": [
       "[(27, 99), (42, 98), (16, 92), (31, 92), (29, 92), (7, 88)]"
      ]
     },
     "execution_count": 101,
     "metadata": {},
     "output_type": "execute_result"
    }
   ],
   "source": [
    "# find the 6 most common numbers in the list\n",
    "most_common_6_all = Counter(list_ball_all).most_common(6)\n",
    "most_common_6_all"
   ]
  },
  {
   "cell_type": "code",
   "execution_count": 102,
   "metadata": {},
   "outputs": [
    {
     "name": "stdout",
     "output_type": "stream",
     "text": [
      "[27, 42, 16, 31, 29, 7, 37, 47, 10, 14, 22, 18, 38, 34, 2, 15, 20, 9, 5, 45, 28, 30, 40, 1, 17, 23, 3, 35, 39, 12, 19, 13, 33, 24, 41, 46, 8, 4, 25, 44, 43, 6, 11, 21, 32, 36, 26]\n",
      "{2: 83, 1: 78, 8: 70, 6: 69, 7: 88, 4: 70, 30: 79, 3: 77, 12: 75, 13: 73, 20: 82, 11: 68, 5: 81, 9: 82, 10: 87, 22: 85, 15: 83, 16: 92, 19: 75, 14: 86, 21: 66, 17: 78, 31: 92, 18: 85, 27: 99, 33: 72, 26: 53, 23: 78, 29: 92, 36: 57, 25: 70, 35: 77, 28: 80, 32: 60, 38: 85, 24: 71, 34: 85, 37: 88, 39: 76, 44: 70, 42: 98, 43: 70, 40: 79, 41: 71, 45: 81, 46: 71, 47: 88}\n"
     ]
    }
   ],
   "source": [
    "number_counter_all = {}\n",
    "for number in list_ball_all:\n",
    "    if number in number_counter_all:\n",
    "        number_counter_all[number] += 1\n",
    "    else:\n",
    "        number_counter_all[number] = 1\n",
    " \n",
    "popular_numbers_all = sorted(number_counter_all, key = number_counter_all.get, reverse = True)\n",
    " \n",
    "print(popular_numbers_all)\n",
    "print(number_counter_all)"
   ]
  },
  {
   "cell_type": "code",
   "execution_count": 103,
   "metadata": {},
   "outputs": [
    {
     "name": "stdout",
     "output_type": "stream",
     "text": [
      "27\t: \t 99 times\n",
      "42\t: \t 98 times\n",
      "16\t: \t 92 times\n",
      "31\t: \t 92 times\n",
      "29\t: \t 92 times\n",
      "7\t: \t 88 times\n",
      "37\t: \t 88 times\n",
      "47\t: \t 88 times\n",
      "10\t: \t 87 times\n",
      "14\t: \t 86 times\n",
      "22\t: \t 85 times\n",
      "18\t: \t 85 times\n",
      "38\t: \t 85 times\n",
      "34\t: \t 85 times\n",
      "2\t: \t 83 times\n",
      "15\t: \t 83 times\n",
      "20\t: \t 82 times\n",
      "9\t: \t 82 times\n",
      "5\t: \t 81 times\n",
      "45\t: \t 81 times\n",
      "28\t: \t 80 times\n",
      "30\t: \t 79 times\n",
      "40\t: \t 79 times\n",
      "1\t: \t 78 times\n",
      "17\t: \t 78 times\n",
      "23\t: \t 78 times\n",
      "3\t: \t 77 times\n",
      "35\t: \t 77 times\n",
      "39\t: \t 76 times\n",
      "12\t: \t 75 times\n",
      "19\t: \t 75 times\n",
      "13\t: \t 73 times\n",
      "33\t: \t 72 times\n",
      "24\t: \t 71 times\n",
      "41\t: \t 71 times\n",
      "46\t: \t 71 times\n",
      "8\t: \t 70 times\n",
      "4\t: \t 70 times\n",
      "25\t: \t 70 times\n",
      "44\t: \t 70 times\n",
      "43\t: \t 70 times\n",
      "6\t: \t 69 times\n",
      "11\t: \t 68 times\n",
      "21\t: \t 66 times\n",
      "32\t: \t 60 times\n",
      "36\t: \t 57 times\n",
      "26\t: \t 53 times\n"
     ]
    }
   ],
   "source": [
    "#print the dictionary with sorted values\n",
    "dictionary_numbers_all = Counter(list_ball_all)\n",
    "dictionary_numbers_sorted_keys_all = sorted(dictionary_numbers_all, key=dictionary_numbers_all.get, reverse=True)\n",
    "for r in dictionary_numbers_sorted_keys_all:\n",
    "    print (\"{}\\t: \\t {} times\".format(r, dictionary_numbers_all[r]))"
   ]
  },
  {
   "cell_type": "code",
   "execution_count": 108,
   "metadata": {},
   "outputs": [
    {
     "data": {
      "text/html": [
       "<div>\n",
       "<style scoped>\n",
       "    .dataframe tbody tr th:only-of-type {\n",
       "        vertical-align: middle;\n",
       "    }\n",
       "\n",
       "    .dataframe tbody tr th {\n",
       "        vertical-align: top;\n",
       "    }\n",
       "\n",
       "    .dataframe thead th {\n",
       "        text-align: right;\n",
       "    }\n",
       "</style>\n",
       "<table border=\"1\" class=\"dataframe\">\n",
       "  <thead>\n",
       "    <tr style=\"text-align: right;\">\n",
       "      <th></th>\n",
       "      <th>Year</th>\n",
       "      <th>A</th>\n",
       "      <th>B</th>\n",
       "      <th>C</th>\n",
       "      <th>D</th>\n",
       "      <th>E</th>\n",
       "      <th>F</th>\n",
       "      <th>Bonus</th>\n",
       "    </tr>\n",
       "  </thead>\n",
       "  <tbody>\n",
       "    <tr>\n",
       "      <th>313</th>\n",
       "      <td>2019</td>\n",
       "      <td>2</td>\n",
       "      <td>14</td>\n",
       "      <td>18</td>\n",
       "      <td>23</td>\n",
       "      <td>34</td>\n",
       "      <td>39</td>\n",
       "      <td>25</td>\n",
       "    </tr>\n",
       "    <tr>\n",
       "      <th>314</th>\n",
       "      <td>2019</td>\n",
       "      <td>12</td>\n",
       "      <td>23</td>\n",
       "      <td>30</td>\n",
       "      <td>36</td>\n",
       "      <td>37</td>\n",
       "      <td>38</td>\n",
       "      <td>3</td>\n",
       "    </tr>\n",
       "    <tr>\n",
       "      <th>315</th>\n",
       "      <td>2019</td>\n",
       "      <td>6</td>\n",
       "      <td>19</td>\n",
       "      <td>22</td>\n",
       "      <td>28</td>\n",
       "      <td>35</td>\n",
       "      <td>40</td>\n",
       "      <td>32</td>\n",
       "    </tr>\n",
       "    <tr>\n",
       "      <th>316</th>\n",
       "      <td>2019</td>\n",
       "      <td>8</td>\n",
       "      <td>9</td>\n",
       "      <td>14</td>\n",
       "      <td>18</td>\n",
       "      <td>23</td>\n",
       "      <td>38</td>\n",
       "      <td>16</td>\n",
       "    </tr>\n",
       "    <tr>\n",
       "      <th>317</th>\n",
       "      <td>2019</td>\n",
       "      <td>11</td>\n",
       "      <td>17</td>\n",
       "      <td>24</td>\n",
       "      <td>29</td>\n",
       "      <td>30</td>\n",
       "      <td>47</td>\n",
       "      <td>38</td>\n",
       "    </tr>\n",
       "    <tr>\n",
       "      <th>...</th>\n",
       "      <td>...</td>\n",
       "      <td>...</td>\n",
       "      <td>...</td>\n",
       "      <td>...</td>\n",
       "      <td>...</td>\n",
       "      <td>...</td>\n",
       "      <td>...</td>\n",
       "      <td>...</td>\n",
       "    </tr>\n",
       "    <tr>\n",
       "      <th>520</th>\n",
       "      <td>2020</td>\n",
       "      <td>2</td>\n",
       "      <td>5</td>\n",
       "      <td>16</td>\n",
       "      <td>17</td>\n",
       "      <td>22</td>\n",
       "      <td>23</td>\n",
       "      <td>36</td>\n",
       "    </tr>\n",
       "    <tr>\n",
       "      <th>521</th>\n",
       "      <td>2020</td>\n",
       "      <td>4</td>\n",
       "      <td>5</td>\n",
       "      <td>23</td>\n",
       "      <td>30</td>\n",
       "      <td>42</td>\n",
       "      <td>47</td>\n",
       "      <td>3</td>\n",
       "    </tr>\n",
       "    <tr>\n",
       "      <th>522</th>\n",
       "      <td>2021</td>\n",
       "      <td>10</td>\n",
       "      <td>17</td>\n",
       "      <td>42</td>\n",
       "      <td>43</td>\n",
       "      <td>45</td>\n",
       "      <td>47</td>\n",
       "      <td>37</td>\n",
       "    </tr>\n",
       "    <tr>\n",
       "      <th>523</th>\n",
       "      <td>2021</td>\n",
       "      <td>8</td>\n",
       "      <td>10</td>\n",
       "      <td>14</td>\n",
       "      <td>23</td>\n",
       "      <td>39</td>\n",
       "      <td>47</td>\n",
       "      <td>5</td>\n",
       "    </tr>\n",
       "    <tr>\n",
       "      <th>524</th>\n",
       "      <td>2021</td>\n",
       "      <td>3</td>\n",
       "      <td>6</td>\n",
       "      <td>18</td>\n",
       "      <td>26</td>\n",
       "      <td>42</td>\n",
       "      <td>47</td>\n",
       "      <td>1</td>\n",
       "    </tr>\n",
       "  </tbody>\n",
       "</table>\n",
       "<p>212 rows × 8 columns</p>\n",
       "</div>"
      ],
      "text/plain": [
       "     Year   A   B   C   D   E   F  Bonus\n",
       "313  2019   2  14  18  23  34  39     25\n",
       "314  2019  12  23  30  36  37  38      3\n",
       "315  2019   6  19  22  28  35  40     32\n",
       "316  2019   8   9  14  18  23  38     16\n",
       "317  2019  11  17  24  29  30  47     38\n",
       "..    ...  ..  ..  ..  ..  ..  ..    ...\n",
       "520  2020   2   5  16  17  22  23     36\n",
       "521  2020   4   5  23  30  42  47      3\n",
       "522  2021  10  17  42  43  45  47     37\n",
       "523  2021   8  10  14  23  39  47      5\n",
       "524  2021   3   6  18  26  42  47      1\n",
       "\n",
       "[212 rows x 8 columns]"
      ]
     },
     "execution_count": 108,
     "metadata": {},
     "output_type": "execute_result"
    }
   ],
   "source": [
    "df19_20_21 = df_lotto.loc[df_lotto['Year'].isin(['2019','2020','2021'])]\n",
    "df19_20_21"
   ]
  },
  {
   "cell_type": "code",
   "execution_count": 110,
   "metadata": {},
   "outputs": [
    {
     "name": "stdout",
     "output_type": "stream",
     "text": [
      "3\n",
      "44\n"
     ]
    }
   ],
   "source": [
    "list_ball_19to21 = list(df19_20_21.drop(['Year'],axis=1).values.T.flatten())\n",
    "most_common_19to21,num_most_common_19to21 = Counter(list_ball_19to21).most_common(1)[0]\n",
    "print(most_common_19to21)\n",
    "print(num_most_common_19to21)"
   ]
  },
  {
   "cell_type": "code",
   "execution_count": 111,
   "metadata": {},
   "outputs": [
    {
     "data": {
      "text/plain": [
       "[(3, 44), (23, 43), (14, 42), (27, 39), (37, 39), (42, 39)]"
      ]
     },
     "execution_count": 111,
     "metadata": {},
     "output_type": "execute_result"
    }
   ],
   "source": [
    "# find the 6 most common numbers in the list\n",
    "most_common_6_19to21 = Counter(list_ball_19to21).most_common(6)\n",
    "most_common_6_19to21"
   ]
  },
  {
   "cell_type": "code",
   "execution_count": 112,
   "metadata": {},
   "outputs": [
    {
     "name": "stdout",
     "output_type": "stream",
     "text": [
      "[3, 23, 14, 27, 37, 42, 16, 10, 34, 47, 29, 12, 15, 7, 33, 13, 38, 18, 22, 35, 31, 39, 1, 28, 30, 40, 20, 41, 46, 5, 45, 9, 2, 17, 44, 4, 19, 21, 24, 6, 8, 11, 25, 26, 43, 36, 32]\n",
      "{2: 28, 12: 35, 6: 25, 8: 25, 11: 24, 13: 34, 14: 42, 4: 27, 15: 35, 1: 32, 3: 44, 5: 30, 7: 35, 9: 29, 18: 33, 16: 38, 10: 38, 20: 31, 22: 33, 19: 26, 21: 26, 23: 43, 17: 28, 28: 32, 27: 39, 29: 36, 25: 24, 32: 17, 24: 26, 30: 32, 26: 23, 33: 35, 34: 37, 37: 39, 35: 33, 36: 19, 31: 33, 42: 39, 39: 33, 38: 34, 40: 32, 45: 30, 41: 31, 43: 23, 44: 28, 46: 31, 47: 37}\n"
     ]
    }
   ],
   "source": [
    "number_counter_19to21 = {}\n",
    "for number in list_ball_19to21:\n",
    "    if number in number_counter_19to21:\n",
    "        number_counter_19to21[number] += 1\n",
    "    else:\n",
    "        number_counter_19to21[number] = 1\n",
    " \n",
    "popular_numbers_19to21 = sorted(number_counter_19to21, key = number_counter_19to21.get, reverse = True)\n",
    " \n",
    "print(popular_numbers_19to21)\n",
    "print(number_counter_19to21)"
   ]
  },
  {
   "cell_type": "code",
   "execution_count": 113,
   "metadata": {},
   "outputs": [
    {
     "name": "stdout",
     "output_type": "stream",
     "text": [
      "3\t: \t 44 times\n",
      "23\t: \t 43 times\n",
      "14\t: \t 42 times\n",
      "27\t: \t 39 times\n",
      "37\t: \t 39 times\n",
      "42\t: \t 39 times\n",
      "16\t: \t 38 times\n",
      "10\t: \t 38 times\n",
      "34\t: \t 37 times\n",
      "47\t: \t 37 times\n",
      "29\t: \t 36 times\n",
      "12\t: \t 35 times\n",
      "15\t: \t 35 times\n",
      "7\t: \t 35 times\n",
      "33\t: \t 35 times\n",
      "13\t: \t 34 times\n",
      "38\t: \t 34 times\n",
      "18\t: \t 33 times\n",
      "22\t: \t 33 times\n",
      "35\t: \t 33 times\n",
      "31\t: \t 33 times\n",
      "39\t: \t 33 times\n",
      "1\t: \t 32 times\n",
      "28\t: \t 32 times\n",
      "30\t: \t 32 times\n",
      "40\t: \t 32 times\n",
      "20\t: \t 31 times\n",
      "41\t: \t 31 times\n",
      "46\t: \t 31 times\n",
      "5\t: \t 30 times\n",
      "45\t: \t 30 times\n",
      "9\t: \t 29 times\n",
      "2\t: \t 28 times\n",
      "17\t: \t 28 times\n",
      "44\t: \t 28 times\n",
      "4\t: \t 27 times\n",
      "19\t: \t 26 times\n",
      "21\t: \t 26 times\n",
      "24\t: \t 26 times\n",
      "6\t: \t 25 times\n",
      "8\t: \t 25 times\n",
      "11\t: \t 24 times\n",
      "25\t: \t 24 times\n",
      "26\t: \t 23 times\n",
      "43\t: \t 23 times\n",
      "36\t: \t 19 times\n",
      "32\t: \t 17 times\n"
     ]
    }
   ],
   "source": [
    "#print the dictionary with sorted values\n",
    "dictionary_numbers_19to21 = Counter(list_ball_19to21)\n",
    "dictionary_numbers_sorted_keys_19to21 = sorted(dictionary_numbers_19to21, key=dictionary_numbers_19to21.get, reverse=True)\n",
    "for r in dictionary_numbers_sorted_keys_19to21:\n",
    "    print (\"{}\\t: \\t {} times\".format(r, dictionary_numbers_19to21[r]))"
   ]
  },
  {
   "cell_type": "code",
   "execution_count": null,
   "metadata": {},
   "outputs": [],
   "source": []
  },
  {
   "cell_type": "code",
   "execution_count": null,
   "metadata": {},
   "outputs": [],
   "source": []
  }
 ],
 "metadata": {
  "kernelspec": {
   "display_name": "Python 3",
   "language": "python",
   "name": "python3"
  },
  "language_info": {
   "codemirror_mode": {
    "name": "ipython",
    "version": 3
   },
   "file_extension": ".py",
   "mimetype": "text/x-python",
   "name": "python",
   "nbconvert_exporter": "python",
   "pygments_lexer": "ipython3",
   "version": "3.8.5"
  }
 },
 "nbformat": 4,
 "nbformat_minor": 4
}
