{
 "cells": [
  {
   "cell_type": "code",
   "execution_count": 1,
   "metadata": {},
   "outputs": [
    {
     "data": {
      "text/plain": [
       "<Response [200]>"
      ]
     },
     "execution_count": 1,
     "metadata": {},
     "output_type": "execute_result"
    }
   ],
   "source": [
    "#import the library used to query a website\n",
    "import requests\n",
    "#specify the url for 2019\n",
    "lottery = \"https://www.irishlottery.com/archive-2019\"\n",
    "#Query the website and return the html to the variable 'page'\n",
    "page = requests.get(lottery)\n",
    "page"
   ]
  },
  {
   "cell_type": "code",
   "execution_count": 2,
   "metadata": {},
   "outputs": [
    {
     "data": {
      "text/plain": [
       "200"
      ]
     },
     "execution_count": 2,
     "metadata": {},
     "output_type": "execute_result"
    }
   ],
   "source": [
    "page.status_code"
   ]
  },
  {
   "cell_type": "code",
   "execution_count": 3,
   "metadata": {},
   "outputs": [],
   "source": [
    "#import the Beautiful soup functions to parse the data returned from the website\n",
    "from bs4 import BeautifulSoup\n",
    "#Parse the html in the 'page' variable, and store it in Beautiful Soup format\n",
    "soup = BeautifulSoup(page.content, 'lxml')"
   ]
  },
  {
   "cell_type": "code",
   "execution_count": 4,
   "metadata": {},
   "outputs": [
    {
     "data": {
      "text/plain": [
       "list"
      ]
     },
     "execution_count": 4,
     "metadata": {},
     "output_type": "execute_result"
    }
   ],
   "source": [
    "# Find the 6 lotto numbers available at the class = \"Ball\"\n",
    "ball_class_19 = soup.find_all(\"li\", class_=\"ball\")\n",
    "#get the text using list comprehension\n",
    "ball_19 = [pt.get_text() for pt in ball_class_19]\n",
    "type(ball_19)"
   ]
  },
  {
   "cell_type": "code",
   "execution_count": 5,
   "metadata": {},
   "outputs": [
    {
     "data": {
      "text/html": [
       "<div>\n",
       "<style scoped>\n",
       "    .dataframe tbody tr th:only-of-type {\n",
       "        vertical-align: middle;\n",
       "    }\n",
       "\n",
       "    .dataframe tbody tr th {\n",
       "        vertical-align: top;\n",
       "    }\n",
       "\n",
       "    .dataframe thead th {\n",
       "        text-align: right;\n",
       "    }\n",
       "</style>\n",
       "<table border=\"1\" class=\"dataframe\">\n",
       "  <thead>\n",
       "    <tr style=\"text-align: right;\">\n",
       "      <th></th>\n",
       "      <th>A</th>\n",
       "      <th>B</th>\n",
       "      <th>C</th>\n",
       "      <th>D</th>\n",
       "      <th>E</th>\n",
       "      <th>F</th>\n",
       "    </tr>\n",
       "  </thead>\n",
       "  <tbody>\n",
       "    <tr>\n",
       "      <th>0</th>\n",
       "      <td>2</td>\n",
       "      <td>14</td>\n",
       "      <td>18</td>\n",
       "      <td>23</td>\n",
       "      <td>34</td>\n",
       "      <td>39</td>\n",
       "    </tr>\n",
       "    <tr>\n",
       "      <th>1</th>\n",
       "      <td>12</td>\n",
       "      <td>23</td>\n",
       "      <td>30</td>\n",
       "      <td>36</td>\n",
       "      <td>37</td>\n",
       "      <td>38</td>\n",
       "    </tr>\n",
       "    <tr>\n",
       "      <th>2</th>\n",
       "      <td>6</td>\n",
       "      <td>19</td>\n",
       "      <td>22</td>\n",
       "      <td>28</td>\n",
       "      <td>35</td>\n",
       "      <td>40</td>\n",
       "    </tr>\n",
       "    <tr>\n",
       "      <th>3</th>\n",
       "      <td>8</td>\n",
       "      <td>9</td>\n",
       "      <td>14</td>\n",
       "      <td>18</td>\n",
       "      <td>23</td>\n",
       "      <td>38</td>\n",
       "    </tr>\n",
       "    <tr>\n",
       "      <th>4</th>\n",
       "      <td>11</td>\n",
       "      <td>17</td>\n",
       "      <td>24</td>\n",
       "      <td>29</td>\n",
       "      <td>30</td>\n",
       "      <td>47</td>\n",
       "    </tr>\n",
       "    <tr>\n",
       "      <th>...</th>\n",
       "      <td>...</td>\n",
       "      <td>...</td>\n",
       "      <td>...</td>\n",
       "      <td>...</td>\n",
       "      <td>...</td>\n",
       "      <td>...</td>\n",
       "    </tr>\n",
       "    <tr>\n",
       "      <th>99</th>\n",
       "      <td>6</td>\n",
       "      <td>9</td>\n",
       "      <td>11</td>\n",
       "      <td>27</td>\n",
       "      <td>34</td>\n",
       "      <td>42</td>\n",
       "    </tr>\n",
       "    <tr>\n",
       "      <th>100</th>\n",
       "      <td>19</td>\n",
       "      <td>30</td>\n",
       "      <td>32</td>\n",
       "      <td>33</td>\n",
       "      <td>35</td>\n",
       "      <td>46</td>\n",
       "    </tr>\n",
       "    <tr>\n",
       "      <th>101</th>\n",
       "      <td>15</td>\n",
       "      <td>16</td>\n",
       "      <td>18</td>\n",
       "      <td>23</td>\n",
       "      <td>39</td>\n",
       "      <td>45</td>\n",
       "    </tr>\n",
       "    <tr>\n",
       "      <th>102</th>\n",
       "      <td>7</td>\n",
       "      <td>10</td>\n",
       "      <td>18</td>\n",
       "      <td>26</td>\n",
       "      <td>37</td>\n",
       "      <td>40</td>\n",
       "    </tr>\n",
       "    <tr>\n",
       "      <th>103</th>\n",
       "      <td>2</td>\n",
       "      <td>14</td>\n",
       "      <td>26</td>\n",
       "      <td>33</td>\n",
       "      <td>37</td>\n",
       "      <td>47</td>\n",
       "    </tr>\n",
       "  </tbody>\n",
       "</table>\n",
       "<p>104 rows × 6 columns</p>\n",
       "</div>"
      ],
      "text/plain": [
       "      A   B   C   D   E   F\n",
       "0     2  14  18  23  34  39\n",
       "1    12  23  30  36  37  38\n",
       "2     6  19  22  28  35  40\n",
       "3     8   9  14  18  23  38\n",
       "4    11  17  24  29  30  47\n",
       "..   ..  ..  ..  ..  ..  ..\n",
       "99    6   9  11  27  34  42\n",
       "100  19  30  32  33  35  46\n",
       "101  15  16  18  23  39  45\n",
       "102   7  10  18  26  37  40\n",
       "103   2  14  26  33  37  47\n",
       "\n",
       "[104 rows x 6 columns]"
      ]
     },
     "execution_count": 5,
     "metadata": {},
     "output_type": "execute_result"
    }
   ],
   "source": [
    "#convert into a dataframe in acsending order\n",
    "import numpy as np\n",
    "import pandas as pd\n",
    "df_ball_19 = pd.DataFrame(np.array(ball_19).reshape(-1,6),columns = list(\"ABCDEF\"))\n",
    "df_ball_19"
   ]
  },
  {
   "cell_type": "code",
   "execution_count": 6,
   "metadata": {},
   "outputs": [
    {
     "data": {
      "text/plain": [
       "list"
      ]
     },
     "execution_count": 6,
     "metadata": {},
     "output_type": "execute_result"
    }
   ],
   "source": [
    "# Find the bonus number available at the class = \"bonus-ball\"\n",
    "ball_bonus_class_19 = soup.find_all(\"li\", class_=\"bonus-ball\")\n",
    "ball_bonus_19 = [pt.get_text() for pt in ball_bonus_class_19]\n",
    "type(ball_bonus_19)"
   ]
  },
  {
   "cell_type": "code",
   "execution_count": 7,
   "metadata": {},
   "outputs": [],
   "source": [
    "df_ball_bonus_19 = pd.DataFrame(ball_bonus_19,columns = ['Bonus'])"
   ]
  },
  {
   "cell_type": "code",
   "execution_count": 8,
   "metadata": {},
   "outputs": [
    {
     "data": {
      "text/html": [
       "<div>\n",
       "<style scoped>\n",
       "    .dataframe tbody tr th:only-of-type {\n",
       "        vertical-align: middle;\n",
       "    }\n",
       "\n",
       "    .dataframe tbody tr th {\n",
       "        vertical-align: top;\n",
       "    }\n",
       "\n",
       "    .dataframe thead th {\n",
       "        text-align: right;\n",
       "    }\n",
       "</style>\n",
       "<table border=\"1\" class=\"dataframe\">\n",
       "  <thead>\n",
       "    <tr style=\"text-align: right;\">\n",
       "      <th></th>\n",
       "      <th>A</th>\n",
       "      <th>B</th>\n",
       "      <th>C</th>\n",
       "      <th>D</th>\n",
       "      <th>E</th>\n",
       "      <th>F</th>\n",
       "      <th>Bonus</th>\n",
       "    </tr>\n",
       "  </thead>\n",
       "  <tbody>\n",
       "    <tr>\n",
       "      <th>0</th>\n",
       "      <td>2</td>\n",
       "      <td>14</td>\n",
       "      <td>18</td>\n",
       "      <td>23</td>\n",
       "      <td>34</td>\n",
       "      <td>39</td>\n",
       "      <td>25</td>\n",
       "    </tr>\n",
       "    <tr>\n",
       "      <th>1</th>\n",
       "      <td>12</td>\n",
       "      <td>23</td>\n",
       "      <td>30</td>\n",
       "      <td>36</td>\n",
       "      <td>37</td>\n",
       "      <td>38</td>\n",
       "      <td>3</td>\n",
       "    </tr>\n",
       "    <tr>\n",
       "      <th>2</th>\n",
       "      <td>6</td>\n",
       "      <td>19</td>\n",
       "      <td>22</td>\n",
       "      <td>28</td>\n",
       "      <td>35</td>\n",
       "      <td>40</td>\n",
       "      <td>32</td>\n",
       "    </tr>\n",
       "    <tr>\n",
       "      <th>3</th>\n",
       "      <td>8</td>\n",
       "      <td>9</td>\n",
       "      <td>14</td>\n",
       "      <td>18</td>\n",
       "      <td>23</td>\n",
       "      <td>38</td>\n",
       "      <td>16</td>\n",
       "    </tr>\n",
       "    <tr>\n",
       "      <th>4</th>\n",
       "      <td>11</td>\n",
       "      <td>17</td>\n",
       "      <td>24</td>\n",
       "      <td>29</td>\n",
       "      <td>30</td>\n",
       "      <td>47</td>\n",
       "      <td>38</td>\n",
       "    </tr>\n",
       "    <tr>\n",
       "      <th>...</th>\n",
       "      <td>...</td>\n",
       "      <td>...</td>\n",
       "      <td>...</td>\n",
       "      <td>...</td>\n",
       "      <td>...</td>\n",
       "      <td>...</td>\n",
       "      <td>...</td>\n",
       "    </tr>\n",
       "    <tr>\n",
       "      <th>99</th>\n",
       "      <td>6</td>\n",
       "      <td>9</td>\n",
       "      <td>11</td>\n",
       "      <td>27</td>\n",
       "      <td>34</td>\n",
       "      <td>42</td>\n",
       "      <td>14</td>\n",
       "    </tr>\n",
       "    <tr>\n",
       "      <th>100</th>\n",
       "      <td>19</td>\n",
       "      <td>30</td>\n",
       "      <td>32</td>\n",
       "      <td>33</td>\n",
       "      <td>35</td>\n",
       "      <td>46</td>\n",
       "      <td>3</td>\n",
       "    </tr>\n",
       "    <tr>\n",
       "      <th>101</th>\n",
       "      <td>15</td>\n",
       "      <td>16</td>\n",
       "      <td>18</td>\n",
       "      <td>23</td>\n",
       "      <td>39</td>\n",
       "      <td>45</td>\n",
       "      <td>22</td>\n",
       "    </tr>\n",
       "    <tr>\n",
       "      <th>102</th>\n",
       "      <td>7</td>\n",
       "      <td>10</td>\n",
       "      <td>18</td>\n",
       "      <td>26</td>\n",
       "      <td>37</td>\n",
       "      <td>40</td>\n",
       "      <td>4</td>\n",
       "    </tr>\n",
       "    <tr>\n",
       "      <th>103</th>\n",
       "      <td>2</td>\n",
       "      <td>14</td>\n",
       "      <td>26</td>\n",
       "      <td>33</td>\n",
       "      <td>37</td>\n",
       "      <td>47</td>\n",
       "      <td>38</td>\n",
       "    </tr>\n",
       "  </tbody>\n",
       "</table>\n",
       "<p>104 rows × 7 columns</p>\n",
       "</div>"
      ],
      "text/plain": [
       "      A   B   C   D   E   F Bonus\n",
       "0     2  14  18  23  34  39    25\n",
       "1    12  23  30  36  37  38     3\n",
       "2     6  19  22  28  35  40    32\n",
       "3     8   9  14  18  23  38    16\n",
       "4    11  17  24  29  30  47    38\n",
       "..   ..  ..  ..  ..  ..  ..   ...\n",
       "99    6   9  11  27  34  42    14\n",
       "100  19  30  32  33  35  46     3\n",
       "101  15  16  18  23  39  45    22\n",
       "102   7  10  18  26  37  40     4\n",
       "103   2  14  26  33  37  47    38\n",
       "\n",
       "[104 rows x 7 columns]"
      ]
     },
     "execution_count": 8,
     "metadata": {},
     "output_type": "execute_result"
    }
   ],
   "source": [
    "#join the two dataframes\n",
    "df_2019 = pd.concat([df_ball_19, df_ball_bonus_19], axis=1)\n",
    "df_2019"
   ]
  },
  {
   "cell_type": "code",
   "execution_count": 9,
   "metadata": {},
   "outputs": [],
   "source": [
    "#find all the dates available in th\n",
    "#date = soup.find_all(\"th\")\n",
    "#date1 = [pt.get_text() for pt in date]"
   ]
  },
  {
   "cell_type": "code",
   "execution_count": 10,
   "metadata": {},
   "outputs": [],
   "source": [
    "#convert to the dtaframe\n",
    "#df_date = pd.DataFrame(date1,columns =['Date'])\n",
    "#select the datframe after first two rows as they show result date and draw result\n",
    "#df_date = df_date[2:]"
   ]
  },
  {
   "cell_type": "code",
   "execution_count": 11,
   "metadata": {},
   "outputs": [],
   "source": [
    "#reset the index from 0\n",
    "#df_date = df_date.reset_index()\n",
    "#del df_date['index']"
   ]
  },
  {
   "cell_type": "code",
   "execution_count": 12,
   "metadata": {},
   "outputs": [],
   "source": [
    "#df_date.dtypes"
   ]
  },
  {
   "cell_type": "code",
   "execution_count": 13,
   "metadata": {},
   "outputs": [],
   "source": [
    "#convert the date into date time\n",
    "#df_date = df_date.apply(pd.to_datetime)"
   ]
  },
  {
   "cell_type": "code",
   "execution_count": 14,
   "metadata": {},
   "outputs": [],
   "source": [
    "#https://stackoverflow.com/questions/42693410/how-to-convert-object-to-date-in-pandas\n",
    "#df_date.dtypes"
   ]
  },
  {
   "cell_type": "code",
   "execution_count": 15,
   "metadata": {},
   "outputs": [],
   "source": [
    "#df1 = pd.concat([df_date, df_2019], axis=1)\n",
    "#df1.describe()"
   ]
  },
  {
   "cell_type": "code",
   "execution_count": 16,
   "metadata": {},
   "outputs": [],
   "source": [
    "# df_2019.to_csv('Lotto.csv'index=False)"
   ]
  },
  {
   "cell_type": "code",
   "execution_count": 17,
   "metadata": {},
   "outputs": [
    {
     "data": {
      "text/plain": [
       "<Response [200]>"
      ]
     },
     "execution_count": 17,
     "metadata": {},
     "output_type": "execute_result"
    }
   ],
   "source": [
    "lottery = \"https://www.irishlottery.com/archive-2020\"\n",
    "#Query the website and return the html to the variable 'page'\n",
    "page = requests.get(lottery)\n",
    "page"
   ]
  },
  {
   "cell_type": "code",
   "execution_count": 18,
   "metadata": {},
   "outputs": [
    {
     "data": {
      "text/plain": [
       "200"
      ]
     },
     "execution_count": 18,
     "metadata": {},
     "output_type": "execute_result"
    }
   ],
   "source": [
    "page.status_code"
   ]
  },
  {
   "cell_type": "code",
   "execution_count": 19,
   "metadata": {},
   "outputs": [],
   "source": [
    "soup = BeautifulSoup(page.content, 'lxml')"
   ]
  },
  {
   "cell_type": "code",
   "execution_count": 20,
   "metadata": {},
   "outputs": [
    {
     "data": {
      "text/plain": [
       "list"
      ]
     },
     "execution_count": 20,
     "metadata": {},
     "output_type": "execute_result"
    }
   ],
   "source": [
    "# Find the 6 lotto numbers available at the class = \"Ball\"\n",
    "ball_class_20 = soup.find_all(\"li\", class_=\"ball\")\n",
    "#get the text using list comprehension\n",
    "ball_20 = [pt.get_text() for pt in ball_class_20]\n",
    "type(ball_20)"
   ]
  },
  {
   "cell_type": "code",
   "execution_count": 21,
   "metadata": {},
   "outputs": [
    {
     "data": {
      "text/html": [
       "<div>\n",
       "<style scoped>\n",
       "    .dataframe tbody tr th:only-of-type {\n",
       "        vertical-align: middle;\n",
       "    }\n",
       "\n",
       "    .dataframe tbody tr th {\n",
       "        vertical-align: top;\n",
       "    }\n",
       "\n",
       "    .dataframe thead th {\n",
       "        text-align: right;\n",
       "    }\n",
       "</style>\n",
       "<table border=\"1\" class=\"dataframe\">\n",
       "  <thead>\n",
       "    <tr style=\"text-align: right;\">\n",
       "      <th></th>\n",
       "      <th>A</th>\n",
       "      <th>B</th>\n",
       "      <th>C</th>\n",
       "      <th>D</th>\n",
       "      <th>E</th>\n",
       "      <th>F</th>\n",
       "    </tr>\n",
       "  </thead>\n",
       "  <tbody>\n",
       "    <tr>\n",
       "      <th>0</th>\n",
       "      <td>8</td>\n",
       "      <td>13</td>\n",
       "      <td>21</td>\n",
       "      <td>23</td>\n",
       "      <td>40</td>\n",
       "      <td>44</td>\n",
       "    </tr>\n",
       "    <tr>\n",
       "      <th>1</th>\n",
       "      <td>22</td>\n",
       "      <td>23</td>\n",
       "      <td>24</td>\n",
       "      <td>28</td>\n",
       "      <td>32</td>\n",
       "      <td>41</td>\n",
       "    </tr>\n",
       "    <tr>\n",
       "      <th>2</th>\n",
       "      <td>22</td>\n",
       "      <td>30</td>\n",
       "      <td>33</td>\n",
       "      <td>39</td>\n",
       "      <td>40</td>\n",
       "      <td>45</td>\n",
       "    </tr>\n",
       "    <tr>\n",
       "      <th>3</th>\n",
       "      <td>9</td>\n",
       "      <td>14</td>\n",
       "      <td>16</td>\n",
       "      <td>28</td>\n",
       "      <td>33</td>\n",
       "      <td>38</td>\n",
       "    </tr>\n",
       "    <tr>\n",
       "      <th>4</th>\n",
       "      <td>15</td>\n",
       "      <td>19</td>\n",
       "      <td>24</td>\n",
       "      <td>32</td>\n",
       "      <td>38</td>\n",
       "      <td>40</td>\n",
       "    </tr>\n",
       "    <tr>\n",
       "      <th>...</th>\n",
       "      <td>...</td>\n",
       "      <td>...</td>\n",
       "      <td>...</td>\n",
       "      <td>...</td>\n",
       "      <td>...</td>\n",
       "      <td>...</td>\n",
       "    </tr>\n",
       "    <tr>\n",
       "      <th>100</th>\n",
       "      <td>15</td>\n",
       "      <td>17</td>\n",
       "      <td>23</td>\n",
       "      <td>31</td>\n",
       "      <td>33</td>\n",
       "      <td>41</td>\n",
       "    </tr>\n",
       "    <tr>\n",
       "      <th>101</th>\n",
       "      <td>3</td>\n",
       "      <td>15</td>\n",
       "      <td>20</td>\n",
       "      <td>22</td>\n",
       "      <td>24</td>\n",
       "      <td>45</td>\n",
       "    </tr>\n",
       "    <tr>\n",
       "      <th>102</th>\n",
       "      <td>2</td>\n",
       "      <td>5</td>\n",
       "      <td>13</td>\n",
       "      <td>31</td>\n",
       "      <td>42</td>\n",
       "      <td>44</td>\n",
       "    </tr>\n",
       "    <tr>\n",
       "      <th>103</th>\n",
       "      <td>2</td>\n",
       "      <td>5</td>\n",
       "      <td>16</td>\n",
       "      <td>17</td>\n",
       "      <td>22</td>\n",
       "      <td>23</td>\n",
       "    </tr>\n",
       "    <tr>\n",
       "      <th>104</th>\n",
       "      <td>4</td>\n",
       "      <td>5</td>\n",
       "      <td>23</td>\n",
       "      <td>30</td>\n",
       "      <td>42</td>\n",
       "      <td>47</td>\n",
       "    </tr>\n",
       "  </tbody>\n",
       "</table>\n",
       "<p>105 rows × 6 columns</p>\n",
       "</div>"
      ],
      "text/plain": [
       "      A   B   C   D   E   F\n",
       "0     8  13  21  23  40  44\n",
       "1    22  23  24  28  32  41\n",
       "2    22  30  33  39  40  45\n",
       "3     9  14  16  28  33  38\n",
       "4    15  19  24  32  38  40\n",
       "..   ..  ..  ..  ..  ..  ..\n",
       "100  15  17  23  31  33  41\n",
       "101   3  15  20  22  24  45\n",
       "102   2   5  13  31  42  44\n",
       "103   2   5  16  17  22  23\n",
       "104   4   5  23  30  42  47\n",
       "\n",
       "[105 rows x 6 columns]"
      ]
     },
     "execution_count": 21,
     "metadata": {},
     "output_type": "execute_result"
    }
   ],
   "source": [
    "df_ball_20 = pd.DataFrame(np.array(ball_20).reshape(-1,6),columns = list(\"ABCDEF\"))\n",
    "df_ball_20"
   ]
  },
  {
   "cell_type": "code",
   "execution_count": 22,
   "metadata": {},
   "outputs": [
    {
     "data": {
      "text/plain": [
       "list"
      ]
     },
     "execution_count": 22,
     "metadata": {},
     "output_type": "execute_result"
    }
   ],
   "source": [
    "ball_bonus_class_20 = soup.find_all(\"li\", class_=\"bonus-ball\")\n",
    "ball_bonus_20 = [pt.get_text() for pt in ball_bonus_class_20]\n",
    "type(ball_bonus_20)"
   ]
  },
  {
   "cell_type": "code",
   "execution_count": 23,
   "metadata": {},
   "outputs": [],
   "source": [
    "df_ball_bonus_20 = pd.DataFrame(ball_bonus_20,columns = ['Bonus'])"
   ]
  },
  {
   "cell_type": "code",
   "execution_count": 24,
   "metadata": {},
   "outputs": [
    {
     "data": {
      "text/html": [
       "<div>\n",
       "<style scoped>\n",
       "    .dataframe tbody tr th:only-of-type {\n",
       "        vertical-align: middle;\n",
       "    }\n",
       "\n",
       "    .dataframe tbody tr th {\n",
       "        vertical-align: top;\n",
       "    }\n",
       "\n",
       "    .dataframe thead th {\n",
       "        text-align: right;\n",
       "    }\n",
       "</style>\n",
       "<table border=\"1\" class=\"dataframe\">\n",
       "  <thead>\n",
       "    <tr style=\"text-align: right;\">\n",
       "      <th></th>\n",
       "      <th>A</th>\n",
       "      <th>B</th>\n",
       "      <th>C</th>\n",
       "      <th>D</th>\n",
       "      <th>E</th>\n",
       "      <th>F</th>\n",
       "      <th>Bonus</th>\n",
       "    </tr>\n",
       "  </thead>\n",
       "  <tbody>\n",
       "    <tr>\n",
       "      <th>0</th>\n",
       "      <td>8</td>\n",
       "      <td>13</td>\n",
       "      <td>21</td>\n",
       "      <td>23</td>\n",
       "      <td>40</td>\n",
       "      <td>44</td>\n",
       "      <td>28</td>\n",
       "    </tr>\n",
       "    <tr>\n",
       "      <th>1</th>\n",
       "      <td>22</td>\n",
       "      <td>23</td>\n",
       "      <td>24</td>\n",
       "      <td>28</td>\n",
       "      <td>32</td>\n",
       "      <td>41</td>\n",
       "      <td>44</td>\n",
       "    </tr>\n",
       "    <tr>\n",
       "      <th>2</th>\n",
       "      <td>22</td>\n",
       "      <td>30</td>\n",
       "      <td>33</td>\n",
       "      <td>39</td>\n",
       "      <td>40</td>\n",
       "      <td>45</td>\n",
       "      <td>38</td>\n",
       "    </tr>\n",
       "    <tr>\n",
       "      <th>3</th>\n",
       "      <td>9</td>\n",
       "      <td>14</td>\n",
       "      <td>16</td>\n",
       "      <td>28</td>\n",
       "      <td>33</td>\n",
       "      <td>38</td>\n",
       "      <td>22</td>\n",
       "    </tr>\n",
       "    <tr>\n",
       "      <th>4</th>\n",
       "      <td>15</td>\n",
       "      <td>19</td>\n",
       "      <td>24</td>\n",
       "      <td>32</td>\n",
       "      <td>38</td>\n",
       "      <td>40</td>\n",
       "      <td>23</td>\n",
       "    </tr>\n",
       "    <tr>\n",
       "      <th>...</th>\n",
       "      <td>...</td>\n",
       "      <td>...</td>\n",
       "      <td>...</td>\n",
       "      <td>...</td>\n",
       "      <td>...</td>\n",
       "      <td>...</td>\n",
       "      <td>...</td>\n",
       "    </tr>\n",
       "    <tr>\n",
       "      <th>100</th>\n",
       "      <td>15</td>\n",
       "      <td>17</td>\n",
       "      <td>23</td>\n",
       "      <td>31</td>\n",
       "      <td>33</td>\n",
       "      <td>41</td>\n",
       "      <td>45</td>\n",
       "    </tr>\n",
       "    <tr>\n",
       "      <th>101</th>\n",
       "      <td>3</td>\n",
       "      <td>15</td>\n",
       "      <td>20</td>\n",
       "      <td>22</td>\n",
       "      <td>24</td>\n",
       "      <td>45</td>\n",
       "      <td>14</td>\n",
       "    </tr>\n",
       "    <tr>\n",
       "      <th>102</th>\n",
       "      <td>2</td>\n",
       "      <td>5</td>\n",
       "      <td>13</td>\n",
       "      <td>31</td>\n",
       "      <td>42</td>\n",
       "      <td>44</td>\n",
       "      <td>35</td>\n",
       "    </tr>\n",
       "    <tr>\n",
       "      <th>103</th>\n",
       "      <td>2</td>\n",
       "      <td>5</td>\n",
       "      <td>16</td>\n",
       "      <td>17</td>\n",
       "      <td>22</td>\n",
       "      <td>23</td>\n",
       "      <td>36</td>\n",
       "    </tr>\n",
       "    <tr>\n",
       "      <th>104</th>\n",
       "      <td>4</td>\n",
       "      <td>5</td>\n",
       "      <td>23</td>\n",
       "      <td>30</td>\n",
       "      <td>42</td>\n",
       "      <td>47</td>\n",
       "      <td>3</td>\n",
       "    </tr>\n",
       "  </tbody>\n",
       "</table>\n",
       "<p>105 rows × 7 columns</p>\n",
       "</div>"
      ],
      "text/plain": [
       "      A   B   C   D   E   F Bonus\n",
       "0     8  13  21  23  40  44    28\n",
       "1    22  23  24  28  32  41    44\n",
       "2    22  30  33  39  40  45    38\n",
       "3     9  14  16  28  33  38    22\n",
       "4    15  19  24  32  38  40    23\n",
       "..   ..  ..  ..  ..  ..  ..   ...\n",
       "100  15  17  23  31  33  41    45\n",
       "101   3  15  20  22  24  45    14\n",
       "102   2   5  13  31  42  44    35\n",
       "103   2   5  16  17  22  23    36\n",
       "104   4   5  23  30  42  47     3\n",
       "\n",
       "[105 rows x 7 columns]"
      ]
     },
     "execution_count": 24,
     "metadata": {},
     "output_type": "execute_result"
    }
   ],
   "source": [
    "#join the two dataframes\n",
    "df_2020 = pd.concat([df_ball_20, df_ball_bonus_20], axis=1)\n",
    "df_2020"
   ]
  },
  {
   "cell_type": "code",
   "execution_count": 25,
   "metadata": {},
   "outputs": [
    {
     "data": {
      "text/plain": [
       "<Response [200]>"
      ]
     },
     "execution_count": 25,
     "metadata": {},
     "output_type": "execute_result"
    }
   ],
   "source": [
    "lottery = \"https://www.irishlottery.com/archive-2018\"\n",
    "#Query the website and return the html to the variable 'page'\n",
    "page = requests.get(lottery)\n",
    "page"
   ]
  },
  {
   "cell_type": "code",
   "execution_count": 26,
   "metadata": {},
   "outputs": [
    {
     "data": {
      "text/plain": [
       "200"
      ]
     },
     "execution_count": 26,
     "metadata": {},
     "output_type": "execute_result"
    }
   ],
   "source": [
    "page.status_code"
   ]
  },
  {
   "cell_type": "code",
   "execution_count": 27,
   "metadata": {},
   "outputs": [],
   "source": [
    "soup = BeautifulSoup(page.content, 'lxml')"
   ]
  },
  {
   "cell_type": "code",
   "execution_count": 28,
   "metadata": {},
   "outputs": [
    {
     "data": {
      "text/plain": [
       "list"
      ]
     },
     "execution_count": 28,
     "metadata": {},
     "output_type": "execute_result"
    }
   ],
   "source": [
    "# Find the 6 lotto numbers available at the class = \"Ball\"\n",
    "ball_class_18 = soup.find_all(\"li\", class_=\"ball\")\n",
    "#get the text using list comprehension\n",
    "ball_18 = [pt.get_text() for pt in ball_class_18]\n",
    "type(ball_18)"
   ]
  },
  {
   "cell_type": "code",
   "execution_count": 29,
   "metadata": {},
   "outputs": [
    {
     "data": {
      "text/html": [
       "<div>\n",
       "<style scoped>\n",
       "    .dataframe tbody tr th:only-of-type {\n",
       "        vertical-align: middle;\n",
       "    }\n",
       "\n",
       "    .dataframe tbody tr th {\n",
       "        vertical-align: top;\n",
       "    }\n",
       "\n",
       "    .dataframe thead th {\n",
       "        text-align: right;\n",
       "    }\n",
       "</style>\n",
       "<table border=\"1\" class=\"dataframe\">\n",
       "  <thead>\n",
       "    <tr style=\"text-align: right;\">\n",
       "      <th></th>\n",
       "      <th>A</th>\n",
       "      <th>B</th>\n",
       "      <th>C</th>\n",
       "      <th>D</th>\n",
       "      <th>E</th>\n",
       "      <th>F</th>\n",
       "    </tr>\n",
       "  </thead>\n",
       "  <tbody>\n",
       "    <tr>\n",
       "      <th>0</th>\n",
       "      <td>7</td>\n",
       "      <td>13</td>\n",
       "      <td>18</td>\n",
       "      <td>26</td>\n",
       "      <td>27</td>\n",
       "      <td>28</td>\n",
       "    </tr>\n",
       "    <tr>\n",
       "      <th>1</th>\n",
       "      <td>1</td>\n",
       "      <td>2</td>\n",
       "      <td>30</td>\n",
       "      <td>41</td>\n",
       "      <td>42</td>\n",
       "      <td>43</td>\n",
       "    </tr>\n",
       "    <tr>\n",
       "      <th>2</th>\n",
       "      <td>5</td>\n",
       "      <td>20</td>\n",
       "      <td>21</td>\n",
       "      <td>24</td>\n",
       "      <td>34</td>\n",
       "      <td>45</td>\n",
       "    </tr>\n",
       "    <tr>\n",
       "      <th>3</th>\n",
       "      <td>1</td>\n",
       "      <td>5</td>\n",
       "      <td>19</td>\n",
       "      <td>24</td>\n",
       "      <td>27</td>\n",
       "      <td>42</td>\n",
       "    </tr>\n",
       "    <tr>\n",
       "      <th>4</th>\n",
       "      <td>2</td>\n",
       "      <td>9</td>\n",
       "      <td>23</td>\n",
       "      <td>34</td>\n",
       "      <td>35</td>\n",
       "      <td>38</td>\n",
       "    </tr>\n",
       "    <tr>\n",
       "      <th>...</th>\n",
       "      <td>...</td>\n",
       "      <td>...</td>\n",
       "      <td>...</td>\n",
       "      <td>...</td>\n",
       "      <td>...</td>\n",
       "      <td>...</td>\n",
       "    </tr>\n",
       "    <tr>\n",
       "      <th>99</th>\n",
       "      <td>1</td>\n",
       "      <td>4</td>\n",
       "      <td>25</td>\n",
       "      <td>31</td>\n",
       "      <td>32</td>\n",
       "      <td>38</td>\n",
       "    </tr>\n",
       "    <tr>\n",
       "      <th>100</th>\n",
       "      <td>1</td>\n",
       "      <td>2</td>\n",
       "      <td>7</td>\n",
       "      <td>33</td>\n",
       "      <td>34</td>\n",
       "      <td>40</td>\n",
       "    </tr>\n",
       "    <tr>\n",
       "      <th>101</th>\n",
       "      <td>29</td>\n",
       "      <td>32</td>\n",
       "      <td>33</td>\n",
       "      <td>35</td>\n",
       "      <td>36</td>\n",
       "      <td>44</td>\n",
       "    </tr>\n",
       "    <tr>\n",
       "      <th>102</th>\n",
       "      <td>6</td>\n",
       "      <td>8</td>\n",
       "      <td>19</td>\n",
       "      <td>20</td>\n",
       "      <td>38</td>\n",
       "      <td>46</td>\n",
       "    </tr>\n",
       "    <tr>\n",
       "      <th>103</th>\n",
       "      <td>3</td>\n",
       "      <td>8</td>\n",
       "      <td>15</td>\n",
       "      <td>22</td>\n",
       "      <td>25</td>\n",
       "      <td>27</td>\n",
       "    </tr>\n",
       "  </tbody>\n",
       "</table>\n",
       "<p>104 rows × 6 columns</p>\n",
       "</div>"
      ],
      "text/plain": [
       "      A   B   C   D   E   F\n",
       "0     7  13  18  26  27  28\n",
       "1     1   2  30  41  42  43\n",
       "2     5  20  21  24  34  45\n",
       "3     1   5  19  24  27  42\n",
       "4     2   9  23  34  35  38\n",
       "..   ..  ..  ..  ..  ..  ..\n",
       "99    1   4  25  31  32  38\n",
       "100   1   2   7  33  34  40\n",
       "101  29  32  33  35  36  44\n",
       "102   6   8  19  20  38  46\n",
       "103   3   8  15  22  25  27\n",
       "\n",
       "[104 rows x 6 columns]"
      ]
     },
     "execution_count": 29,
     "metadata": {},
     "output_type": "execute_result"
    }
   ],
   "source": [
    "df_ball_18 = pd.DataFrame(np.array(ball_18).reshape(-1,6),columns = list(\"ABCDEF\"))\n",
    "df_ball_18"
   ]
  },
  {
   "cell_type": "code",
   "execution_count": 30,
   "metadata": {},
   "outputs": [
    {
     "data": {
      "text/plain": [
       "list"
      ]
     },
     "execution_count": 30,
     "metadata": {},
     "output_type": "execute_result"
    }
   ],
   "source": [
    "ball_bonus_class_18 = soup.find_all(\"li\", class_=\"bonus-ball\")\n",
    "ball_bonus_18 = [pt.get_text() for pt in ball_bonus_class_18]\n",
    "type(ball_bonus_18)"
   ]
  },
  {
   "cell_type": "code",
   "execution_count": 31,
   "metadata": {},
   "outputs": [],
   "source": [
    "df_ball_bonus_18 = pd.DataFrame(ball_bonus_18,columns = ['Bonus'])"
   ]
  },
  {
   "cell_type": "code",
   "execution_count": 32,
   "metadata": {},
   "outputs": [
    {
     "data": {
      "text/html": [
       "<div>\n",
       "<style scoped>\n",
       "    .dataframe tbody tr th:only-of-type {\n",
       "        vertical-align: middle;\n",
       "    }\n",
       "\n",
       "    .dataframe tbody tr th {\n",
       "        vertical-align: top;\n",
       "    }\n",
       "\n",
       "    .dataframe thead th {\n",
       "        text-align: right;\n",
       "    }\n",
       "</style>\n",
       "<table border=\"1\" class=\"dataframe\">\n",
       "  <thead>\n",
       "    <tr style=\"text-align: right;\">\n",
       "      <th></th>\n",
       "      <th>A</th>\n",
       "      <th>B</th>\n",
       "      <th>C</th>\n",
       "      <th>D</th>\n",
       "      <th>E</th>\n",
       "      <th>F</th>\n",
       "      <th>Bonus</th>\n",
       "    </tr>\n",
       "  </thead>\n",
       "  <tbody>\n",
       "    <tr>\n",
       "      <th>0</th>\n",
       "      <td>7</td>\n",
       "      <td>13</td>\n",
       "      <td>18</td>\n",
       "      <td>26</td>\n",
       "      <td>27</td>\n",
       "      <td>28</td>\n",
       "      <td>9</td>\n",
       "    </tr>\n",
       "    <tr>\n",
       "      <th>1</th>\n",
       "      <td>1</td>\n",
       "      <td>2</td>\n",
       "      <td>30</td>\n",
       "      <td>41</td>\n",
       "      <td>42</td>\n",
       "      <td>43</td>\n",
       "      <td>25</td>\n",
       "    </tr>\n",
       "    <tr>\n",
       "      <th>2</th>\n",
       "      <td>5</td>\n",
       "      <td>20</td>\n",
       "      <td>21</td>\n",
       "      <td>24</td>\n",
       "      <td>34</td>\n",
       "      <td>45</td>\n",
       "      <td>22</td>\n",
       "    </tr>\n",
       "    <tr>\n",
       "      <th>3</th>\n",
       "      <td>1</td>\n",
       "      <td>5</td>\n",
       "      <td>19</td>\n",
       "      <td>24</td>\n",
       "      <td>27</td>\n",
       "      <td>42</td>\n",
       "      <td>44</td>\n",
       "    </tr>\n",
       "    <tr>\n",
       "      <th>4</th>\n",
       "      <td>2</td>\n",
       "      <td>9</td>\n",
       "      <td>23</td>\n",
       "      <td>34</td>\n",
       "      <td>35</td>\n",
       "      <td>38</td>\n",
       "      <td>41</td>\n",
       "    </tr>\n",
       "    <tr>\n",
       "      <th>...</th>\n",
       "      <td>...</td>\n",
       "      <td>...</td>\n",
       "      <td>...</td>\n",
       "      <td>...</td>\n",
       "      <td>...</td>\n",
       "      <td>...</td>\n",
       "      <td>...</td>\n",
       "    </tr>\n",
       "    <tr>\n",
       "      <th>99</th>\n",
       "      <td>1</td>\n",
       "      <td>4</td>\n",
       "      <td>25</td>\n",
       "      <td>31</td>\n",
       "      <td>32</td>\n",
       "      <td>38</td>\n",
       "      <td>45</td>\n",
       "    </tr>\n",
       "    <tr>\n",
       "      <th>100</th>\n",
       "      <td>1</td>\n",
       "      <td>2</td>\n",
       "      <td>7</td>\n",
       "      <td>33</td>\n",
       "      <td>34</td>\n",
       "      <td>40</td>\n",
       "      <td>6</td>\n",
       "    </tr>\n",
       "    <tr>\n",
       "      <th>101</th>\n",
       "      <td>29</td>\n",
       "      <td>32</td>\n",
       "      <td>33</td>\n",
       "      <td>35</td>\n",
       "      <td>36</td>\n",
       "      <td>44</td>\n",
       "      <td>42</td>\n",
       "    </tr>\n",
       "    <tr>\n",
       "      <th>102</th>\n",
       "      <td>6</td>\n",
       "      <td>8</td>\n",
       "      <td>19</td>\n",
       "      <td>20</td>\n",
       "      <td>38</td>\n",
       "      <td>46</td>\n",
       "      <td>23</td>\n",
       "    </tr>\n",
       "    <tr>\n",
       "      <th>103</th>\n",
       "      <td>3</td>\n",
       "      <td>8</td>\n",
       "      <td>15</td>\n",
       "      <td>22</td>\n",
       "      <td>25</td>\n",
       "      <td>27</td>\n",
       "      <td>20</td>\n",
       "    </tr>\n",
       "  </tbody>\n",
       "</table>\n",
       "<p>104 rows × 7 columns</p>\n",
       "</div>"
      ],
      "text/plain": [
       "      A   B   C   D   E   F Bonus\n",
       "0     7  13  18  26  27  28     9\n",
       "1     1   2  30  41  42  43    25\n",
       "2     5  20  21  24  34  45    22\n",
       "3     1   5  19  24  27  42    44\n",
       "4     2   9  23  34  35  38    41\n",
       "..   ..  ..  ..  ..  ..  ..   ...\n",
       "99    1   4  25  31  32  38    45\n",
       "100   1   2   7  33  34  40     6\n",
       "101  29  32  33  35  36  44    42\n",
       "102   6   8  19  20  38  46    23\n",
       "103   3   8  15  22  25  27    20\n",
       "\n",
       "[104 rows x 7 columns]"
      ]
     },
     "execution_count": 32,
     "metadata": {},
     "output_type": "execute_result"
    }
   ],
   "source": [
    "#join the two dataframes\n",
    "df_2018 = pd.concat([df_ball_18, df_ball_bonus_18], axis=1)\n",
    "df_2018"
   ]
  },
  {
   "cell_type": "code",
   "execution_count": 33,
   "metadata": {},
   "outputs": [
    {
     "data": {
      "text/plain": [
       "<Response [200]>"
      ]
     },
     "execution_count": 33,
     "metadata": {},
     "output_type": "execute_result"
    }
   ],
   "source": [
    "lottery = \"https://www.irishlottery.com/archive-2017\"\n",
    "#Query the website and return the html to the variable 'page'\n",
    "page = requests.get(lottery)\n",
    "page"
   ]
  },
  {
   "cell_type": "code",
   "execution_count": 34,
   "metadata": {},
   "outputs": [
    {
     "data": {
      "text/plain": [
       "200"
      ]
     },
     "execution_count": 34,
     "metadata": {},
     "output_type": "execute_result"
    }
   ],
   "source": [
    "page.status_code"
   ]
  },
  {
   "cell_type": "code",
   "execution_count": 35,
   "metadata": {},
   "outputs": [],
   "source": [
    "soup = BeautifulSoup(page.content, 'lxml')"
   ]
  },
  {
   "cell_type": "code",
   "execution_count": 36,
   "metadata": {},
   "outputs": [
    {
     "data": {
      "text/plain": [
       "list"
      ]
     },
     "execution_count": 36,
     "metadata": {},
     "output_type": "execute_result"
    }
   ],
   "source": [
    "# Find the 6 lotto numbers available at the class = \"Ball\"\n",
    "ball_class_17 = soup.find_all(\"li\", class_=\"ball\")\n",
    "#get the text using list comprehension\n",
    "ball_17 = [pt.get_text() for pt in ball_class_17]\n",
    "type(ball_17)"
   ]
  },
  {
   "cell_type": "code",
   "execution_count": 37,
   "metadata": {},
   "outputs": [
    {
     "data": {
      "text/html": [
       "<div>\n",
       "<style scoped>\n",
       "    .dataframe tbody tr th:only-of-type {\n",
       "        vertical-align: middle;\n",
       "    }\n",
       "\n",
       "    .dataframe tbody tr th {\n",
       "        vertical-align: top;\n",
       "    }\n",
       "\n",
       "    .dataframe thead th {\n",
       "        text-align: right;\n",
       "    }\n",
       "</style>\n",
       "<table border=\"1\" class=\"dataframe\">\n",
       "  <thead>\n",
       "    <tr style=\"text-align: right;\">\n",
       "      <th></th>\n",
       "      <th>A</th>\n",
       "      <th>B</th>\n",
       "      <th>C</th>\n",
       "      <th>D</th>\n",
       "      <th>E</th>\n",
       "      <th>F</th>\n",
       "    </tr>\n",
       "  </thead>\n",
       "  <tbody>\n",
       "    <tr>\n",
       "      <th>0</th>\n",
       "      <td>2</td>\n",
       "      <td>8</td>\n",
       "      <td>14</td>\n",
       "      <td>18</td>\n",
       "      <td>39</td>\n",
       "      <td>44</td>\n",
       "    </tr>\n",
       "    <tr>\n",
       "      <th>1</th>\n",
       "      <td>17</td>\n",
       "      <td>20</td>\n",
       "      <td>22</td>\n",
       "      <td>24</td>\n",
       "      <td>25</td>\n",
       "      <td>40</td>\n",
       "    </tr>\n",
       "    <tr>\n",
       "      <th>2</th>\n",
       "      <td>5</td>\n",
       "      <td>14</td>\n",
       "      <td>28</td>\n",
       "      <td>29</td>\n",
       "      <td>32</td>\n",
       "      <td>38</td>\n",
       "    </tr>\n",
       "    <tr>\n",
       "      <th>3</th>\n",
       "      <td>15</td>\n",
       "      <td>16</td>\n",
       "      <td>18</td>\n",
       "      <td>26</td>\n",
       "      <td>27</td>\n",
       "      <td>38</td>\n",
       "    </tr>\n",
       "    <tr>\n",
       "      <th>4</th>\n",
       "      <td>1</td>\n",
       "      <td>21</td>\n",
       "      <td>33</td>\n",
       "      <td>37</td>\n",
       "      <td>38</td>\n",
       "      <td>40</td>\n",
       "    </tr>\n",
       "    <tr>\n",
       "      <th>...</th>\n",
       "      <td>...</td>\n",
       "      <td>...</td>\n",
       "      <td>...</td>\n",
       "      <td>...</td>\n",
       "      <td>...</td>\n",
       "      <td>...</td>\n",
       "    </tr>\n",
       "    <tr>\n",
       "      <th>99</th>\n",
       "      <td>2</td>\n",
       "      <td>12</td>\n",
       "      <td>24</td>\n",
       "      <td>31</td>\n",
       "      <td>34</td>\n",
       "      <td>43</td>\n",
       "    </tr>\n",
       "    <tr>\n",
       "      <th>100</th>\n",
       "      <td>2</td>\n",
       "      <td>4</td>\n",
       "      <td>11</td>\n",
       "      <td>22</td>\n",
       "      <td>25</td>\n",
       "      <td>34</td>\n",
       "    </tr>\n",
       "    <tr>\n",
       "      <th>101</th>\n",
       "      <td>8</td>\n",
       "      <td>12</td>\n",
       "      <td>13</td>\n",
       "      <td>16</td>\n",
       "      <td>19</td>\n",
       "      <td>24</td>\n",
       "    </tr>\n",
       "    <tr>\n",
       "      <th>102</th>\n",
       "      <td>33</td>\n",
       "      <td>36</td>\n",
       "      <td>39</td>\n",
       "      <td>42</td>\n",
       "      <td>45</td>\n",
       "      <td>47</td>\n",
       "    </tr>\n",
       "    <tr>\n",
       "      <th>103</th>\n",
       "      <td>6</td>\n",
       "      <td>10</td>\n",
       "      <td>19</td>\n",
       "      <td>21</td>\n",
       "      <td>43</td>\n",
       "      <td>44</td>\n",
       "    </tr>\n",
       "  </tbody>\n",
       "</table>\n",
       "<p>104 rows × 6 columns</p>\n",
       "</div>"
      ],
      "text/plain": [
       "      A   B   C   D   E   F\n",
       "0     2   8  14  18  39  44\n",
       "1    17  20  22  24  25  40\n",
       "2     5  14  28  29  32  38\n",
       "3    15  16  18  26  27  38\n",
       "4     1  21  33  37  38  40\n",
       "..   ..  ..  ..  ..  ..  ..\n",
       "99    2  12  24  31  34  43\n",
       "100   2   4  11  22  25  34\n",
       "101   8  12  13  16  19  24\n",
       "102  33  36  39  42  45  47\n",
       "103   6  10  19  21  43  44\n",
       "\n",
       "[104 rows x 6 columns]"
      ]
     },
     "execution_count": 37,
     "metadata": {},
     "output_type": "execute_result"
    }
   ],
   "source": [
    "df_ball_17 = pd.DataFrame(np.array(ball_17).reshape(-1,6),columns = list(\"ABCDEF\"))\n",
    "df_ball_17"
   ]
  },
  {
   "cell_type": "code",
   "execution_count": 38,
   "metadata": {},
   "outputs": [
    {
     "data": {
      "text/plain": [
       "list"
      ]
     },
     "execution_count": 38,
     "metadata": {},
     "output_type": "execute_result"
    }
   ],
   "source": [
    "ball_bonus_class_17 = soup.find_all(\"li\", class_=\"bonus-ball\")\n",
    "ball_bonus_17 = [pt.get_text() for pt in ball_bonus_class_17]\n",
    "type(ball_bonus_17)"
   ]
  },
  {
   "cell_type": "code",
   "execution_count": 39,
   "metadata": {},
   "outputs": [],
   "source": [
    "df_ball_bonus_17 = pd.DataFrame(ball_bonus_17,columns = ['Bonus'])"
   ]
  },
  {
   "cell_type": "code",
   "execution_count": 40,
   "metadata": {},
   "outputs": [
    {
     "data": {
      "text/html": [
       "<div>\n",
       "<style scoped>\n",
       "    .dataframe tbody tr th:only-of-type {\n",
       "        vertical-align: middle;\n",
       "    }\n",
       "\n",
       "    .dataframe tbody tr th {\n",
       "        vertical-align: top;\n",
       "    }\n",
       "\n",
       "    .dataframe thead th {\n",
       "        text-align: right;\n",
       "    }\n",
       "</style>\n",
       "<table border=\"1\" class=\"dataframe\">\n",
       "  <thead>\n",
       "    <tr style=\"text-align: right;\">\n",
       "      <th></th>\n",
       "      <th>A</th>\n",
       "      <th>B</th>\n",
       "      <th>C</th>\n",
       "      <th>D</th>\n",
       "      <th>E</th>\n",
       "      <th>F</th>\n",
       "      <th>Bonus</th>\n",
       "    </tr>\n",
       "  </thead>\n",
       "  <tbody>\n",
       "    <tr>\n",
       "      <th>0</th>\n",
       "      <td>2</td>\n",
       "      <td>8</td>\n",
       "      <td>14</td>\n",
       "      <td>18</td>\n",
       "      <td>39</td>\n",
       "      <td>44</td>\n",
       "      <td>16</td>\n",
       "    </tr>\n",
       "    <tr>\n",
       "      <th>1</th>\n",
       "      <td>17</td>\n",
       "      <td>20</td>\n",
       "      <td>22</td>\n",
       "      <td>24</td>\n",
       "      <td>25</td>\n",
       "      <td>40</td>\n",
       "      <td>18</td>\n",
       "    </tr>\n",
       "    <tr>\n",
       "      <th>2</th>\n",
       "      <td>5</td>\n",
       "      <td>14</td>\n",
       "      <td>28</td>\n",
       "      <td>29</td>\n",
       "      <td>32</td>\n",
       "      <td>38</td>\n",
       "      <td>31</td>\n",
       "    </tr>\n",
       "    <tr>\n",
       "      <th>3</th>\n",
       "      <td>15</td>\n",
       "      <td>16</td>\n",
       "      <td>18</td>\n",
       "      <td>26</td>\n",
       "      <td>27</td>\n",
       "      <td>38</td>\n",
       "      <td>43</td>\n",
       "    </tr>\n",
       "    <tr>\n",
       "      <th>4</th>\n",
       "      <td>1</td>\n",
       "      <td>21</td>\n",
       "      <td>33</td>\n",
       "      <td>37</td>\n",
       "      <td>38</td>\n",
       "      <td>40</td>\n",
       "      <td>8</td>\n",
       "    </tr>\n",
       "    <tr>\n",
       "      <th>...</th>\n",
       "      <td>...</td>\n",
       "      <td>...</td>\n",
       "      <td>...</td>\n",
       "      <td>...</td>\n",
       "      <td>...</td>\n",
       "      <td>...</td>\n",
       "      <td>...</td>\n",
       "    </tr>\n",
       "    <tr>\n",
       "      <th>99</th>\n",
       "      <td>2</td>\n",
       "      <td>12</td>\n",
       "      <td>24</td>\n",
       "      <td>31</td>\n",
       "      <td>34</td>\n",
       "      <td>43</td>\n",
       "      <td>47</td>\n",
       "    </tr>\n",
       "    <tr>\n",
       "      <th>100</th>\n",
       "      <td>2</td>\n",
       "      <td>4</td>\n",
       "      <td>11</td>\n",
       "      <td>22</td>\n",
       "      <td>25</td>\n",
       "      <td>34</td>\n",
       "      <td>7</td>\n",
       "    </tr>\n",
       "    <tr>\n",
       "      <th>101</th>\n",
       "      <td>8</td>\n",
       "      <td>12</td>\n",
       "      <td>13</td>\n",
       "      <td>16</td>\n",
       "      <td>19</td>\n",
       "      <td>24</td>\n",
       "      <td>15</td>\n",
       "    </tr>\n",
       "    <tr>\n",
       "      <th>102</th>\n",
       "      <td>33</td>\n",
       "      <td>36</td>\n",
       "      <td>39</td>\n",
       "      <td>42</td>\n",
       "      <td>45</td>\n",
       "      <td>47</td>\n",
       "      <td>38</td>\n",
       "    </tr>\n",
       "    <tr>\n",
       "      <th>103</th>\n",
       "      <td>6</td>\n",
       "      <td>10</td>\n",
       "      <td>19</td>\n",
       "      <td>21</td>\n",
       "      <td>43</td>\n",
       "      <td>44</td>\n",
       "      <td>3</td>\n",
       "    </tr>\n",
       "  </tbody>\n",
       "</table>\n",
       "<p>104 rows × 7 columns</p>\n",
       "</div>"
      ],
      "text/plain": [
       "      A   B   C   D   E   F Bonus\n",
       "0     2   8  14  18  39  44    16\n",
       "1    17  20  22  24  25  40    18\n",
       "2     5  14  28  29  32  38    31\n",
       "3    15  16  18  26  27  38    43\n",
       "4     1  21  33  37  38  40     8\n",
       "..   ..  ..  ..  ..  ..  ..   ...\n",
       "99    2  12  24  31  34  43    47\n",
       "100   2   4  11  22  25  34     7\n",
       "101   8  12  13  16  19  24    15\n",
       "102  33  36  39  42  45  47    38\n",
       "103   6  10  19  21  43  44     3\n",
       "\n",
       "[104 rows x 7 columns]"
      ]
     },
     "execution_count": 40,
     "metadata": {},
     "output_type": "execute_result"
    }
   ],
   "source": [
    "#join the two dataframes\n",
    "df_2017 = pd.concat([df_ball_17, df_ball_bonus_17], axis=1)\n",
    "df_2017"
   ]
  },
  {
   "cell_type": "code",
   "execution_count": 41,
   "metadata": {},
   "outputs": [
    {
     "data": {
      "text/plain": [
       "<Response [200]>"
      ]
     },
     "execution_count": 41,
     "metadata": {},
     "output_type": "execute_result"
    }
   ],
   "source": [
    "lottery = \"https://www.irishlottery.com/archive-2016\"\n",
    "#Query the website and return the html to the variable 'page'\n",
    "page = requests.get(lottery)\n",
    "page"
   ]
  },
  {
   "cell_type": "code",
   "execution_count": 42,
   "metadata": {},
   "outputs": [
    {
     "data": {
      "text/plain": [
       "200"
      ]
     },
     "execution_count": 42,
     "metadata": {},
     "output_type": "execute_result"
    }
   ],
   "source": [
    "page.status_code"
   ]
  },
  {
   "cell_type": "code",
   "execution_count": 43,
   "metadata": {},
   "outputs": [],
   "source": [
    "soup = BeautifulSoup(page.content, 'lxml')"
   ]
  },
  {
   "cell_type": "code",
   "execution_count": 44,
   "metadata": {},
   "outputs": [
    {
     "data": {
      "text/plain": [
       "list"
      ]
     },
     "execution_count": 44,
     "metadata": {},
     "output_type": "execute_result"
    }
   ],
   "source": [
    "# Find the 6 lotto numbers available at the class = \"Ball\"\n",
    "ball_class_16 = soup.find_all(\"li\", class_=\"ball\")\n",
    "#get the text using list comprehension\n",
    "ball_16 = [pt.get_text() for pt in ball_class_16]\n",
    "type(ball_16)"
   ]
  },
  {
   "cell_type": "code",
   "execution_count": 45,
   "metadata": {},
   "outputs": [
    {
     "data": {
      "text/html": [
       "<div>\n",
       "<style scoped>\n",
       "    .dataframe tbody tr th:only-of-type {\n",
       "        vertical-align: middle;\n",
       "    }\n",
       "\n",
       "    .dataframe tbody tr th {\n",
       "        vertical-align: top;\n",
       "    }\n",
       "\n",
       "    .dataframe thead th {\n",
       "        text-align: right;\n",
       "    }\n",
       "</style>\n",
       "<table border=\"1\" class=\"dataframe\">\n",
       "  <thead>\n",
       "    <tr style=\"text-align: right;\">\n",
       "      <th></th>\n",
       "      <th>A</th>\n",
       "      <th>B</th>\n",
       "      <th>C</th>\n",
       "      <th>D</th>\n",
       "      <th>E</th>\n",
       "      <th>F</th>\n",
       "    </tr>\n",
       "  </thead>\n",
       "  <tbody>\n",
       "    <tr>\n",
       "      <th>0</th>\n",
       "      <td>2</td>\n",
       "      <td>8</td>\n",
       "      <td>10</td>\n",
       "      <td>23</td>\n",
       "      <td>27</td>\n",
       "      <td>29</td>\n",
       "    </tr>\n",
       "    <tr>\n",
       "      <th>1</th>\n",
       "      <td>1</td>\n",
       "      <td>12</td>\n",
       "      <td>34</td>\n",
       "      <td>43</td>\n",
       "      <td>45</td>\n",
       "      <td>47</td>\n",
       "    </tr>\n",
       "    <tr>\n",
       "      <th>2</th>\n",
       "      <td>8</td>\n",
       "      <td>10</td>\n",
       "      <td>11</td>\n",
       "      <td>16</td>\n",
       "      <td>40</td>\n",
       "      <td>42</td>\n",
       "    </tr>\n",
       "    <tr>\n",
       "      <th>3</th>\n",
       "      <td>6</td>\n",
       "      <td>10</td>\n",
       "      <td>23</td>\n",
       "      <td>28</td>\n",
       "      <td>37</td>\n",
       "      <td>41</td>\n",
       "    </tr>\n",
       "    <tr>\n",
       "      <th>4</th>\n",
       "      <td>7</td>\n",
       "      <td>20</td>\n",
       "      <td>25</td>\n",
       "      <td>27</td>\n",
       "      <td>41</td>\n",
       "      <td>45</td>\n",
       "    </tr>\n",
       "    <tr>\n",
       "      <th>...</th>\n",
       "      <td>...</td>\n",
       "      <td>...</td>\n",
       "      <td>...</td>\n",
       "      <td>...</td>\n",
       "      <td>...</td>\n",
       "      <td>...</td>\n",
       "    </tr>\n",
       "    <tr>\n",
       "      <th>100</th>\n",
       "      <td>14</td>\n",
       "      <td>18</td>\n",
       "      <td>25</td>\n",
       "      <td>27</td>\n",
       "      <td>33</td>\n",
       "      <td>44</td>\n",
       "    </tr>\n",
       "    <tr>\n",
       "      <th>101</th>\n",
       "      <td>10</td>\n",
       "      <td>14</td>\n",
       "      <td>26</td>\n",
       "      <td>37</td>\n",
       "      <td>42</td>\n",
       "      <td>47</td>\n",
       "    </tr>\n",
       "    <tr>\n",
       "      <th>102</th>\n",
       "      <td>2</td>\n",
       "      <td>11</td>\n",
       "      <td>14</td>\n",
       "      <td>28</td>\n",
       "      <td>29</td>\n",
       "      <td>34</td>\n",
       "    </tr>\n",
       "    <tr>\n",
       "      <th>103</th>\n",
       "      <td>2</td>\n",
       "      <td>15</td>\n",
       "      <td>25</td>\n",
       "      <td>43</td>\n",
       "      <td>45</td>\n",
       "      <td>46</td>\n",
       "    </tr>\n",
       "    <tr>\n",
       "      <th>104</th>\n",
       "      <td>10</td>\n",
       "      <td>19</td>\n",
       "      <td>23</td>\n",
       "      <td>28</td>\n",
       "      <td>31</td>\n",
       "      <td>32</td>\n",
       "    </tr>\n",
       "  </tbody>\n",
       "</table>\n",
       "<p>105 rows × 6 columns</p>\n",
       "</div>"
      ],
      "text/plain": [
       "      A   B   C   D   E   F\n",
       "0     2   8  10  23  27  29\n",
       "1     1  12  34  43  45  47\n",
       "2     8  10  11  16  40  42\n",
       "3     6  10  23  28  37  41\n",
       "4     7  20  25  27  41  45\n",
       "..   ..  ..  ..  ..  ..  ..\n",
       "100  14  18  25  27  33  44\n",
       "101  10  14  26  37  42  47\n",
       "102   2  11  14  28  29  34\n",
       "103   2  15  25  43  45  46\n",
       "104  10  19  23  28  31  32\n",
       "\n",
       "[105 rows x 6 columns]"
      ]
     },
     "execution_count": 45,
     "metadata": {},
     "output_type": "execute_result"
    }
   ],
   "source": [
    "df_ball_16 = pd.DataFrame(np.array(ball_16).reshape(-1,6),columns = list(\"ABCDEF\"))\n",
    "df_ball_16"
   ]
  },
  {
   "cell_type": "code",
   "execution_count": 46,
   "metadata": {},
   "outputs": [
    {
     "data": {
      "text/plain": [
       "list"
      ]
     },
     "execution_count": 46,
     "metadata": {},
     "output_type": "execute_result"
    }
   ],
   "source": [
    "ball_bonus_class_16 = soup.find_all(\"li\", class_=\"bonus-ball\")\n",
    "ball_bonus_16 = [pt.get_text() for pt in ball_bonus_class_16]\n",
    "type(ball_bonus_16)"
   ]
  },
  {
   "cell_type": "code",
   "execution_count": 47,
   "metadata": {},
   "outputs": [],
   "source": [
    "df_ball_bonus_16 = pd.DataFrame(ball_bonus_16,columns = ['Bonus'])"
   ]
  },
  {
   "cell_type": "code",
   "execution_count": 48,
   "metadata": {},
   "outputs": [
    {
     "data": {
      "text/html": [
       "<div>\n",
       "<style scoped>\n",
       "    .dataframe tbody tr th:only-of-type {\n",
       "        vertical-align: middle;\n",
       "    }\n",
       "\n",
       "    .dataframe tbody tr th {\n",
       "        vertical-align: top;\n",
       "    }\n",
       "\n",
       "    .dataframe thead th {\n",
       "        text-align: right;\n",
       "    }\n",
       "</style>\n",
       "<table border=\"1\" class=\"dataframe\">\n",
       "  <thead>\n",
       "    <tr style=\"text-align: right;\">\n",
       "      <th></th>\n",
       "      <th>A</th>\n",
       "      <th>B</th>\n",
       "      <th>C</th>\n",
       "      <th>D</th>\n",
       "      <th>E</th>\n",
       "      <th>F</th>\n",
       "      <th>Bonus</th>\n",
       "    </tr>\n",
       "  </thead>\n",
       "  <tbody>\n",
       "    <tr>\n",
       "      <th>0</th>\n",
       "      <td>2</td>\n",
       "      <td>8</td>\n",
       "      <td>10</td>\n",
       "      <td>23</td>\n",
       "      <td>27</td>\n",
       "      <td>29</td>\n",
       "      <td>5</td>\n",
       "    </tr>\n",
       "    <tr>\n",
       "      <th>1</th>\n",
       "      <td>1</td>\n",
       "      <td>12</td>\n",
       "      <td>34</td>\n",
       "      <td>43</td>\n",
       "      <td>45</td>\n",
       "      <td>47</td>\n",
       "      <td>27</td>\n",
       "    </tr>\n",
       "    <tr>\n",
       "      <th>2</th>\n",
       "      <td>8</td>\n",
       "      <td>10</td>\n",
       "      <td>11</td>\n",
       "      <td>16</td>\n",
       "      <td>40</td>\n",
       "      <td>42</td>\n",
       "      <td>38</td>\n",
       "    </tr>\n",
       "    <tr>\n",
       "      <th>3</th>\n",
       "      <td>6</td>\n",
       "      <td>10</td>\n",
       "      <td>23</td>\n",
       "      <td>28</td>\n",
       "      <td>37</td>\n",
       "      <td>41</td>\n",
       "      <td>18</td>\n",
       "    </tr>\n",
       "    <tr>\n",
       "      <th>4</th>\n",
       "      <td>7</td>\n",
       "      <td>20</td>\n",
       "      <td>25</td>\n",
       "      <td>27</td>\n",
       "      <td>41</td>\n",
       "      <td>45</td>\n",
       "      <td>35</td>\n",
       "    </tr>\n",
       "    <tr>\n",
       "      <th>...</th>\n",
       "      <td>...</td>\n",
       "      <td>...</td>\n",
       "      <td>...</td>\n",
       "      <td>...</td>\n",
       "      <td>...</td>\n",
       "      <td>...</td>\n",
       "      <td>...</td>\n",
       "    </tr>\n",
       "    <tr>\n",
       "      <th>100</th>\n",
       "      <td>14</td>\n",
       "      <td>18</td>\n",
       "      <td>25</td>\n",
       "      <td>27</td>\n",
       "      <td>33</td>\n",
       "      <td>44</td>\n",
       "      <td>38</td>\n",
       "    </tr>\n",
       "    <tr>\n",
       "      <th>101</th>\n",
       "      <td>10</td>\n",
       "      <td>14</td>\n",
       "      <td>26</td>\n",
       "      <td>37</td>\n",
       "      <td>42</td>\n",
       "      <td>47</td>\n",
       "      <td>2</td>\n",
       "    </tr>\n",
       "    <tr>\n",
       "      <th>102</th>\n",
       "      <td>2</td>\n",
       "      <td>11</td>\n",
       "      <td>14</td>\n",
       "      <td>28</td>\n",
       "      <td>29</td>\n",
       "      <td>34</td>\n",
       "      <td>37</td>\n",
       "    </tr>\n",
       "    <tr>\n",
       "      <th>103</th>\n",
       "      <td>2</td>\n",
       "      <td>15</td>\n",
       "      <td>25</td>\n",
       "      <td>43</td>\n",
       "      <td>45</td>\n",
       "      <td>46</td>\n",
       "      <td>16</td>\n",
       "    </tr>\n",
       "    <tr>\n",
       "      <th>104</th>\n",
       "      <td>10</td>\n",
       "      <td>19</td>\n",
       "      <td>23</td>\n",
       "      <td>28</td>\n",
       "      <td>31</td>\n",
       "      <td>32</td>\n",
       "      <td>6</td>\n",
       "    </tr>\n",
       "  </tbody>\n",
       "</table>\n",
       "<p>105 rows × 7 columns</p>\n",
       "</div>"
      ],
      "text/plain": [
       "      A   B   C   D   E   F Bonus\n",
       "0     2   8  10  23  27  29     5\n",
       "1     1  12  34  43  45  47    27\n",
       "2     8  10  11  16  40  42    38\n",
       "3     6  10  23  28  37  41    18\n",
       "4     7  20  25  27  41  45    35\n",
       "..   ..  ..  ..  ..  ..  ..   ...\n",
       "100  14  18  25  27  33  44    38\n",
       "101  10  14  26  37  42  47     2\n",
       "102   2  11  14  28  29  34    37\n",
       "103   2  15  25  43  45  46    16\n",
       "104  10  19  23  28  31  32     6\n",
       "\n",
       "[105 rows x 7 columns]"
      ]
     },
     "execution_count": 48,
     "metadata": {},
     "output_type": "execute_result"
    }
   ],
   "source": [
    "#join the two dataframes\n",
    "df_2016 = pd.concat([df_ball_16, df_ball_bonus_16], axis=1)\n",
    "df_2016"
   ]
  },
  {
   "cell_type": "code",
   "execution_count": 49,
   "metadata": {},
   "outputs": [
    {
     "data": {
      "text/plain": [
       "<Response [200]>"
      ]
     },
     "execution_count": 49,
     "metadata": {},
     "output_type": "execute_result"
    }
   ],
   "source": [
    "lottery = \"https://www.irishlottery.com/archive-2021\"\n",
    "#Query the website and return the html to the variable 'page'\n",
    "page = requests.get(lottery)\n",
    "page"
   ]
  },
  {
   "cell_type": "code",
   "execution_count": 50,
   "metadata": {},
   "outputs": [
    {
     "data": {
      "text/plain": [
       "200"
      ]
     },
     "execution_count": 50,
     "metadata": {},
     "output_type": "execute_result"
    }
   ],
   "source": [
    "page.status_code"
   ]
  },
  {
   "cell_type": "code",
   "execution_count": 51,
   "metadata": {},
   "outputs": [],
   "source": [
    "soup = BeautifulSoup(page.content, 'lxml')"
   ]
  },
  {
   "cell_type": "code",
   "execution_count": 52,
   "metadata": {},
   "outputs": [
    {
     "data": {
      "text/plain": [
       "list"
      ]
     },
     "execution_count": 52,
     "metadata": {},
     "output_type": "execute_result"
    }
   ],
   "source": [
    "# Find the 6 lotto numbers available at the class = \"Ball\"\n",
    "ball_class_21 = soup.find_all(\"li\", class_=\"ball\")\n",
    "#get the text using list comprehension\n",
    "ball_21 = [pt.get_text() for pt in ball_class_21]\n",
    "type(ball_21)"
   ]
  },
  {
   "cell_type": "code",
   "execution_count": 53,
   "metadata": {},
   "outputs": [
    {
     "data": {
      "text/html": [
       "<div>\n",
       "<style scoped>\n",
       "    .dataframe tbody tr th:only-of-type {\n",
       "        vertical-align: middle;\n",
       "    }\n",
       "\n",
       "    .dataframe tbody tr th {\n",
       "        vertical-align: top;\n",
       "    }\n",
       "\n",
       "    .dataframe thead th {\n",
       "        text-align: right;\n",
       "    }\n",
       "</style>\n",
       "<table border=\"1\" class=\"dataframe\">\n",
       "  <thead>\n",
       "    <tr style=\"text-align: right;\">\n",
       "      <th></th>\n",
       "      <th>A</th>\n",
       "      <th>B</th>\n",
       "      <th>C</th>\n",
       "      <th>D</th>\n",
       "      <th>E</th>\n",
       "      <th>F</th>\n",
       "    </tr>\n",
       "  </thead>\n",
       "  <tbody>\n",
       "    <tr>\n",
       "      <th>0</th>\n",
       "      <td>5</td>\n",
       "      <td>6</td>\n",
       "      <td>17</td>\n",
       "      <td>22</td>\n",
       "      <td>33</td>\n",
       "      <td>41</td>\n",
       "    </tr>\n",
       "    <tr>\n",
       "      <th>1</th>\n",
       "      <td>3</td>\n",
       "      <td>11</td>\n",
       "      <td>25</td>\n",
       "      <td>32</td>\n",
       "      <td>40</td>\n",
       "      <td>45</td>\n",
       "    </tr>\n",
       "    <tr>\n",
       "      <th>2</th>\n",
       "      <td>5</td>\n",
       "      <td>10</td>\n",
       "      <td>12</td>\n",
       "      <td>23</td>\n",
       "      <td>28</td>\n",
       "      <td>47</td>\n",
       "    </tr>\n",
       "    <tr>\n",
       "      <th>3</th>\n",
       "      <td>12</td>\n",
       "      <td>19</td>\n",
       "      <td>21</td>\n",
       "      <td>33</td>\n",
       "      <td>44</td>\n",
       "      <td>46</td>\n",
       "    </tr>\n",
       "    <tr>\n",
       "      <th>4</th>\n",
       "      <td>1</td>\n",
       "      <td>7</td>\n",
       "      <td>20</td>\n",
       "      <td>21</td>\n",
       "      <td>24</td>\n",
       "      <td>44</td>\n",
       "    </tr>\n",
       "    <tr>\n",
       "      <th>...</th>\n",
       "      <td>...</td>\n",
       "      <td>...</td>\n",
       "      <td>...</td>\n",
       "      <td>...</td>\n",
       "      <td>...</td>\n",
       "      <td>...</td>\n",
       "    </tr>\n",
       "    <tr>\n",
       "      <th>82</th>\n",
       "      <td>12</td>\n",
       "      <td>17</td>\n",
       "      <td>22</td>\n",
       "      <td>32</td>\n",
       "      <td>38</td>\n",
       "      <td>39</td>\n",
       "    </tr>\n",
       "    <tr>\n",
       "      <th>83</th>\n",
       "      <td>12</td>\n",
       "      <td>18</td>\n",
       "      <td>29</td>\n",
       "      <td>32</td>\n",
       "      <td>34</td>\n",
       "      <td>44</td>\n",
       "    </tr>\n",
       "    <tr>\n",
       "      <th>84</th>\n",
       "      <td>10</td>\n",
       "      <td>17</td>\n",
       "      <td>42</td>\n",
       "      <td>43</td>\n",
       "      <td>45</td>\n",
       "      <td>47</td>\n",
       "    </tr>\n",
       "    <tr>\n",
       "      <th>85</th>\n",
       "      <td>8</td>\n",
       "      <td>10</td>\n",
       "      <td>14</td>\n",
       "      <td>23</td>\n",
       "      <td>39</td>\n",
       "      <td>47</td>\n",
       "    </tr>\n",
       "    <tr>\n",
       "      <th>86</th>\n",
       "      <td>3</td>\n",
       "      <td>6</td>\n",
       "      <td>18</td>\n",
       "      <td>26</td>\n",
       "      <td>42</td>\n",
       "      <td>47</td>\n",
       "    </tr>\n",
       "  </tbody>\n",
       "</table>\n",
       "<p>87 rows × 6 columns</p>\n",
       "</div>"
      ],
      "text/plain": [
       "     A   B   C   D   E   F\n",
       "0    5   6  17  22  33  41\n",
       "1    3  11  25  32  40  45\n",
       "2    5  10  12  23  28  47\n",
       "3   12  19  21  33  44  46\n",
       "4    1   7  20  21  24  44\n",
       "..  ..  ..  ..  ..  ..  ..\n",
       "82  12  17  22  32  38  39\n",
       "83  12  18  29  32  34  44\n",
       "84  10  17  42  43  45  47\n",
       "85   8  10  14  23  39  47\n",
       "86   3   6  18  26  42  47\n",
       "\n",
       "[87 rows x 6 columns]"
      ]
     },
     "execution_count": 53,
     "metadata": {},
     "output_type": "execute_result"
    }
   ],
   "source": [
    "df_ball_21 = pd.DataFrame(np.array(ball_21).reshape(-1,6),columns = list(\"ABCDEF\"))\n",
    "df_ball_21"
   ]
  },
  {
   "cell_type": "code",
   "execution_count": 54,
   "metadata": {},
   "outputs": [
    {
     "data": {
      "text/plain": [
       "list"
      ]
     },
     "execution_count": 54,
     "metadata": {},
     "output_type": "execute_result"
    }
   ],
   "source": [
    "ball_bonus_class_21 = soup.find_all(\"li\", class_=\"bonus-ball\")\n",
    "ball_bonus_21 = [pt.get_text() for pt in ball_bonus_class_21]\n",
    "type(ball_bonus_21)"
   ]
  },
  {
   "cell_type": "code",
   "execution_count": 55,
   "metadata": {},
   "outputs": [],
   "source": [
    "df_ball_bonus_21 = pd.DataFrame(ball_bonus_21,columns = ['Bonus'])"
   ]
  },
  {
   "cell_type": "code",
   "execution_count": 56,
   "metadata": {},
   "outputs": [
    {
     "data": {
      "text/html": [
       "<div>\n",
       "<style scoped>\n",
       "    .dataframe tbody tr th:only-of-type {\n",
       "        vertical-align: middle;\n",
       "    }\n",
       "\n",
       "    .dataframe tbody tr th {\n",
       "        vertical-align: top;\n",
       "    }\n",
       "\n",
       "    .dataframe thead th {\n",
       "        text-align: right;\n",
       "    }\n",
       "</style>\n",
       "<table border=\"1\" class=\"dataframe\">\n",
       "  <thead>\n",
       "    <tr style=\"text-align: right;\">\n",
       "      <th></th>\n",
       "      <th>A</th>\n",
       "      <th>B</th>\n",
       "      <th>C</th>\n",
       "      <th>D</th>\n",
       "      <th>E</th>\n",
       "      <th>F</th>\n",
       "      <th>Bonus</th>\n",
       "    </tr>\n",
       "  </thead>\n",
       "  <tbody>\n",
       "    <tr>\n",
       "      <th>0</th>\n",
       "      <td>5</td>\n",
       "      <td>6</td>\n",
       "      <td>17</td>\n",
       "      <td>22</td>\n",
       "      <td>33</td>\n",
       "      <td>41</td>\n",
       "      <td>34</td>\n",
       "    </tr>\n",
       "    <tr>\n",
       "      <th>1</th>\n",
       "      <td>3</td>\n",
       "      <td>11</td>\n",
       "      <td>25</td>\n",
       "      <td>32</td>\n",
       "      <td>40</td>\n",
       "      <td>45</td>\n",
       "      <td>5</td>\n",
       "    </tr>\n",
       "    <tr>\n",
       "      <th>2</th>\n",
       "      <td>5</td>\n",
       "      <td>10</td>\n",
       "      <td>12</td>\n",
       "      <td>23</td>\n",
       "      <td>28</td>\n",
       "      <td>47</td>\n",
       "      <td>16</td>\n",
       "    </tr>\n",
       "    <tr>\n",
       "      <th>3</th>\n",
       "      <td>12</td>\n",
       "      <td>19</td>\n",
       "      <td>21</td>\n",
       "      <td>33</td>\n",
       "      <td>44</td>\n",
       "      <td>46</td>\n",
       "      <td>1</td>\n",
       "    </tr>\n",
       "    <tr>\n",
       "      <th>4</th>\n",
       "      <td>1</td>\n",
       "      <td>7</td>\n",
       "      <td>20</td>\n",
       "      <td>21</td>\n",
       "      <td>24</td>\n",
       "      <td>44</td>\n",
       "      <td>19</td>\n",
       "    </tr>\n",
       "    <tr>\n",
       "      <th>...</th>\n",
       "      <td>...</td>\n",
       "      <td>...</td>\n",
       "      <td>...</td>\n",
       "      <td>...</td>\n",
       "      <td>...</td>\n",
       "      <td>...</td>\n",
       "      <td>...</td>\n",
       "    </tr>\n",
       "    <tr>\n",
       "      <th>82</th>\n",
       "      <td>12</td>\n",
       "      <td>17</td>\n",
       "      <td>22</td>\n",
       "      <td>32</td>\n",
       "      <td>38</td>\n",
       "      <td>39</td>\n",
       "      <td>40</td>\n",
       "    </tr>\n",
       "    <tr>\n",
       "      <th>83</th>\n",
       "      <td>12</td>\n",
       "      <td>18</td>\n",
       "      <td>29</td>\n",
       "      <td>32</td>\n",
       "      <td>34</td>\n",
       "      <td>44</td>\n",
       "      <td>9</td>\n",
       "    </tr>\n",
       "    <tr>\n",
       "      <th>84</th>\n",
       "      <td>10</td>\n",
       "      <td>17</td>\n",
       "      <td>42</td>\n",
       "      <td>43</td>\n",
       "      <td>45</td>\n",
       "      <td>47</td>\n",
       "      <td>37</td>\n",
       "    </tr>\n",
       "    <tr>\n",
       "      <th>85</th>\n",
       "      <td>8</td>\n",
       "      <td>10</td>\n",
       "      <td>14</td>\n",
       "      <td>23</td>\n",
       "      <td>39</td>\n",
       "      <td>47</td>\n",
       "      <td>5</td>\n",
       "    </tr>\n",
       "    <tr>\n",
       "      <th>86</th>\n",
       "      <td>3</td>\n",
       "      <td>6</td>\n",
       "      <td>18</td>\n",
       "      <td>26</td>\n",
       "      <td>42</td>\n",
       "      <td>47</td>\n",
       "      <td>1</td>\n",
       "    </tr>\n",
       "  </tbody>\n",
       "</table>\n",
       "<p>87 rows × 7 columns</p>\n",
       "</div>"
      ],
      "text/plain": [
       "     A   B   C   D   E   F Bonus\n",
       "0    5   6  17  22  33  41    34\n",
       "1    3  11  25  32  40  45     5\n",
       "2    5  10  12  23  28  47    16\n",
       "3   12  19  21  33  44  46     1\n",
       "4    1   7  20  21  24  44    19\n",
       "..  ..  ..  ..  ..  ..  ..   ...\n",
       "82  12  17  22  32  38  39    40\n",
       "83  12  18  29  32  34  44     9\n",
       "84  10  17  42  43  45  47    37\n",
       "85   8  10  14  23  39  47     5\n",
       "86   3   6  18  26  42  47     1\n",
       "\n",
       "[87 rows x 7 columns]"
      ]
     },
     "execution_count": 56,
     "metadata": {},
     "output_type": "execute_result"
    }
   ],
   "source": [
    "#join the two dataframes\n",
    "df_2021 = pd.concat([df_ball_21, df_ball_bonus_21], axis=1)\n",
    "df_2021"
   ]
  },
  {
   "cell_type": "code",
   "execution_count": 57,
   "metadata": {
    "scrolled": true
   },
   "outputs": [
    {
     "data": {
      "text/html": [
       "<div>\n",
       "<style scoped>\n",
       "    .dataframe tbody tr th:only-of-type {\n",
       "        vertical-align: middle;\n",
       "    }\n",
       "\n",
       "    .dataframe tbody tr th {\n",
       "        vertical-align: top;\n",
       "    }\n",
       "\n",
       "    .dataframe thead th {\n",
       "        text-align: right;\n",
       "    }\n",
       "</style>\n",
       "<table border=\"1\" class=\"dataframe\">\n",
       "  <thead>\n",
       "    <tr style=\"text-align: right;\">\n",
       "      <th></th>\n",
       "      <th></th>\n",
       "      <th>A</th>\n",
       "      <th>B</th>\n",
       "      <th>C</th>\n",
       "      <th>D</th>\n",
       "      <th>E</th>\n",
       "      <th>F</th>\n",
       "      <th>Bonus</th>\n",
       "    </tr>\n",
       "  </thead>\n",
       "  <tbody>\n",
       "    <tr>\n",
       "      <th rowspan=\"5\" valign=\"top\">2016</th>\n",
       "      <th>0</th>\n",
       "      <td>2</td>\n",
       "      <td>8</td>\n",
       "      <td>10</td>\n",
       "      <td>23</td>\n",
       "      <td>27</td>\n",
       "      <td>29</td>\n",
       "      <td>5</td>\n",
       "    </tr>\n",
       "    <tr>\n",
       "      <th>1</th>\n",
       "      <td>1</td>\n",
       "      <td>12</td>\n",
       "      <td>34</td>\n",
       "      <td>43</td>\n",
       "      <td>45</td>\n",
       "      <td>47</td>\n",
       "      <td>27</td>\n",
       "    </tr>\n",
       "    <tr>\n",
       "      <th>2</th>\n",
       "      <td>8</td>\n",
       "      <td>10</td>\n",
       "      <td>11</td>\n",
       "      <td>16</td>\n",
       "      <td>40</td>\n",
       "      <td>42</td>\n",
       "      <td>38</td>\n",
       "    </tr>\n",
       "    <tr>\n",
       "      <th>3</th>\n",
       "      <td>6</td>\n",
       "      <td>10</td>\n",
       "      <td>23</td>\n",
       "      <td>28</td>\n",
       "      <td>37</td>\n",
       "      <td>41</td>\n",
       "      <td>18</td>\n",
       "    </tr>\n",
       "    <tr>\n",
       "      <th>4</th>\n",
       "      <td>7</td>\n",
       "      <td>20</td>\n",
       "      <td>25</td>\n",
       "      <td>27</td>\n",
       "      <td>41</td>\n",
       "      <td>45</td>\n",
       "      <td>35</td>\n",
       "    </tr>\n",
       "    <tr>\n",
       "      <th>...</th>\n",
       "      <th>...</th>\n",
       "      <td>...</td>\n",
       "      <td>...</td>\n",
       "      <td>...</td>\n",
       "      <td>...</td>\n",
       "      <td>...</td>\n",
       "      <td>...</td>\n",
       "      <td>...</td>\n",
       "    </tr>\n",
       "    <tr>\n",
       "      <th rowspan=\"5\" valign=\"top\">2021</th>\n",
       "      <th>82</th>\n",
       "      <td>12</td>\n",
       "      <td>17</td>\n",
       "      <td>22</td>\n",
       "      <td>32</td>\n",
       "      <td>38</td>\n",
       "      <td>39</td>\n",
       "      <td>40</td>\n",
       "    </tr>\n",
       "    <tr>\n",
       "      <th>83</th>\n",
       "      <td>12</td>\n",
       "      <td>18</td>\n",
       "      <td>29</td>\n",
       "      <td>32</td>\n",
       "      <td>34</td>\n",
       "      <td>44</td>\n",
       "      <td>9</td>\n",
       "    </tr>\n",
       "    <tr>\n",
       "      <th>84</th>\n",
       "      <td>10</td>\n",
       "      <td>17</td>\n",
       "      <td>42</td>\n",
       "      <td>43</td>\n",
       "      <td>45</td>\n",
       "      <td>47</td>\n",
       "      <td>37</td>\n",
       "    </tr>\n",
       "    <tr>\n",
       "      <th>85</th>\n",
       "      <td>8</td>\n",
       "      <td>10</td>\n",
       "      <td>14</td>\n",
       "      <td>23</td>\n",
       "      <td>39</td>\n",
       "      <td>47</td>\n",
       "      <td>5</td>\n",
       "    </tr>\n",
       "    <tr>\n",
       "      <th>86</th>\n",
       "      <td>3</td>\n",
       "      <td>6</td>\n",
       "      <td>18</td>\n",
       "      <td>26</td>\n",
       "      <td>42</td>\n",
       "      <td>47</td>\n",
       "      <td>1</td>\n",
       "    </tr>\n",
       "  </tbody>\n",
       "</table>\n",
       "<p>609 rows × 7 columns</p>\n",
       "</div>"
      ],
      "text/plain": [
       "          A   B   C   D   E   F Bonus\n",
       "2016 0    2   8  10  23  27  29     5\n",
       "     1    1  12  34  43  45  47    27\n",
       "     2    8  10  11  16  40  42    38\n",
       "     3    6  10  23  28  37  41    18\n",
       "     4    7  20  25  27  41  45    35\n",
       "...      ..  ..  ..  ..  ..  ..   ...\n",
       "2021 82  12  17  22  32  38  39    40\n",
       "     83  12  18  29  32  34  44     9\n",
       "     84  10  17  42  43  45  47    37\n",
       "     85   8  10  14  23  39  47     5\n",
       "     86   3   6  18  26  42  47     1\n",
       "\n",
       "[609 rows x 7 columns]"
      ]
     },
     "execution_count": 57,
     "metadata": {},
     "output_type": "execute_result"
    }
   ],
   "source": [
    "frames = [df_2016, df_2017, df_2018, df_2019, df_2020, df_2021]\n",
    "df_combined = pd.concat(frames, keys=['2016', '2017', '2018', '2019', '2020', '2021'])\n",
    "df_combined"
   ]
  },
  {
   "cell_type": "code",
   "execution_count": 58,
   "metadata": {},
   "outputs": [],
   "source": [
    "df_combined.to_csv('lotto_results.csv')"
   ]
  },
  {
   "cell_type": "code",
   "execution_count": 59,
   "metadata": {},
   "outputs": [
    {
     "data": {
      "text/html": [
       "<div>\n",
       "<style scoped>\n",
       "    .dataframe tbody tr th:only-of-type {\n",
       "        vertical-align: middle;\n",
       "    }\n",
       "\n",
       "    .dataframe tbody tr th {\n",
       "        vertical-align: top;\n",
       "    }\n",
       "\n",
       "    .dataframe thead th {\n",
       "        text-align: right;\n",
       "    }\n",
       "</style>\n",
       "<table border=\"1\" class=\"dataframe\">\n",
       "  <thead>\n",
       "    <tr style=\"text-align: right;\">\n",
       "      <th></th>\n",
       "      <th>Unnamed: 0</th>\n",
       "      <th>A</th>\n",
       "      <th>B</th>\n",
       "      <th>C</th>\n",
       "      <th>D</th>\n",
       "      <th>E</th>\n",
       "      <th>F</th>\n",
       "      <th>Bonus</th>\n",
       "    </tr>\n",
       "  </thead>\n",
       "  <tbody>\n",
       "    <tr>\n",
       "      <th>0</th>\n",
       "      <td>2016</td>\n",
       "      <td>2</td>\n",
       "      <td>8</td>\n",
       "      <td>10</td>\n",
       "      <td>23</td>\n",
       "      <td>27</td>\n",
       "      <td>29</td>\n",
       "      <td>5</td>\n",
       "    </tr>\n",
       "    <tr>\n",
       "      <th>1</th>\n",
       "      <td>2016</td>\n",
       "      <td>1</td>\n",
       "      <td>12</td>\n",
       "      <td>34</td>\n",
       "      <td>43</td>\n",
       "      <td>45</td>\n",
       "      <td>47</td>\n",
       "      <td>27</td>\n",
       "    </tr>\n",
       "    <tr>\n",
       "      <th>2</th>\n",
       "      <td>2016</td>\n",
       "      <td>8</td>\n",
       "      <td>10</td>\n",
       "      <td>11</td>\n",
       "      <td>16</td>\n",
       "      <td>40</td>\n",
       "      <td>42</td>\n",
       "      <td>38</td>\n",
       "    </tr>\n",
       "    <tr>\n",
       "      <th>3</th>\n",
       "      <td>2016</td>\n",
       "      <td>6</td>\n",
       "      <td>10</td>\n",
       "      <td>23</td>\n",
       "      <td>28</td>\n",
       "      <td>37</td>\n",
       "      <td>41</td>\n",
       "      <td>18</td>\n",
       "    </tr>\n",
       "    <tr>\n",
       "      <th>4</th>\n",
       "      <td>2016</td>\n",
       "      <td>7</td>\n",
       "      <td>20</td>\n",
       "      <td>25</td>\n",
       "      <td>27</td>\n",
       "      <td>41</td>\n",
       "      <td>45</td>\n",
       "      <td>35</td>\n",
       "    </tr>\n",
       "    <tr>\n",
       "      <th>...</th>\n",
       "      <td>...</td>\n",
       "      <td>...</td>\n",
       "      <td>...</td>\n",
       "      <td>...</td>\n",
       "      <td>...</td>\n",
       "      <td>...</td>\n",
       "      <td>...</td>\n",
       "      <td>...</td>\n",
       "    </tr>\n",
       "    <tr>\n",
       "      <th>604</th>\n",
       "      <td>2021</td>\n",
       "      <td>12</td>\n",
       "      <td>17</td>\n",
       "      <td>22</td>\n",
       "      <td>32</td>\n",
       "      <td>38</td>\n",
       "      <td>39</td>\n",
       "      <td>40</td>\n",
       "    </tr>\n",
       "    <tr>\n",
       "      <th>605</th>\n",
       "      <td>2021</td>\n",
       "      <td>12</td>\n",
       "      <td>18</td>\n",
       "      <td>29</td>\n",
       "      <td>32</td>\n",
       "      <td>34</td>\n",
       "      <td>44</td>\n",
       "      <td>9</td>\n",
       "    </tr>\n",
       "    <tr>\n",
       "      <th>606</th>\n",
       "      <td>2021</td>\n",
       "      <td>10</td>\n",
       "      <td>17</td>\n",
       "      <td>42</td>\n",
       "      <td>43</td>\n",
       "      <td>45</td>\n",
       "      <td>47</td>\n",
       "      <td>37</td>\n",
       "    </tr>\n",
       "    <tr>\n",
       "      <th>607</th>\n",
       "      <td>2021</td>\n",
       "      <td>8</td>\n",
       "      <td>10</td>\n",
       "      <td>14</td>\n",
       "      <td>23</td>\n",
       "      <td>39</td>\n",
       "      <td>47</td>\n",
       "      <td>5</td>\n",
       "    </tr>\n",
       "    <tr>\n",
       "      <th>608</th>\n",
       "      <td>2021</td>\n",
       "      <td>3</td>\n",
       "      <td>6</td>\n",
       "      <td>18</td>\n",
       "      <td>26</td>\n",
       "      <td>42</td>\n",
       "      <td>47</td>\n",
       "      <td>1</td>\n",
       "    </tr>\n",
       "  </tbody>\n",
       "</table>\n",
       "<p>609 rows × 8 columns</p>\n",
       "</div>"
      ],
      "text/plain": [
       "     Unnamed: 0   A   B   C   D   E   F  Bonus\n",
       "0          2016   2   8  10  23  27  29      5\n",
       "1          2016   1  12  34  43  45  47     27\n",
       "2          2016   8  10  11  16  40  42     38\n",
       "3          2016   6  10  23  28  37  41     18\n",
       "4          2016   7  20  25  27  41  45     35\n",
       "..          ...  ..  ..  ..  ..  ..  ..    ...\n",
       "604        2021  12  17  22  32  38  39     40\n",
       "605        2021  12  18  29  32  34  44      9\n",
       "606        2021  10  17  42  43  45  47     37\n",
       "607        2021   8  10  14  23  39  47      5\n",
       "608        2021   3   6  18  26  42  47      1\n",
       "\n",
       "[609 rows x 8 columns]"
      ]
     },
     "execution_count": 59,
     "metadata": {},
     "output_type": "execute_result"
    }
   ],
   "source": [
    "df_lotto = pd.read_csv('lotto_results.csv')\n",
    "df_lotto = df_lotto.drop(['Unnamed: 1'], axis=1)\n",
    "df_lotto"
   ]
  },
  {
   "cell_type": "code",
   "execution_count": 60,
   "metadata": {},
   "outputs": [],
   "source": [
    "df_lotto = df_lotto.rename(columns={\"Unnamed: 0\": \"Year\"})"
   ]
  },
  {
   "cell_type": "code",
   "execution_count": 61,
   "metadata": {},
   "outputs": [
    {
     "data": {
      "text/html": [
       "<div>\n",
       "<style scoped>\n",
       "    .dataframe tbody tr th:only-of-type {\n",
       "        vertical-align: middle;\n",
       "    }\n",
       "\n",
       "    .dataframe tbody tr th {\n",
       "        vertical-align: top;\n",
       "    }\n",
       "\n",
       "    .dataframe thead th {\n",
       "        text-align: right;\n",
       "    }\n",
       "</style>\n",
       "<table border=\"1\" class=\"dataframe\">\n",
       "  <thead>\n",
       "    <tr style=\"text-align: right;\">\n",
       "      <th></th>\n",
       "      <th>Year</th>\n",
       "      <th>A</th>\n",
       "      <th>B</th>\n",
       "      <th>C</th>\n",
       "      <th>D</th>\n",
       "      <th>E</th>\n",
       "      <th>F</th>\n",
       "      <th>Bonus</th>\n",
       "    </tr>\n",
       "  </thead>\n",
       "  <tbody>\n",
       "    <tr>\n",
       "      <th>count</th>\n",
       "      <td>609.000000</td>\n",
       "      <td>609.000000</td>\n",
       "      <td>609.000000</td>\n",
       "      <td>609.000000</td>\n",
       "      <td>609.000000</td>\n",
       "      <td>609.000000</td>\n",
       "      <td>609.000000</td>\n",
       "      <td>609.000000</td>\n",
       "    </tr>\n",
       "    <tr>\n",
       "      <th>mean</th>\n",
       "      <td>2018.428571</td>\n",
       "      <td>7.027915</td>\n",
       "      <td>13.666667</td>\n",
       "      <td>20.743842</td>\n",
       "      <td>27.471264</td>\n",
       "      <td>34.313629</td>\n",
       "      <td>41.323481</td>\n",
       "      <td>24.290640</td>\n",
       "    </tr>\n",
       "    <tr>\n",
       "      <th>std</th>\n",
       "      <td>1.681528</td>\n",
       "      <td>5.872343</td>\n",
       "      <td>7.214903</td>\n",
       "      <td>7.768657</td>\n",
       "      <td>7.513119</td>\n",
       "      <td>7.042528</td>\n",
       "      <td>5.402131</td>\n",
       "      <td>13.780084</td>\n",
       "    </tr>\n",
       "    <tr>\n",
       "      <th>min</th>\n",
       "      <td>2016.000000</td>\n",
       "      <td>1.000000</td>\n",
       "      <td>2.000000</td>\n",
       "      <td>3.000000</td>\n",
       "      <td>6.000000</td>\n",
       "      <td>11.000000</td>\n",
       "      <td>19.000000</td>\n",
       "      <td>1.000000</td>\n",
       "    </tr>\n",
       "    <tr>\n",
       "      <th>25%</th>\n",
       "      <td>2017.000000</td>\n",
       "      <td>3.000000</td>\n",
       "      <td>8.000000</td>\n",
       "      <td>15.000000</td>\n",
       "      <td>22.000000</td>\n",
       "      <td>29.000000</td>\n",
       "      <td>38.000000</td>\n",
       "      <td>12.000000</td>\n",
       "    </tr>\n",
       "    <tr>\n",
       "      <th>50%</th>\n",
       "      <td>2018.000000</td>\n",
       "      <td>5.000000</td>\n",
       "      <td>13.000000</td>\n",
       "      <td>20.000000</td>\n",
       "      <td>28.000000</td>\n",
       "      <td>35.000000</td>\n",
       "      <td>43.000000</td>\n",
       "      <td>25.000000</td>\n",
       "    </tr>\n",
       "    <tr>\n",
       "      <th>75%</th>\n",
       "      <td>2020.000000</td>\n",
       "      <td>10.000000</td>\n",
       "      <td>18.000000</td>\n",
       "      <td>26.000000</td>\n",
       "      <td>33.000000</td>\n",
       "      <td>40.000000</td>\n",
       "      <td>46.000000</td>\n",
       "      <td>37.000000</td>\n",
       "    </tr>\n",
       "    <tr>\n",
       "      <th>max</th>\n",
       "      <td>2021.000000</td>\n",
       "      <td>33.000000</td>\n",
       "      <td>38.000000</td>\n",
       "      <td>44.000000</td>\n",
       "      <td>45.000000</td>\n",
       "      <td>46.000000</td>\n",
       "      <td>47.000000</td>\n",
       "      <td>47.000000</td>\n",
       "    </tr>\n",
       "  </tbody>\n",
       "</table>\n",
       "</div>"
      ],
      "text/plain": [
       "              Year           A           B           C           D  \\\n",
       "count   609.000000  609.000000  609.000000  609.000000  609.000000   \n",
       "mean   2018.428571    7.027915   13.666667   20.743842   27.471264   \n",
       "std       1.681528    5.872343    7.214903    7.768657    7.513119   \n",
       "min    2016.000000    1.000000    2.000000    3.000000    6.000000   \n",
       "25%    2017.000000    3.000000    8.000000   15.000000   22.000000   \n",
       "50%    2018.000000    5.000000   13.000000   20.000000   28.000000   \n",
       "75%    2020.000000   10.000000   18.000000   26.000000   33.000000   \n",
       "max    2021.000000   33.000000   38.000000   44.000000   45.000000   \n",
       "\n",
       "                E           F       Bonus  \n",
       "count  609.000000  609.000000  609.000000  \n",
       "mean    34.313629   41.323481   24.290640  \n",
       "std      7.042528    5.402131   13.780084  \n",
       "min     11.000000   19.000000    1.000000  \n",
       "25%     29.000000   38.000000   12.000000  \n",
       "50%     35.000000   43.000000   25.000000  \n",
       "75%     40.000000   46.000000   37.000000  \n",
       "max     46.000000   47.000000   47.000000  "
      ]
     },
     "execution_count": 61,
     "metadata": {},
     "output_type": "execute_result"
    }
   ],
   "source": [
    "df_lotto.describe()"
   ]
  },
  {
   "cell_type": "code",
   "execution_count": 62,
   "metadata": {},
   "outputs": [
    {
     "data": {
      "text/html": [
       "<div>\n",
       "<style scoped>\n",
       "    .dataframe tbody tr th:only-of-type {\n",
       "        vertical-align: middle;\n",
       "    }\n",
       "\n",
       "    .dataframe tbody tr th {\n",
       "        vertical-align: top;\n",
       "    }\n",
       "\n",
       "    .dataframe thead th {\n",
       "        text-align: right;\n",
       "    }\n",
       "</style>\n",
       "<table border=\"1\" class=\"dataframe\">\n",
       "  <thead>\n",
       "    <tr style=\"text-align: right;\">\n",
       "      <th></th>\n",
       "      <th>A</th>\n",
       "      <th>B</th>\n",
       "      <th>C</th>\n",
       "      <th>D</th>\n",
       "      <th>E</th>\n",
       "      <th>F</th>\n",
       "    </tr>\n",
       "  </thead>\n",
       "  <tbody>\n",
       "    <tr>\n",
       "      <th>0</th>\n",
       "      <td>2</td>\n",
       "      <td>8</td>\n",
       "      <td>10</td>\n",
       "      <td>23</td>\n",
       "      <td>27</td>\n",
       "      <td>29</td>\n",
       "    </tr>\n",
       "    <tr>\n",
       "      <th>1</th>\n",
       "      <td>1</td>\n",
       "      <td>12</td>\n",
       "      <td>34</td>\n",
       "      <td>43</td>\n",
       "      <td>45</td>\n",
       "      <td>47</td>\n",
       "    </tr>\n",
       "    <tr>\n",
       "      <th>2</th>\n",
       "      <td>8</td>\n",
       "      <td>10</td>\n",
       "      <td>11</td>\n",
       "      <td>16</td>\n",
       "      <td>40</td>\n",
       "      <td>42</td>\n",
       "    </tr>\n",
       "    <tr>\n",
       "      <th>3</th>\n",
       "      <td>6</td>\n",
       "      <td>10</td>\n",
       "      <td>23</td>\n",
       "      <td>28</td>\n",
       "      <td>37</td>\n",
       "      <td>41</td>\n",
       "    </tr>\n",
       "    <tr>\n",
       "      <th>4</th>\n",
       "      <td>7</td>\n",
       "      <td>20</td>\n",
       "      <td>25</td>\n",
       "      <td>27</td>\n",
       "      <td>41</td>\n",
       "      <td>45</td>\n",
       "    </tr>\n",
       "    <tr>\n",
       "      <th>...</th>\n",
       "      <td>...</td>\n",
       "      <td>...</td>\n",
       "      <td>...</td>\n",
       "      <td>...</td>\n",
       "      <td>...</td>\n",
       "      <td>...</td>\n",
       "    </tr>\n",
       "    <tr>\n",
       "      <th>604</th>\n",
       "      <td>12</td>\n",
       "      <td>17</td>\n",
       "      <td>22</td>\n",
       "      <td>32</td>\n",
       "      <td>38</td>\n",
       "      <td>39</td>\n",
       "    </tr>\n",
       "    <tr>\n",
       "      <th>605</th>\n",
       "      <td>12</td>\n",
       "      <td>18</td>\n",
       "      <td>29</td>\n",
       "      <td>32</td>\n",
       "      <td>34</td>\n",
       "      <td>44</td>\n",
       "    </tr>\n",
       "    <tr>\n",
       "      <th>606</th>\n",
       "      <td>10</td>\n",
       "      <td>17</td>\n",
       "      <td>42</td>\n",
       "      <td>43</td>\n",
       "      <td>45</td>\n",
       "      <td>47</td>\n",
       "    </tr>\n",
       "    <tr>\n",
       "      <th>607</th>\n",
       "      <td>8</td>\n",
       "      <td>10</td>\n",
       "      <td>14</td>\n",
       "      <td>23</td>\n",
       "      <td>39</td>\n",
       "      <td>47</td>\n",
       "    </tr>\n",
       "    <tr>\n",
       "      <th>608</th>\n",
       "      <td>3</td>\n",
       "      <td>6</td>\n",
       "      <td>18</td>\n",
       "      <td>26</td>\n",
       "      <td>42</td>\n",
       "      <td>47</td>\n",
       "    </tr>\n",
       "  </tbody>\n",
       "</table>\n",
       "<p>609 rows × 6 columns</p>\n",
       "</div>"
      ],
      "text/plain": [
       "      A   B   C   D   E   F\n",
       "0     2   8  10  23  27  29\n",
       "1     1  12  34  43  45  47\n",
       "2     8  10  11  16  40  42\n",
       "3     6  10  23  28  37  41\n",
       "4     7  20  25  27  41  45\n",
       "..   ..  ..  ..  ..  ..  ..\n",
       "604  12  17  22  32  38  39\n",
       "605  12  18  29  32  34  44\n",
       "606  10  17  42  43  45  47\n",
       "607   8  10  14  23  39  47\n",
       "608   3   6  18  26  42  47\n",
       "\n",
       "[609 rows x 6 columns]"
      ]
     },
     "execution_count": 62,
     "metadata": {},
     "output_type": "execute_result"
    }
   ],
   "source": [
    "df_ball = df_lotto.drop(['Year','Bonus'], axis=1)\n",
    "df_ball"
   ]
  },
  {
   "cell_type": "code",
   "execution_count": 63,
   "metadata": {},
   "outputs": [],
   "source": [
    "list_ball = list(df_ball.values.T.flatten())"
   ]
  },
  {
   "cell_type": "code",
   "execution_count": 64,
   "metadata": {},
   "outputs": [],
   "source": [
    "## The maximum occurance of number in the list of numbers\n",
    "from collections import Counter\n",
    "most_common,num_most_common = Counter(list_ball).most_common(1)[0]"
   ]
  },
  {
   "cell_type": "code",
   "execution_count": 65,
   "metadata": {},
   "outputs": [
    {
     "name": "stdout",
     "output_type": "stream",
     "text": [
      "27\n",
      "103\n"
     ]
    }
   ],
   "source": [
    "print(most_common)\n",
    "print(num_most_common)"
   ]
  },
  {
   "cell_type": "code",
   "execution_count": 66,
   "metadata": {},
   "outputs": [
    {
     "data": {
      "text/plain": [
       "[(27, 103), (29, 94), (42, 94), (47, 94), (18, 91), (10, 87)]"
      ]
     },
     "execution_count": 66,
     "metadata": {},
     "output_type": "execute_result"
    }
   ],
   "source": [
    "# find the 6 most common numbers in the list\n",
    "most_common_6 = Counter(list_ball).most_common(6)\n",
    "most_common_6"
   ]
  },
  {
   "cell_type": "code",
   "execution_count": 67,
   "metadata": {},
   "outputs": [
    {
     "name": "stdout",
     "output_type": "stream",
     "text": [
      "[27, 29, 42, 47, 18, 10, 22, 15, 16, 14, 34, 45, 31, 23, 38, 37, 1, 7, 40, 30, 5, 2, 9, 28, 39, 20, 44, 12, 8, 4, 21, 17, 33, 3, 24, 41, 46, 6, 11, 19, 25, 35, 13, 32, 43, 26, 36]\n",
      "{2: 79, 1: 82, 8: 73, 6: 69, 7: 82, 4: 73, 30: 81, 3: 70, 12: 74, 13: 65, 20: 76, 11: 69, 5: 81, 9: 78, 10: 87, 22: 87, 15: 86, 16: 86, 19: 69, 14: 86, 21: 73, 17: 73, 31: 85, 18: 91, 27: 103, 33: 73, 26: 57, 23: 83, 29: 94, 25: 69, 36: 54, 35: 68, 28: 78, 32: 65, 38: 83, 24: 70, 34: 86, 37: 83, 39: 77, 44: 76, 42: 94, 43: 64, 40: 82, 41: 70, 45: 86, 46: 70, 47: 94}\n"
     ]
    }
   ],
   "source": [
    "number_counter = {}\n",
    "for number in list_ball:\n",
    "    if number in number_counter:\n",
    "        number_counter[number] += 1\n",
    "    else:\n",
    "        number_counter[number] = 1\n",
    " \n",
    "popular_numbers = sorted(number_counter, key = number_counter.get, reverse = True)\n",
    " \n",
    "print(popular_numbers)\n",
    "print(number_counter)"
   ]
  },
  {
   "cell_type": "code",
   "execution_count": 68,
   "metadata": {},
   "outputs": [
    {
     "data": {
      "image/png": "[encoded data removed]",
      "text/plain": [
       "<Figure size 432x288 with 1 Axes>"
      ]
     },
     "metadata": {
      "needs_background": "light"
     },
     "output_type": "display_data"
    }
   ],
   "source": [
    "#for plot of the most popular numbers\n",
    "import matplotlib.pyplot as plt\n",
    "%matplotlib inline\n",
    "\n",
    "#lists = sorted(number_counter.items()) # sorted by key, return a list of tuples\n",
    "x, y = zip(*number_counter.items()) # unpack a list of pairs into two tuples\n",
    "\n",
    "plt.plot(x, y, \".\")\n",
    "plt.ylabel('times')\n",
    "plt.xlabel(\"Numbers\")\n",
    "plt.title(\"Occurance of numbers\")\n",
    "\n",
    "plt.show()"
   ]
  },
  {
   "cell_type": "code",
   "execution_count": 69,
   "metadata": {
    "scrolled": false
   },
   "outputs": [
    {
     "name": "stdout",
     "output_type": "stream",
     "text": [
      "27\t: \t 103 times\n",
      "29\t: \t 94 times\n",
      "42\t: \t 94 times\n",
      "47\t: \t 94 times\n",
      "18\t: \t 91 times\n",
      "10\t: \t 87 times\n",
      "22\t: \t 87 times\n",
      "15\t: \t 86 times\n",
      "16\t: \t 86 times\n",
      "14\t: \t 86 times\n",
      "34\t: \t 86 times\n",
      "45\t: \t 86 times\n",
      "31\t: \t 85 times\n",
      "23\t: \t 83 times\n",
      "38\t: \t 83 times\n",
      "37\t: \t 83 times\n",
      "1\t: \t 82 times\n",
      "7\t: \t 82 times\n",
      "40\t: \t 82 times\n",
      "30\t: \t 81 times\n",
      "5\t: \t 81 times\n",
      "2\t: \t 79 times\n",
      "9\t: \t 78 times\n",
      "28\t: \t 78 times\n",
      "39\t: \t 77 times\n",
      "20\t: \t 76 times\n",
      "44\t: \t 76 times\n",
      "12\t: \t 74 times\n",
      "8\t: \t 73 times\n",
      "4\t: \t 73 times\n",
      "21\t: \t 73 times\n",
      "17\t: \t 73 times\n",
      "33\t: \t 73 times\n",
      "3\t: \t 70 times\n",
      "24\t: \t 70 times\n",
      "41\t: \t 70 times\n",
      "46\t: \t 70 times\n",
      "6\t: \t 69 times\n",
      "11\t: \t 69 times\n",
      "19\t: \t 69 times\n",
      "25\t: \t 69 times\n",
      "35\t: \t 68 times\n",
      "13\t: \t 65 times\n",
      "32\t: \t 65 times\n",
      "43\t: \t 64 times\n",
      "26\t: \t 57 times\n",
      "36\t: \t 54 times\n"
     ]
    }
   ],
   "source": [
    "#print the dictionary with sorted values\n",
    "dictionary_numbers = Counter(list_ball)\n",
    "dictionary_numbers_sorted_keys = sorted(dictionary_numbers, key=dictionary_numbers.get, reverse=True)\n",
    "for r in dictionary_numbers_sorted_keys:\n",
    "    print (\"{}\\t: \\t {} times\".format(r, dictionary_numbers[r]))"
   ]
  },
  {
   "cell_type": "code",
   "execution_count": 70,
   "metadata": {},
   "outputs": [
    {
     "data": {
      "text/plain": [
       "35    19\n",
       "31    19\n",
       "16    18\n",
       "12    18\n",
       "43    18\n",
       "17    18\n",
       "37    18\n",
       "38    17\n",
       "9     16\n",
       "34    16\n",
       "7     16\n",
       "13    16\n",
       "46    16\n",
       "3     15\n",
       "5     15\n",
       "45    15\n",
       "14    14\n",
       "40    14\n",
       "41    14\n",
       "2     14\n",
       "25    14\n",
       "42    13\n",
       "19    13\n",
       "20    13\n",
       "1     12\n",
       "27    12\n",
       "28    12\n",
       "22    11\n",
       "18    11\n",
       "33    11\n",
       "36    11\n",
       "39    11\n",
       "6     10\n",
       "11    10\n",
       "4     10\n",
       "47    10\n",
       "15    10\n",
       "29    10\n",
       "32    10\n",
       "10     9\n",
       "8      9\n",
       "23     9\n",
       "30     9\n",
       "44     9\n",
       "21     8\n",
       "26     8\n",
       "24     8\n",
       "Name: Bonus, dtype: int64"
      ]
     },
     "execution_count": 70,
     "metadata": {},
     "output_type": "execute_result"
    }
   ],
   "source": [
    "#counts of unique values for the bonus to find the most occuring numbers\n",
    "df_lotto['Bonus'].value_counts()"
   ]
  },
  {
   "cell_type": "code",
   "execution_count": 71,
   "metadata": {},
   "outputs": [
    {
     "data": {
      "text/plain": [
       "24.091133004926107"
      ]
     },
     "execution_count": 71,
     "metadata": {},
     "output_type": "execute_result"
    }
   ],
   "source": [
    "#mean\n",
    "np.mean(list_ball)"
   ]
  },
  {
   "cell_type": "code",
   "execution_count": 72,
   "metadata": {},
   "outputs": [
    {
     "data": {
      "text/plain": [
       "13.57424648670478"
      ]
     },
     "execution_count": 72,
     "metadata": {},
     "output_type": "execute_result"
    }
   ],
   "source": [
    "#standard deviation\n",
    "np.std(list_ball)"
   ]
  },
  {
   "cell_type": "code",
   "execution_count": 73,
   "metadata": {},
   "outputs": [
    {
     "data": {
      "text/plain": [
       "24.0"
      ]
     },
     "execution_count": 73,
     "metadata": {},
     "output_type": "execute_result"
    }
   ],
   "source": [
    "np.median(list_ball)"
   ]
  },
  {
   "cell_type": "code",
   "execution_count": 74,
   "metadata": {
    "scrolled": true
   },
   "outputs": [],
   "source": [
    "list_ball_2021 = list(df_2021.drop(['Bonus'],axis=1).values.T.flatten())"
   ]
  },
  {
   "cell_type": "code",
   "execution_count": 75,
   "metadata": {},
   "outputs": [],
   "source": [
    "# The maximum occurance of number in the list of numbers\n",
    "from collections import Counter\n",
    "most_common_2021,num_most_common_2021 = Counter(list_ball_2021).most_common(1)[0]"
   ]
  },
  {
   "cell_type": "code",
   "execution_count": 76,
   "metadata": {},
   "outputs": [
    {
     "name": "stdout",
     "output_type": "stream",
     "text": [
      "45\n",
      "18\n"
     ]
    }
   ],
   "source": [
    "print(most_common_2021)\n",
    "print(num_most_common_2021)"
   ]
  },
  {
   "cell_type": "code",
   "execution_count": 77,
   "metadata": {},
   "outputs": [
    {
     "data": {
      "text/plain": [
       "[('45', 18), ('47', 18), ('1', 15), ('18', 15), ('21', 15), ('27', 15)]"
      ]
     },
     "execution_count": 77,
     "metadata": {},
     "output_type": "execute_result"
    }
   ],
   "source": [
    "# find the 6 most common numbers in the list\n",
    "most_common_6_2021 = Counter(list_ball_2021).most_common(6)\n",
    "most_common_6_2021"
   ]
  },
  {
   "cell_type": "code",
   "execution_count": 78,
   "metadata": {},
   "outputs": [
    {
     "name": "stdout",
     "output_type": "stream",
     "text": [
      "['45', '47', '1', '18', '21', '27', '44', '5', '34', '40', '12', '14', '23', '4', '22', '17', '29', '38', '39', '32', '37', '41', '43', '33', '10', '15', '11', '26', '9', '31', '30', '42', '46', '6', '25', '35', '3', '8', '7', '16', '28', '2', '24', '20', '19', '13', '36']\n",
      "{'5': 14, '3': 8, '12': 13, '1': 15, '9': 10, '6': 9, '4': 12, '20': 6, '22': 12, '25': 9, '14': 13, '8': 8, '17': 12, '29': 12, '33': 11, '10': 11, '7': 8, '2': 7, '18': 15, '23': 13, '15': 11, '16': 8, '11': 11, '19': 6, '13': 6, '21': 15, '31': 10, '24': 7, '27': 15, '30': 10, '38': 12, '26': 11, '39': 12, '36': 6, '28': 8, '32': 12, '37': 12, '34': 14, '42': 10, '41': 12, '35': 9, '40': 14, '43': 12, '44': 15, '46': 10, '45': 18, '47': 18}\n"
     ]
    }
   ],
   "source": [
    "number_counter_2021 = {}\n",
    "for number in list_ball_2021:\n",
    "    if number in number_counter_2021:\n",
    "        number_counter_2021[number] += 1\n",
    "    else:\n",
    "        number_counter_2021[number] = 1\n",
    " \n",
    "popular_numbers_2021 = sorted(number_counter_2021, key = number_counter_2021.get, reverse = True)\n",
    " \n",
    "print(popular_numbers_2021)\n",
    "print(number_counter_2021)"
   ]
  },
  {
   "cell_type": "markdown",
   "metadata": {},
   "source": [
    "##### Most common numbers 2021"
   ]
  },
  {
   "cell_type": "code",
   "execution_count": 79,
   "metadata": {},
   "outputs": [
    {
     "name": "stdout",
     "output_type": "stream",
     "text": [
      "45\t: \t 18 times\n",
      "47\t: \t 18 times\n",
      "1\t: \t 15 times\n",
      "18\t: \t 15 times\n",
      "21\t: \t 15 times\n",
      "27\t: \t 15 times\n",
      "44\t: \t 15 times\n",
      "5\t: \t 14 times\n",
      "34\t: \t 14 times\n",
      "40\t: \t 14 times\n",
      "12\t: \t 13 times\n",
      "14\t: \t 13 times\n",
      "23\t: \t 13 times\n",
      "4\t: \t 12 times\n",
      "22\t: \t 12 times\n",
      "17\t: \t 12 times\n",
      "29\t: \t 12 times\n",
      "38\t: \t 12 times\n",
      "39\t: \t 12 times\n",
      "32\t: \t 12 times\n",
      "37\t: \t 12 times\n",
      "41\t: \t 12 times\n",
      "43\t: \t 12 times\n",
      "33\t: \t 11 times\n",
      "10\t: \t 11 times\n",
      "15\t: \t 11 times\n",
      "11\t: \t 11 times\n",
      "26\t: \t 11 times\n",
      "9\t: \t 10 times\n",
      "31\t: \t 10 times\n",
      "30\t: \t 10 times\n",
      "42\t: \t 10 times\n",
      "46\t: \t 10 times\n",
      "6\t: \t 9 times\n",
      "25\t: \t 9 times\n",
      "35\t: \t 9 times\n",
      "3\t: \t 8 times\n",
      "8\t: \t 8 times\n",
      "7\t: \t 8 times\n",
      "16\t: \t 8 times\n",
      "28\t: \t 8 times\n",
      "2\t: \t 7 times\n",
      "24\t: \t 7 times\n",
      "20\t: \t 6 times\n",
      "19\t: \t 6 times\n",
      "13\t: \t 6 times\n",
      "36\t: \t 6 times\n"
     ]
    }
   ],
   "source": [
    "#print the dictionary with sorted values\n",
    "dictionary_numbers_2021 = Counter(list_ball_2021)\n",
    "dictionary_numbers_sorted_keys_2021 = sorted(dictionary_numbers_2021, key=dictionary_numbers_2021.get, reverse=True)\n",
    "for r in dictionary_numbers_sorted_keys_2021:\n",
    "    print (\"{}\\t: \\t {} times\".format(r, dictionary_numbers_2021[r]))"
   ]
  },
  {
   "cell_type": "code",
   "execution_count": 80,
   "metadata": {},
   "outputs": [],
   "source": [
    "list_ball_2020 = list(df_2020.drop(['Bonus'],axis=1).values.T.flatten())"
   ]
  },
  {
   "cell_type": "code",
   "execution_count": 81,
   "metadata": {},
   "outputs": [],
   "source": [
    "## The maximum occurance of number in the list of numbers\n",
    "from collections import Counter\n",
    "most_common_2020,num_most_common_2020 = Counter(list_ball_2020).most_common(1)[0]"
   ]
  },
  {
   "cell_type": "code",
   "execution_count": 82,
   "metadata": {},
   "outputs": [
    {
     "name": "stdout",
     "output_type": "stream",
     "text": [
      "5\n",
      "22\n"
     ]
    }
   ],
   "source": [
    "print(most_common_2020)\n",
    "print(num_most_common_2020)"
   ]
  },
  {
   "cell_type": "code",
   "execution_count": 83,
   "metadata": {},
   "outputs": [
    {
     "data": {
      "text/plain": [
       "[('5', 22), ('23', 21), ('47', 20), ('15', 19), ('14', 19), ('20', 19)]"
      ]
     },
     "execution_count": 83,
     "metadata": {},
     "output_type": "execute_result"
    }
   ],
   "source": [
    "# find the 6 most common numbers in the list\n",
    "most_common_6_2020 = Counter(list_ball_2020).most_common(6)\n",
    "most_common_6_2020"
   ]
  },
  {
   "cell_type": "code",
   "execution_count": 84,
   "metadata": {},
   "outputs": [
    {
     "name": "stdout",
     "output_type": "stream",
     "text": [
      "['5', '23', '47', '15', '14', '20', '3', '33', '38', '22', '28', '10', '34', '16', '42', '13', '4', '27', '31', '29', '40', '44', '12', '41', '45', '30', '24', '8', '9', '18', '21', '37', '7', '39', '1', '2', '11', '19', '36', '25', '46', '6', '26', '17', '32', '35', '43']\n",
      "{'8': 12, '22': 17, '9': 12, '15': 19, '3': 18, '13': 15, '5': 22, '1': 9, '6': 8, '2': 9, '14': 19, '4': 15, '20': 19, '12': 14, '21': 11, '10': 16, '11': 9, '7': 10, '23': 21, '30': 13, '19': 9, '26': 8, '34': 16, '24': 13, '18': 12, '28': 17, '17': 7, '16': 16, '27': 15, '33': 18, '36': 9, '25': 9, '32': 7, '31': 15, '29': 15, '39': 10, '35': 7, '37': 11, '38': 18, '42': 16, '40': 15, '41': 14, '43': 7, '45': 14, '44': 15, '46': 9, '47': 20}\n"
     ]
    }
   ],
   "source": [
    "number_counter_2020 = {}\n",
    "for number in list_ball_2020:\n",
    "    if number in number_counter_2020:\n",
    "        number_counter_2020[number] += 1\n",
    "    else:\n",
    "        number_counter_2020[number] = 1\n",
    " \n",
    "popular_numbers_2020 = sorted(number_counter_2020, key = number_counter_2020.get, reverse = True)\n",
    " \n",
    "print(popular_numbers_2020)\n",
    "print(number_counter_2020)"
   ]
  },
  {
   "cell_type": "markdown",
   "metadata": {},
   "source": [
    "##### Most common numbers 2020"
   ]
  },
  {
   "cell_type": "code",
   "execution_count": 85,
   "metadata": {},
   "outputs": [
    {
     "name": "stdout",
     "output_type": "stream",
     "text": [
      "5\t: \t 22 times\n",
      "23\t: \t 21 times\n",
      "47\t: \t 20 times\n",
      "15\t: \t 19 times\n",
      "14\t: \t 19 times\n",
      "20\t: \t 19 times\n",
      "3\t: \t 18 times\n",
      "33\t: \t 18 times\n",
      "38\t: \t 18 times\n",
      "22\t: \t 17 times\n",
      "28\t: \t 17 times\n",
      "10\t: \t 16 times\n",
      "34\t: \t 16 times\n",
      "16\t: \t 16 times\n",
      "42\t: \t 16 times\n",
      "13\t: \t 15 times\n",
      "4\t: \t 15 times\n",
      "27\t: \t 15 times\n",
      "31\t: \t 15 times\n",
      "29\t: \t 15 times\n",
      "40\t: \t 15 times\n",
      "44\t: \t 15 times\n",
      "12\t: \t 14 times\n",
      "41\t: \t 14 times\n",
      "45\t: \t 14 times\n",
      "30\t: \t 13 times\n",
      "24\t: \t 13 times\n",
      "8\t: \t 12 times\n",
      "9\t: \t 12 times\n",
      "18\t: \t 12 times\n",
      "21\t: \t 11 times\n",
      "37\t: \t 11 times\n",
      "7\t: \t 10 times\n",
      "39\t: \t 10 times\n",
      "1\t: \t 9 times\n",
      "2\t: \t 9 times\n",
      "11\t: \t 9 times\n",
      "19\t: \t 9 times\n",
      "36\t: \t 9 times\n",
      "25\t: \t 9 times\n",
      "46\t: \t 9 times\n",
      "6\t: \t 8 times\n",
      "26\t: \t 8 times\n",
      "17\t: \t 7 times\n",
      "32\t: \t 7 times\n",
      "35\t: \t 7 times\n",
      "43\t: \t 7 times\n"
     ]
    }
   ],
   "source": [
    "#print the dictionary with sorted values\n",
    "dictionary_numbers_2020 = Counter(list_ball_2020)\n",
    "dictionary_numbers_sorted_keys_2020 = sorted(dictionary_numbers_2020, key=dictionary_numbers_2020.get, reverse=True)\n",
    "for r in dictionary_numbers_sorted_keys_2020:\n",
    "    print (\"{}\\t: \\t {} times\".format(r, dictionary_numbers_2020[r]))"
   ]
  },
  {
   "cell_type": "code",
   "execution_count": 86,
   "metadata": {},
   "outputs": [],
   "source": [
    "df_20_21 = pd.concat([df_2020, df_2021])"
   ]
  },
  {
   "cell_type": "code",
   "execution_count": 87,
   "metadata": {},
   "outputs": [
    {
     "name": "stdout",
     "output_type": "stream",
     "text": [
      "47\n",
      "38\n"
     ]
    }
   ],
   "source": [
    "list_ball_20_21 = list(df_20_21.drop(['Bonus'],axis=1).values.T.flatten())\n",
    "most_common_20_21,num_most_common_20_21 = Counter(list_ball_20_21).most_common(1)[0]\n",
    "print(most_common_20_21)\n",
    "print(num_most_common_20_21)"
   ]
  },
  {
   "cell_type": "code",
   "execution_count": 88,
   "metadata": {},
   "outputs": [
    {
     "data": {
      "text/plain": [
       "[('47', 38), ('5', 36), ('23', 34), ('14', 32), ('45', 32), ('15', 30)]"
      ]
     },
     "execution_count": 88,
     "metadata": {},
     "output_type": "execute_result"
    }
   ],
   "source": [
    "# find the 6 most common numbers in the list\n",
    "most_common_6_20_21 = Counter(list_ball_20_21).most_common(6)\n",
    "most_common_6_20_21"
   ]
  },
  {
   "cell_type": "code",
   "execution_count": 89,
   "metadata": {},
   "outputs": [
    {
     "name": "stdout",
     "output_type": "stream",
     "text": [
      "['47', '5', '23', '14', '45', '15', '34', '27', '38', '44', '22', '33', '40', '4', '12', '10', '29', '18', '3', '21', '42', '41', '20', '28', '31', '1', '16', '30', '37', '9', '39', '13', '8', '11', '24', '17', '26', '32', '43', '46', '7', '25', '6', '2', '35', '19', '36']\n",
      "{'8': 20, '22': 29, '9': 22, '15': 30, '3': 26, '13': 21, '5': 36, '1': 24, '6': 17, '2': 16, '14': 32, '4': 27, '20': 25, '12': 27, '21': 26, '10': 27, '11': 20, '7': 18, '23': 34, '25': 18, '17': 19, '29': 27, '33': 29, '18': 27, '16': 24, '30': 23, '19': 15, '26': 19, '34': 30, '24': 20, '28': 25, '27': 30, '31': 25, '38': 30, '36': 15, '32': 19, '39': 22, '37': 23, '42': 26, '35': 16, '40': 29, '41': 26, '43': 19, '45': 32, '44': 30, '46': 19, '47': 38}\n"
     ]
    }
   ],
   "source": [
    "number_counter_20_21 = {}\n",
    "for number in list_ball_20_21:\n",
    "    if number in number_counter_20_21:\n",
    "        number_counter_20_21[number] += 1\n",
    "    else:\n",
    "        number_counter_20_21[number] = 1\n",
    " \n",
    "popular_numbers_20_21 = sorted(number_counter_20_21, key = number_counter_20_21.get, reverse = True)\n",
    " \n",
    "print(popular_numbers_20_21)\n",
    "print(number_counter_20_21)"
   ]
  },
  {
   "cell_type": "markdown",
   "metadata": {},
   "source": [
    "##### Most common numbers 2020 and 2021"
   ]
  },
  {
   "cell_type": "code",
   "execution_count": 90,
   "metadata": {
    "scrolled": false
   },
   "outputs": [
    {
     "name": "stdout",
     "output_type": "stream",
     "text": [
      "47\t: \t 38 times\n",
      "5\t: \t 36 times\n",
      "23\t: \t 34 times\n",
      "14\t: \t 32 times\n",
      "45\t: \t 32 times\n",
      "15\t: \t 30 times\n",
      "34\t: \t 30 times\n",
      "27\t: \t 30 times\n",
      "38\t: \t 30 times\n",
      "44\t: \t 30 times\n",
      "22\t: \t 29 times\n",
      "33\t: \t 29 times\n",
      "40\t: \t 29 times\n",
      "4\t: \t 27 times\n",
      "12\t: \t 27 times\n",
      "10\t: \t 27 times\n",
      "29\t: \t 27 times\n",
      "18\t: \t 27 times\n",
      "3\t: \t 26 times\n",
      "21\t: \t 26 times\n",
      "42\t: \t 26 times\n",
      "41\t: \t 26 times\n",
      "20\t: \t 25 times\n",
      "28\t: \t 25 times\n",
      "31\t: \t 25 times\n",
      "1\t: \t 24 times\n",
      "16\t: \t 24 times\n",
      "30\t: \t 23 times\n",
      "37\t: \t 23 times\n",
      "9\t: \t 22 times\n",
      "39\t: \t 22 times\n",
      "13\t: \t 21 times\n",
      "8\t: \t 20 times\n",
      "11\t: \t 20 times\n",
      "24\t: \t 20 times\n",
      "17\t: \t 19 times\n",
      "26\t: \t 19 times\n",
      "32\t: \t 19 times\n",
      "43\t: \t 19 times\n",
      "46\t: \t 19 times\n",
      "7\t: \t 18 times\n",
      "25\t: \t 18 times\n",
      "6\t: \t 17 times\n",
      "2\t: \t 16 times\n",
      "35\t: \t 16 times\n",
      "19\t: \t 15 times\n",
      "36\t: \t 15 times\n"
     ]
    }
   ],
   "source": [
    "#print the dictionary with sorted values\n",
    "dictionary_numbers_20_21 = Counter(list_ball_20_21)\n",
    "dictionary_numbers_sorted_keys_20_21 = sorted(dictionary_numbers_20_21, key=dictionary_numbers_20_21.get, reverse=True)\n",
    "for r in dictionary_numbers_sorted_keys_20_21:\n",
    "    print (\"{}\\t: \\t {} times\".format(r, dictionary_numbers_20_21[r]))"
   ]
  },
  {
   "cell_type": "code",
   "execution_count": 91,
   "metadata": {},
   "outputs": [],
   "source": [
    "df_19_20_21 = pd.concat([df_2019, df_2020, df_2021])"
   ]
  },
  {
   "cell_type": "code",
   "execution_count": 92,
   "metadata": {},
   "outputs": [
    {
     "name": "stdout",
     "output_type": "stream",
     "text": [
      "23\n",
      "57\n"
     ]
    }
   ],
   "source": [
    "list_ball_19_20_21 = list(df_19_20_21.values.T.flatten())\n",
    "most_common_19_20_21,num_most_common_19_20_21 = Counter(list_ball_19_20_21).most_common(1)[0]\n",
    "print(most_common_19_20_21)\n",
    "print(num_most_common_19_20_21)"
   ]
  },
  {
   "cell_type": "code",
   "execution_count": 93,
   "metadata": {},
   "outputs": [
    {
     "data": {
      "text/plain": [
       "[('23', 57), ('14', 56), ('27', 55), ('34', 54), ('47', 53), ('12', 52)]"
      ]
     },
     "execution_count": 93,
     "metadata": {},
     "output_type": "execute_result"
    }
   ],
   "source": [
    "# find the 6 most common numbers in the list\n",
    "most_common_6_19_20_21 = Counter(list_ball_19_20_21).most_common(6)\n",
    "most_common_6_19_20_21"
   ]
  },
  {
   "cell_type": "code",
   "execution_count": 94,
   "metadata": {},
   "outputs": [
    {
     "name": "stdout",
     "output_type": "stream",
     "text": [
      "['23', '14', '27', '34', '47', '12', '3', '37', '18', '16', '45', '38', '40', '15', '1', '29', '42', '10', '33', '22', '46', '5', '7', '31', '39', '41', '30', '35', '44', '13', '28', '9', '21', '17', '4', '2', '20', '8', '25', '6', '11', '26', '43', '19', '24', '32', '36']\n",
      "{'2': 38, '12': 52, '6': 35, '8': 37, '11': 35, '13': 42, '14': 56, '4': 40, '15': 48, '1': 48, '3': 52, '5': 45, '7': 45, '9': 41, '18': 50, '16': 50, '10': 47, '20': 38, '22': 46, '19': 33, '21': 41, '23': 57, '25': 37, '17': 41, '29': 48, '33': 47, '28': 42, '27': 55, '32': 32, '24': 33, '30': 43, '26': 35, '34': 54, '31': 45, '38': 49, '37': 52, '35': 43, '36': 27, '39': 45, '42': 48, '40': 49, '45': 50, '41': 44, '43': 35, '44': 43, '46': 46, '47': 53}\n"
     ]
    }
   ],
   "source": [
    "number_counter_19_20_21 = {}\n",
    "for number in list_ball_19_20_21:\n",
    "    if number in number_counter_19_20_21:\n",
    "        number_counter_19_20_21[number] += 1\n",
    "    else:\n",
    "        number_counter_19_20_21[number] = 1\n",
    " \n",
    "popular_numbers_19_20_21 = sorted(number_counter_19_20_21, key = number_counter_19_20_21.get, reverse = True)\n",
    " \n",
    "print(popular_numbers_19_20_21)\n",
    "print(number_counter_19_20_21)"
   ]
  },
  {
   "cell_type": "markdown",
   "metadata": {},
   "source": [
    "#### Most Common numbers 2019-2021"
   ]
  },
  {
   "cell_type": "code",
   "execution_count": 95,
   "metadata": {},
   "outputs": [
    {
     "name": "stdout",
     "output_type": "stream",
     "text": [
      "23\t: \t 57 times\n",
      "14\t: \t 56 times\n",
      "27\t: \t 55 times\n",
      "34\t: \t 54 times\n",
      "47\t: \t 53 times\n",
      "12\t: \t 52 times\n",
      "3\t: \t 52 times\n",
      "37\t: \t 52 times\n",
      "18\t: \t 50 times\n",
      "16\t: \t 50 times\n",
      "45\t: \t 50 times\n",
      "38\t: \t 49 times\n",
      "40\t: \t 49 times\n",
      "15\t: \t 48 times\n",
      "1\t: \t 48 times\n",
      "29\t: \t 48 times\n",
      "42\t: \t 48 times\n",
      "10\t: \t 47 times\n",
      "33\t: \t 47 times\n",
      "22\t: \t 46 times\n",
      "46\t: \t 46 times\n",
      "5\t: \t 45 times\n",
      "7\t: \t 45 times\n",
      "31\t: \t 45 times\n",
      "39\t: \t 45 times\n",
      "41\t: \t 44 times\n",
      "30\t: \t 43 times\n",
      "35\t: \t 43 times\n",
      "44\t: \t 43 times\n",
      "13\t: \t 42 times\n",
      "28\t: \t 42 times\n",
      "9\t: \t 41 times\n",
      "21\t: \t 41 times\n",
      "17\t: \t 41 times\n",
      "4\t: \t 40 times\n",
      "2\t: \t 38 times\n",
      "20\t: \t 38 times\n",
      "8\t: \t 37 times\n",
      "25\t: \t 37 times\n",
      "6\t: \t 35 times\n",
      "11\t: \t 35 times\n",
      "26\t: \t 35 times\n",
      "43\t: \t 35 times\n",
      "19\t: \t 33 times\n",
      "24\t: \t 33 times\n",
      "32\t: \t 32 times\n",
      "36\t: \t 27 times\n"
     ]
    }
   ],
   "source": [
    "#print the dictionary with sorted values\n",
    "dictionary_numbers_19_20_21 = Counter(list_ball_19_20_21)\n",
    "dictionary_numbers_sorted_keys_19_20_21 = sorted(dictionary_numbers_19_20_21, key=dictionary_numbers_19_20_21.get, reverse=True)\n",
    "for r in dictionary_numbers_sorted_keys_19_20_21:\n",
    "    print (\"{}\\t: \\t {} times\".format(r, dictionary_numbers_19_20_21[r]))"
   ]
  },
  {
   "cell_type": "code",
   "execution_count": 96,
   "metadata": {},
   "outputs": [
    {
     "data": {
      "text/html": [
       "<div>\n",
       "<style scoped>\n",
       "    .dataframe tbody tr th:only-of-type {\n",
       "        vertical-align: middle;\n",
       "    }\n",
       "\n",
       "    .dataframe tbody tr th {\n",
       "        vertical-align: top;\n",
       "    }\n",
       "\n",
       "    .dataframe thead th {\n",
       "        text-align: right;\n",
       "    }\n",
       "</style>\n",
       "<table border=\"1\" class=\"dataframe\">\n",
       "  <thead>\n",
       "    <tr style=\"text-align: right;\">\n",
       "      <th></th>\n",
       "      <th>Year</th>\n",
       "      <th>A</th>\n",
       "      <th>B</th>\n",
       "      <th>C</th>\n",
       "      <th>D</th>\n",
       "      <th>E</th>\n",
       "      <th>F</th>\n",
       "      <th>Bonus</th>\n",
       "    </tr>\n",
       "  </thead>\n",
       "  <tbody>\n",
       "    <tr>\n",
       "      <th>25</th>\n",
       "      <td>2016</td>\n",
       "      <td>4</td>\n",
       "      <td>17</td>\n",
       "      <td>22</td>\n",
       "      <td>40</td>\n",
       "      <td>42</td>\n",
       "      <td>46</td>\n",
       "      <td>11</td>\n",
       "    </tr>\n",
       "    <tr>\n",
       "      <th>26</th>\n",
       "      <td>2016</td>\n",
       "      <td>2</td>\n",
       "      <td>5</td>\n",
       "      <td>8</td>\n",
       "      <td>14</td>\n",
       "      <td>40</td>\n",
       "      <td>42</td>\n",
       "      <td>7</td>\n",
       "    </tr>\n",
       "    <tr>\n",
       "      <th>27</th>\n",
       "      <td>2016</td>\n",
       "      <td>1</td>\n",
       "      <td>2</td>\n",
       "      <td>20</td>\n",
       "      <td>27</td>\n",
       "      <td>32</td>\n",
       "      <td>38</td>\n",
       "      <td>3</td>\n",
       "    </tr>\n",
       "    <tr>\n",
       "      <th>28</th>\n",
       "      <td>2016</td>\n",
       "      <td>2</td>\n",
       "      <td>7</td>\n",
       "      <td>16</td>\n",
       "      <td>17</td>\n",
       "      <td>27</td>\n",
       "      <td>47</td>\n",
       "      <td>41</td>\n",
       "    </tr>\n",
       "    <tr>\n",
       "      <th>29</th>\n",
       "      <td>2016</td>\n",
       "      <td>2</td>\n",
       "      <td>19</td>\n",
       "      <td>31</td>\n",
       "      <td>40</td>\n",
       "      <td>43</td>\n",
       "      <td>46</td>\n",
       "      <td>5</td>\n",
       "    </tr>\n",
       "    <tr>\n",
       "      <th>...</th>\n",
       "      <td>...</td>\n",
       "      <td>...</td>\n",
       "      <td>...</td>\n",
       "      <td>...</td>\n",
       "      <td>...</td>\n",
       "      <td>...</td>\n",
       "      <td>...</td>\n",
       "      <td>...</td>\n",
       "    </tr>\n",
       "    <tr>\n",
       "      <th>196</th>\n",
       "      <td>2017</td>\n",
       "      <td>3</td>\n",
       "      <td>10</td>\n",
       "      <td>15</td>\n",
       "      <td>17</td>\n",
       "      <td>34</td>\n",
       "      <td>39</td>\n",
       "      <td>31</td>\n",
       "    </tr>\n",
       "    <tr>\n",
       "      <th>197</th>\n",
       "      <td>2017</td>\n",
       "      <td>2</td>\n",
       "      <td>16</td>\n",
       "      <td>19</td>\n",
       "      <td>26</td>\n",
       "      <td>28</td>\n",
       "      <td>29</td>\n",
       "      <td>37</td>\n",
       "    </tr>\n",
       "    <tr>\n",
       "      <th>198</th>\n",
       "      <td>2017</td>\n",
       "      <td>2</td>\n",
       "      <td>6</td>\n",
       "      <td>9</td>\n",
       "      <td>31</td>\n",
       "      <td>41</td>\n",
       "      <td>47</td>\n",
       "      <td>43</td>\n",
       "    </tr>\n",
       "    <tr>\n",
       "      <th>199</th>\n",
       "      <td>2017</td>\n",
       "      <td>10</td>\n",
       "      <td>21</td>\n",
       "      <td>22</td>\n",
       "      <td>26</td>\n",
       "      <td>42</td>\n",
       "      <td>46</td>\n",
       "      <td>35</td>\n",
       "    </tr>\n",
       "    <tr>\n",
       "      <th>200</th>\n",
       "      <td>2017</td>\n",
       "      <td>11</td>\n",
       "      <td>13</td>\n",
       "      <td>34</td>\n",
       "      <td>38</td>\n",
       "      <td>40</td>\n",
       "      <td>47</td>\n",
       "      <td>21</td>\n",
       "    </tr>\n",
       "  </tbody>\n",
       "</table>\n",
       "<p>176 rows × 8 columns</p>\n",
       "</div>"
      ],
      "text/plain": [
       "     Year   A   B   C   D   E   F  Bonus\n",
       "25   2016   4  17  22  40  42  46     11\n",
       "26   2016   2   5   8  14  40  42      7\n",
       "27   2016   1   2  20  27  32  38      3\n",
       "28   2016   2   7  16  17  27  47     41\n",
       "29   2016   2  19  31  40  43  46      5\n",
       "..    ...  ..  ..  ..  ..  ..  ..    ...\n",
       "196  2017   3  10  15  17  34  39     31\n",
       "197  2017   2  16  19  26  28  29     37\n",
       "198  2017   2   6   9  31  41  47     43\n",
       "199  2017  10  21  22  26  42  46     35\n",
       "200  2017  11  13  34  38  40  47     21\n",
       "\n",
       "[176 rows x 8 columns]"
      ]
     },
     "execution_count": 96,
     "metadata": {},
     "output_type": "execute_result"
    }
   ],
   "source": [
    "#counts of unique values for the bonus to find the most occuring numbers\n",
    "df_lotto.loc[25:200]"
   ]
  },
  {
   "cell_type": "markdown",
   "metadata": {},
   "source": [
    "# Lotto dataframe 2016-2021"
   ]
  },
  {
   "cell_type": "code",
   "execution_count": 97,
   "metadata": {},
   "outputs": [
    {
     "data": {
      "text/html": [
       "<div>\n",
       "<style scoped>\n",
       "    .dataframe tbody tr th:only-of-type {\n",
       "        vertical-align: middle;\n",
       "    }\n",
       "\n",
       "    .dataframe tbody tr th {\n",
       "        vertical-align: top;\n",
       "    }\n",
       "\n",
       "    .dataframe thead th {\n",
       "        text-align: right;\n",
       "    }\n",
       "</style>\n",
       "<table border=\"1\" class=\"dataframe\">\n",
       "  <thead>\n",
       "    <tr style=\"text-align: right;\">\n",
       "      <th></th>\n",
       "      <th>Year</th>\n",
       "      <th>A</th>\n",
       "      <th>B</th>\n",
       "      <th>C</th>\n",
       "      <th>D</th>\n",
       "      <th>E</th>\n",
       "      <th>F</th>\n",
       "      <th>Bonus</th>\n",
       "    </tr>\n",
       "  </thead>\n",
       "  <tbody>\n",
       "    <tr>\n",
       "      <th>0</th>\n",
       "      <td>2016</td>\n",
       "      <td>2</td>\n",
       "      <td>8</td>\n",
       "      <td>10</td>\n",
       "      <td>23</td>\n",
       "      <td>27</td>\n",
       "      <td>29</td>\n",
       "      <td>5</td>\n",
       "    </tr>\n",
       "    <tr>\n",
       "      <th>1</th>\n",
       "      <td>2016</td>\n",
       "      <td>1</td>\n",
       "      <td>12</td>\n",
       "      <td>34</td>\n",
       "      <td>43</td>\n",
       "      <td>45</td>\n",
       "      <td>47</td>\n",
       "      <td>27</td>\n",
       "    </tr>\n",
       "    <tr>\n",
       "      <th>2</th>\n",
       "      <td>2016</td>\n",
       "      <td>8</td>\n",
       "      <td>10</td>\n",
       "      <td>11</td>\n",
       "      <td>16</td>\n",
       "      <td>40</td>\n",
       "      <td>42</td>\n",
       "      <td>38</td>\n",
       "    </tr>\n",
       "    <tr>\n",
       "      <th>3</th>\n",
       "      <td>2016</td>\n",
       "      <td>6</td>\n",
       "      <td>10</td>\n",
       "      <td>23</td>\n",
       "      <td>28</td>\n",
       "      <td>37</td>\n",
       "      <td>41</td>\n",
       "      <td>18</td>\n",
       "    </tr>\n",
       "    <tr>\n",
       "      <th>4</th>\n",
       "      <td>2016</td>\n",
       "      <td>7</td>\n",
       "      <td>20</td>\n",
       "      <td>25</td>\n",
       "      <td>27</td>\n",
       "      <td>41</td>\n",
       "      <td>45</td>\n",
       "      <td>35</td>\n",
       "    </tr>\n",
       "    <tr>\n",
       "      <th>...</th>\n",
       "      <td>...</td>\n",
       "      <td>...</td>\n",
       "      <td>...</td>\n",
       "      <td>...</td>\n",
       "      <td>...</td>\n",
       "      <td>...</td>\n",
       "      <td>...</td>\n",
       "      <td>...</td>\n",
       "    </tr>\n",
       "    <tr>\n",
       "      <th>604</th>\n",
       "      <td>2021</td>\n",
       "      <td>12</td>\n",
       "      <td>17</td>\n",
       "      <td>22</td>\n",
       "      <td>32</td>\n",
       "      <td>38</td>\n",
       "      <td>39</td>\n",
       "      <td>40</td>\n",
       "    </tr>\n",
       "    <tr>\n",
       "      <th>605</th>\n",
       "      <td>2021</td>\n",
       "      <td>12</td>\n",
       "      <td>18</td>\n",
       "      <td>29</td>\n",
       "      <td>32</td>\n",
       "      <td>34</td>\n",
       "      <td>44</td>\n",
       "      <td>9</td>\n",
       "    </tr>\n",
       "    <tr>\n",
       "      <th>606</th>\n",
       "      <td>2021</td>\n",
       "      <td>10</td>\n",
       "      <td>17</td>\n",
       "      <td>42</td>\n",
       "      <td>43</td>\n",
       "      <td>45</td>\n",
       "      <td>47</td>\n",
       "      <td>37</td>\n",
       "    </tr>\n",
       "    <tr>\n",
       "      <th>607</th>\n",
       "      <td>2021</td>\n",
       "      <td>8</td>\n",
       "      <td>10</td>\n",
       "      <td>14</td>\n",
       "      <td>23</td>\n",
       "      <td>39</td>\n",
       "      <td>47</td>\n",
       "      <td>5</td>\n",
       "    </tr>\n",
       "    <tr>\n",
       "      <th>608</th>\n",
       "      <td>2021</td>\n",
       "      <td>3</td>\n",
       "      <td>6</td>\n",
       "      <td>18</td>\n",
       "      <td>26</td>\n",
       "      <td>42</td>\n",
       "      <td>47</td>\n",
       "      <td>1</td>\n",
       "    </tr>\n",
       "  </tbody>\n",
       "</table>\n",
       "<p>609 rows × 8 columns</p>\n",
       "</div>"
      ],
      "text/plain": [
       "     Year   A   B   C   D   E   F  Bonus\n",
       "0    2016   2   8  10  23  27  29      5\n",
       "1    2016   1  12  34  43  45  47     27\n",
       "2    2016   8  10  11  16  40  42     38\n",
       "3    2016   6  10  23  28  37  41     18\n",
       "4    2016   7  20  25  27  41  45     35\n",
       "..    ...  ..  ..  ..  ..  ..  ..    ...\n",
       "604  2021  12  17  22  32  38  39     40\n",
       "605  2021  12  18  29  32  34  44      9\n",
       "606  2021  10  17  42  43  45  47     37\n",
       "607  2021   8  10  14  23  39  47      5\n",
       "608  2021   3   6  18  26  42  47      1\n",
       "\n",
       "[609 rows x 8 columns]"
      ]
     },
     "execution_count": 97,
     "metadata": {},
     "output_type": "execute_result"
    }
   ],
   "source": [
    "df_lotto"
   ]
  },
  {
   "cell_type": "markdown",
   "metadata": {},
   "source": [
    "### Remove the year index"
   ]
  },
  {
   "cell_type": "code",
   "execution_count": 98,
   "metadata": {},
   "outputs": [
    {
     "data": {
      "text/html": [
       "<div>\n",
       "<style scoped>\n",
       "    .dataframe tbody tr th:only-of-type {\n",
       "        vertical-align: middle;\n",
       "    }\n",
       "\n",
       "    .dataframe tbody tr th {\n",
       "        vertical-align: top;\n",
       "    }\n",
       "\n",
       "    .dataframe thead th {\n",
       "        text-align: right;\n",
       "    }\n",
       "</style>\n",
       "<table border=\"1\" class=\"dataframe\">\n",
       "  <thead>\n",
       "    <tr style=\"text-align: right;\">\n",
       "      <th></th>\n",
       "      <th>A</th>\n",
       "      <th>B</th>\n",
       "      <th>C</th>\n",
       "      <th>D</th>\n",
       "      <th>E</th>\n",
       "      <th>F</th>\n",
       "      <th>Bonus</th>\n",
       "    </tr>\n",
       "  </thead>\n",
       "  <tbody>\n",
       "    <tr>\n",
       "      <th>0</th>\n",
       "      <td>2</td>\n",
       "      <td>8</td>\n",
       "      <td>10</td>\n",
       "      <td>23</td>\n",
       "      <td>27</td>\n",
       "      <td>29</td>\n",
       "      <td>5</td>\n",
       "    </tr>\n",
       "    <tr>\n",
       "      <th>1</th>\n",
       "      <td>1</td>\n",
       "      <td>12</td>\n",
       "      <td>34</td>\n",
       "      <td>43</td>\n",
       "      <td>45</td>\n",
       "      <td>47</td>\n",
       "      <td>27</td>\n",
       "    </tr>\n",
       "    <tr>\n",
       "      <th>2</th>\n",
       "      <td>8</td>\n",
       "      <td>10</td>\n",
       "      <td>11</td>\n",
       "      <td>16</td>\n",
       "      <td>40</td>\n",
       "      <td>42</td>\n",
       "      <td>38</td>\n",
       "    </tr>\n",
       "    <tr>\n",
       "      <th>3</th>\n",
       "      <td>6</td>\n",
       "      <td>10</td>\n",
       "      <td>23</td>\n",
       "      <td>28</td>\n",
       "      <td>37</td>\n",
       "      <td>41</td>\n",
       "      <td>18</td>\n",
       "    </tr>\n",
       "    <tr>\n",
       "      <th>4</th>\n",
       "      <td>7</td>\n",
       "      <td>20</td>\n",
       "      <td>25</td>\n",
       "      <td>27</td>\n",
       "      <td>41</td>\n",
       "      <td>45</td>\n",
       "      <td>35</td>\n",
       "    </tr>\n",
       "    <tr>\n",
       "      <th>...</th>\n",
       "      <td>...</td>\n",
       "      <td>...</td>\n",
       "      <td>...</td>\n",
       "      <td>...</td>\n",
       "      <td>...</td>\n",
       "      <td>...</td>\n",
       "      <td>...</td>\n",
       "    </tr>\n",
       "    <tr>\n",
       "      <th>604</th>\n",
       "      <td>12</td>\n",
       "      <td>17</td>\n",
       "      <td>22</td>\n",
       "      <td>32</td>\n",
       "      <td>38</td>\n",
       "      <td>39</td>\n",
       "      <td>40</td>\n",
       "    </tr>\n",
       "    <tr>\n",
       "      <th>605</th>\n",
       "      <td>12</td>\n",
       "      <td>18</td>\n",
       "      <td>29</td>\n",
       "      <td>32</td>\n",
       "      <td>34</td>\n",
       "      <td>44</td>\n",
       "      <td>9</td>\n",
       "    </tr>\n",
       "    <tr>\n",
       "      <th>606</th>\n",
       "      <td>10</td>\n",
       "      <td>17</td>\n",
       "      <td>42</td>\n",
       "      <td>43</td>\n",
       "      <td>45</td>\n",
       "      <td>47</td>\n",
       "      <td>37</td>\n",
       "    </tr>\n",
       "    <tr>\n",
       "      <th>607</th>\n",
       "      <td>8</td>\n",
       "      <td>10</td>\n",
       "      <td>14</td>\n",
       "      <td>23</td>\n",
       "      <td>39</td>\n",
       "      <td>47</td>\n",
       "      <td>5</td>\n",
       "    </tr>\n",
       "    <tr>\n",
       "      <th>608</th>\n",
       "      <td>3</td>\n",
       "      <td>6</td>\n",
       "      <td>18</td>\n",
       "      <td>26</td>\n",
       "      <td>42</td>\n",
       "      <td>47</td>\n",
       "      <td>1</td>\n",
       "    </tr>\n",
       "  </tbody>\n",
       "</table>\n",
       "<p>609 rows × 7 columns</p>\n",
       "</div>"
      ],
      "text/plain": [
       "      A   B   C   D   E   F  Bonus\n",
       "0     2   8  10  23  27  29      5\n",
       "1     1  12  34  43  45  47     27\n",
       "2     8  10  11  16  40  42     38\n",
       "3     6  10  23  28  37  41     18\n",
       "4     7  20  25  27  41  45     35\n",
       "..   ..  ..  ..  ..  ..  ..    ...\n",
       "604  12  17  22  32  38  39     40\n",
       "605  12  18  29  32  34  44      9\n",
       "606  10  17  42  43  45  47     37\n",
       "607   8  10  14  23  39  47      5\n",
       "608   3   6  18  26  42  47      1\n",
       "\n",
       "[609 rows x 7 columns]"
      ]
     },
     "execution_count": 98,
     "metadata": {},
     "output_type": "execute_result"
    }
   ],
   "source": [
    "df_numbers = df_lotto.drop('Year',axis=1)\n",
    "df_numbers"
   ]
  },
  {
   "cell_type": "markdown",
   "metadata": {},
   "source": [
    "### 2016-2021: Find most common ball and how many times it has been drawn including as bonus number"
   ]
  },
  {
   "cell_type": "code",
   "execution_count": 99,
   "metadata": {},
   "outputs": [
    {
     "name": "stdout",
     "output_type": "stream",
     "text": [
      "27\n",
      "115\n"
     ]
    }
   ],
   "source": [
    "list_ball_all = list(df_numbers.values.T.flatten())\n",
    "most_common_all,num_most_common_all = Counter(list_ball_all).most_common(1)[0]\n",
    "print(most_common_all)\n",
    "print(num_most_common_all)"
   ]
  },
  {
   "cell_type": "markdown",
   "metadata": {},
   "source": [
    "### 2016-2021: 6 most common numbers and how many times drawn"
   ]
  },
  {
   "cell_type": "code",
   "execution_count": 100,
   "metadata": {},
   "outputs": [
    {
     "data": {
      "text/plain": [
       "[(27, 115), (42, 107), (16, 104), (31, 104), (29, 104), (47, 104)]"
      ]
     },
     "execution_count": 100,
     "metadata": {},
     "output_type": "execute_result"
    }
   ],
   "source": [
    "# find the 6 most common numbers in the list\n",
    "most_common_6_all = Counter(list_ball_all).most_common(6)\n",
    "most_common_6_all"
   ]
  },
  {
   "cell_type": "markdown",
   "metadata": {},
   "source": [
    "#### 2016-2021: Print most common numbers and how many times drawn"
   ]
  },
  {
   "cell_type": "code",
   "execution_count": 101,
   "metadata": {},
   "outputs": [
    {
     "name": "stdout",
     "output_type": "stream",
     "text": [
      "[27, 42, 16, 31, 29, 47, 18, 34, 37, 45, 14, 38, 7, 22, 5, 10, 15, 40, 1, 9, 2, 12, 23, 17, 30, 28, 20, 39, 35, 46, 3, 44, 33, 41, 4, 25, 8, 19, 43, 13, 21, 6, 11, 24, 32, 26, 36]\n",
      "{2: 93, 1: 94, 8: 82, 6: 79, 7: 98, 4: 83, 30: 90, 3: 85, 12: 92, 13: 81, 20: 89, 11: 79, 5: 96, 9: 94, 10: 96, 22: 98, 15: 96, 16: 104, 19: 82, 14: 100, 21: 81, 17: 91, 31: 104, 18: 102, 27: 115, 33: 84, 26: 65, 23: 92, 29: 104, 25: 83, 36: 65, 35: 87, 28: 90, 32: 75, 38: 100, 24: 78, 34: 102, 37: 101, 39: 88, 44: 85, 42: 107, 43: 82, 40: 96, 41: 84, 45: 101, 46: 86, 47: 104}\n"
     ]
    }
   ],
   "source": [
    "number_counter_all = {}\n",
    "for number in list_ball_all:\n",
    "    if number in number_counter_all:\n",
    "        number_counter_all[number] += 1\n",
    "    else:\n",
    "        number_counter_all[number] = 1\n",
    " \n",
    "popular_numbers_all = sorted(number_counter_all, key = number_counter_all.get, reverse = True)\n",
    " \n",
    "print(popular_numbers_all)\n",
    "print(number_counter_all)"
   ]
  },
  {
   "cell_type": "markdown",
   "metadata": {},
   "source": [
    "#### Print the dictionary with sorted values"
   ]
  },
  {
   "cell_type": "code",
   "execution_count": 102,
   "metadata": {},
   "outputs": [
    {
     "name": "stdout",
     "output_type": "stream",
     "text": [
      "27\t: \t 115 times\n",
      "42\t: \t 107 times\n",
      "16\t: \t 104 times\n",
      "31\t: \t 104 times\n",
      "29\t: \t 104 times\n",
      "47\t: \t 104 times\n",
      "18\t: \t 102 times\n",
      "34\t: \t 102 times\n",
      "37\t: \t 101 times\n",
      "45\t: \t 101 times\n",
      "14\t: \t 100 times\n",
      "38\t: \t 100 times\n",
      "7\t: \t 98 times\n",
      "22\t: \t 98 times\n",
      "5\t: \t 96 times\n",
      "10\t: \t 96 times\n",
      "15\t: \t 96 times\n",
      "40\t: \t 96 times\n",
      "1\t: \t 94 times\n",
      "9\t: \t 94 times\n",
      "2\t: \t 93 times\n",
      "12\t: \t 92 times\n",
      "23\t: \t 92 times\n",
      "17\t: \t 91 times\n",
      "30\t: \t 90 times\n",
      "28\t: \t 90 times\n",
      "20\t: \t 89 times\n",
      "39\t: \t 88 times\n",
      "35\t: \t 87 times\n",
      "46\t: \t 86 times\n",
      "3\t: \t 85 times\n",
      "44\t: \t 85 times\n",
      "33\t: \t 84 times\n",
      "41\t: \t 84 times\n",
      "4\t: \t 83 times\n",
      "25\t: \t 83 times\n",
      "8\t: \t 82 times\n",
      "19\t: \t 82 times\n",
      "43\t: \t 82 times\n",
      "13\t: \t 81 times\n",
      "21\t: \t 81 times\n",
      "6\t: \t 79 times\n",
      "11\t: \t 79 times\n",
      "24\t: \t 78 times\n",
      "32\t: \t 75 times\n",
      "26\t: \t 65 times\n",
      "36\t: \t 65 times\n"
     ]
    }
   ],
   "source": [
    "#print the dictionary with sorted values\n",
    "dictionary_numbers_all = Counter(list_ball_all)\n",
    "dictionary_numbers_sorted_keys_all = sorted(dictionary_numbers_all, key=dictionary_numbers_all.get, reverse=True)\n",
    "for r in dictionary_numbers_sorted_keys_all:\n",
    "    print (\"{}\\t: \\t {} times\".format(r, dictionary_numbers_all[r]))"
   ]
  },
  {
   "cell_type": "markdown",
   "metadata": {},
   "source": [
    "## 2019-2021: Dataframe"
   ]
  },
  {
   "cell_type": "code",
   "execution_count": 103,
   "metadata": {},
   "outputs": [
    {
     "data": {
      "text/html": [
       "<div>\n",
       "<style scoped>\n",
       "    .dataframe tbody tr th:only-of-type {\n",
       "        vertical-align: middle;\n",
       "    }\n",
       "\n",
       "    .dataframe tbody tr th {\n",
       "        vertical-align: top;\n",
       "    }\n",
       "\n",
       "    .dataframe thead th {\n",
       "        text-align: right;\n",
       "    }\n",
       "</style>\n",
       "<table border=\"1\" class=\"dataframe\">\n",
       "  <thead>\n",
       "    <tr style=\"text-align: right;\">\n",
       "      <th></th>\n",
       "      <th>Year</th>\n",
       "      <th>A</th>\n",
       "      <th>B</th>\n",
       "      <th>C</th>\n",
       "      <th>D</th>\n",
       "      <th>E</th>\n",
       "      <th>F</th>\n",
       "      <th>Bonus</th>\n",
       "    </tr>\n",
       "  </thead>\n",
       "  <tbody>\n",
       "    <tr>\n",
       "      <th>313</th>\n",
       "      <td>2019</td>\n",
       "      <td>2</td>\n",
       "      <td>14</td>\n",
       "      <td>18</td>\n",
       "      <td>23</td>\n",
       "      <td>34</td>\n",
       "      <td>39</td>\n",
       "      <td>25</td>\n",
       "    </tr>\n",
       "    <tr>\n",
       "      <th>314</th>\n",
       "      <td>2019</td>\n",
       "      <td>12</td>\n",
       "      <td>23</td>\n",
       "      <td>30</td>\n",
       "      <td>36</td>\n",
       "      <td>37</td>\n",
       "      <td>38</td>\n",
       "      <td>3</td>\n",
       "    </tr>\n",
       "    <tr>\n",
       "      <th>315</th>\n",
       "      <td>2019</td>\n",
       "      <td>6</td>\n",
       "      <td>19</td>\n",
       "      <td>22</td>\n",
       "      <td>28</td>\n",
       "      <td>35</td>\n",
       "      <td>40</td>\n",
       "      <td>32</td>\n",
       "    </tr>\n",
       "    <tr>\n",
       "      <th>316</th>\n",
       "      <td>2019</td>\n",
       "      <td>8</td>\n",
       "      <td>9</td>\n",
       "      <td>14</td>\n",
       "      <td>18</td>\n",
       "      <td>23</td>\n",
       "      <td>38</td>\n",
       "      <td>16</td>\n",
       "    </tr>\n",
       "    <tr>\n",
       "      <th>317</th>\n",
       "      <td>2019</td>\n",
       "      <td>11</td>\n",
       "      <td>17</td>\n",
       "      <td>24</td>\n",
       "      <td>29</td>\n",
       "      <td>30</td>\n",
       "      <td>47</td>\n",
       "      <td>38</td>\n",
       "    </tr>\n",
       "    <tr>\n",
       "      <th>...</th>\n",
       "      <td>...</td>\n",
       "      <td>...</td>\n",
       "      <td>...</td>\n",
       "      <td>...</td>\n",
       "      <td>...</td>\n",
       "      <td>...</td>\n",
       "      <td>...</td>\n",
       "      <td>...</td>\n",
       "    </tr>\n",
       "    <tr>\n",
       "      <th>604</th>\n",
       "      <td>2021</td>\n",
       "      <td>12</td>\n",
       "      <td>17</td>\n",
       "      <td>22</td>\n",
       "      <td>32</td>\n",
       "      <td>38</td>\n",
       "      <td>39</td>\n",
       "      <td>40</td>\n",
       "    </tr>\n",
       "    <tr>\n",
       "      <th>605</th>\n",
       "      <td>2021</td>\n",
       "      <td>12</td>\n",
       "      <td>18</td>\n",
       "      <td>29</td>\n",
       "      <td>32</td>\n",
       "      <td>34</td>\n",
       "      <td>44</td>\n",
       "      <td>9</td>\n",
       "    </tr>\n",
       "    <tr>\n",
       "      <th>606</th>\n",
       "      <td>2021</td>\n",
       "      <td>10</td>\n",
       "      <td>17</td>\n",
       "      <td>42</td>\n",
       "      <td>43</td>\n",
       "      <td>45</td>\n",
       "      <td>47</td>\n",
       "      <td>37</td>\n",
       "    </tr>\n",
       "    <tr>\n",
       "      <th>607</th>\n",
       "      <td>2021</td>\n",
       "      <td>8</td>\n",
       "      <td>10</td>\n",
       "      <td>14</td>\n",
       "      <td>23</td>\n",
       "      <td>39</td>\n",
       "      <td>47</td>\n",
       "      <td>5</td>\n",
       "    </tr>\n",
       "    <tr>\n",
       "      <th>608</th>\n",
       "      <td>2021</td>\n",
       "      <td>3</td>\n",
       "      <td>6</td>\n",
       "      <td>18</td>\n",
       "      <td>26</td>\n",
       "      <td>42</td>\n",
       "      <td>47</td>\n",
       "      <td>1</td>\n",
       "    </tr>\n",
       "  </tbody>\n",
       "</table>\n",
       "<p>296 rows × 8 columns</p>\n",
       "</div>"
      ],
      "text/plain": [
       "     Year   A   B   C   D   E   F  Bonus\n",
       "313  2019   2  14  18  23  34  39     25\n",
       "314  2019  12  23  30  36  37  38      3\n",
       "315  2019   6  19  22  28  35  40     32\n",
       "316  2019   8   9  14  18  23  38     16\n",
       "317  2019  11  17  24  29  30  47     38\n",
       "..    ...  ..  ..  ..  ..  ..  ..    ...\n",
       "604  2021  12  17  22  32  38  39     40\n",
       "605  2021  12  18  29  32  34  44      9\n",
       "606  2021  10  17  42  43  45  47     37\n",
       "607  2021   8  10  14  23  39  47      5\n",
       "608  2021   3   6  18  26  42  47      1\n",
       "\n",
       "[296 rows x 8 columns]"
      ]
     },
     "execution_count": 103,
     "metadata": {},
     "output_type": "execute_result"
    }
   ],
   "source": [
    "df19_20_21 = df_lotto.loc[df_lotto['Year'].isin(['2019','2020','2021'])]\n",
    "df19_20_21"
   ]
  },
  {
   "cell_type": "markdown",
   "metadata": {},
   "source": [
    "### 2019-2021: Most drawn ball"
   ]
  },
  {
   "cell_type": "code",
   "execution_count": 104,
   "metadata": {},
   "outputs": [
    {
     "name": "stdout",
     "output_type": "stream",
     "text": [
      "23\n",
      "57\n"
     ]
    }
   ],
   "source": [
    "list_ball_19to21 = list(df19_20_21.drop(['Year'],axis=1).values.T.flatten())\n",
    "most_common_19to21,num_most_common_19to21 = Counter(list_ball_19to21).most_common(1)[0]\n",
    "print(most_common_19to21)\n",
    "print(num_most_common_19to21)"
   ]
  },
  {
   "cell_type": "markdown",
   "metadata": {},
   "source": [
    "### 2019-2021: Most drawn 6 balls"
   ]
  },
  {
   "cell_type": "code",
   "execution_count": 105,
   "metadata": {},
   "outputs": [
    {
     "data": {
      "text/plain": [
       "[(23, 57), (14, 56), (27, 55), (34, 54), (47, 53), (12, 52)]"
      ]
     },
     "execution_count": 105,
     "metadata": {},
     "output_type": "execute_result"
    }
   ],
   "source": [
    "# find the 6 most common numbers in the list\n",
    "most_common_6_19to21 = Counter(list_ball_19to21).most_common(6)\n",
    "most_common_6_19to21"
   ]
  },
  {
   "cell_type": "code",
   "execution_count": 106,
   "metadata": {},
   "outputs": [
    {
     "name": "stdout",
     "output_type": "stream",
     "text": [
      "[23, 14, 27, 34, 47, 12, 3, 37, 18, 16, 45, 38, 40, 15, 1, 29, 42, 10, 33, 22, 46, 5, 7, 31, 39, 41, 30, 35, 44, 13, 28, 9, 21, 17, 4, 2, 20, 8, 25, 6, 11, 26, 43, 19, 24, 32, 36]\n",
      "{2: 38, 12: 52, 6: 35, 8: 37, 11: 35, 13: 42, 14: 56, 4: 40, 15: 48, 1: 48, 3: 52, 5: 45, 7: 45, 9: 41, 18: 50, 16: 50, 10: 47, 20: 38, 22: 46, 19: 33, 21: 41, 23: 57, 25: 37, 17: 41, 29: 48, 33: 47, 28: 42, 27: 55, 32: 32, 24: 33, 30: 43, 26: 35, 34: 54, 31: 45, 38: 49, 37: 52, 35: 43, 36: 27, 39: 45, 42: 48, 40: 49, 45: 50, 41: 44, 43: 35, 44: 43, 46: 46, 47: 53}\n"
     ]
    }
   ],
   "source": [
    "number_counter_19to21 = {}\n",
    "for number in list_ball_19to21:\n",
    "    if number in number_counter_19to21:\n",
    "        number_counter_19to21[number] += 1\n",
    "    else:\n",
    "        number_counter_19to21[number] = 1\n",
    " \n",
    "popular_numbers_19to21 = sorted(number_counter_19to21, key = number_counter_19to21.get, reverse = True)\n",
    " \n",
    "print(popular_numbers_19to21)\n",
    "print(number_counter_19to21)"
   ]
  },
  {
   "cell_type": "markdown",
   "metadata": {},
   "source": [
    "### 2019-2021: Dictionary with sorted values"
   ]
  },
  {
   "cell_type": "code",
   "execution_count": 107,
   "metadata": {},
   "outputs": [
    {
     "name": "stdout",
     "output_type": "stream",
     "text": [
      "23\t: \t 57 times\n",
      "14\t: \t 56 times\n",
      "27\t: \t 55 times\n",
      "34\t: \t 54 times\n",
      "47\t: \t 53 times\n",
      "12\t: \t 52 times\n",
      "3\t: \t 52 times\n",
      "37\t: \t 52 times\n",
      "18\t: \t 50 times\n",
      "16\t: \t 50 times\n",
      "45\t: \t 50 times\n",
      "38\t: \t 49 times\n",
      "40\t: \t 49 times\n",
      "15\t: \t 48 times\n",
      "1\t: \t 48 times\n",
      "29\t: \t 48 times\n",
      "42\t: \t 48 times\n",
      "10\t: \t 47 times\n",
      "33\t: \t 47 times\n",
      "22\t: \t 46 times\n",
      "46\t: \t 46 times\n",
      "5\t: \t 45 times\n",
      "7\t: \t 45 times\n",
      "31\t: \t 45 times\n",
      "39\t: \t 45 times\n",
      "41\t: \t 44 times\n",
      "30\t: \t 43 times\n",
      "35\t: \t 43 times\n",
      "44\t: \t 43 times\n",
      "13\t: \t 42 times\n",
      "28\t: \t 42 times\n",
      "9\t: \t 41 times\n",
      "21\t: \t 41 times\n",
      "17\t: \t 41 times\n",
      "4\t: \t 40 times\n",
      "2\t: \t 38 times\n",
      "20\t: \t 38 times\n",
      "8\t: \t 37 times\n",
      "25\t: \t 37 times\n",
      "6\t: \t 35 times\n",
      "11\t: \t 35 times\n",
      "26\t: \t 35 times\n",
      "43\t: \t 35 times\n",
      "19\t: \t 33 times\n",
      "24\t: \t 33 times\n",
      "32\t: \t 32 times\n",
      "36\t: \t 27 times\n"
     ]
    }
   ],
   "source": [
    "#print the dictionary with sorted values\n",
    "dictionary_numbers_19to21 = Counter(list_ball_19to21)\n",
    "dictionary_numbers_sorted_keys_19to21 = sorted(dictionary_numbers_19to21, key=dictionary_numbers_19to21.get, reverse=True)\n",
    "for r in dictionary_numbers_sorted_keys_19to21:\n",
    "    print (\"{}\\t: \\t {} times\".format(r, dictionary_numbers_19to21[r]))"
   ]
  },
  {
   "cell_type": "markdown",
   "metadata": {},
   "source": [
    "## 2016-2021: Most drawn ball"
   ]
  },
  {
   "cell_type": "code",
   "execution_count": 108,
   "metadata": {},
   "outputs": [
    {
     "name": "stdout",
     "output_type": "stream",
     "text": [
      "27\n",
      "115\n"
     ]
    }
   ],
   "source": [
    "list_ball_all = list(df_lotto.drop(['Year'],axis=1).values.T.flatten())\n",
    "most_common_all,num_most_common_all = Counter(list_ball_all).most_common(1)[0]\n",
    "print(most_common_all)\n",
    "print(num_most_common_all)"
   ]
  },
  {
   "cell_type": "code",
   "execution_count": 109,
   "metadata": {},
   "outputs": [
    {
     "data": {
      "text/plain": [
       "[(27, 115), (42, 107), (16, 104), (31, 104), (29, 104), (47, 104)]"
      ]
     },
     "execution_count": 109,
     "metadata": {},
     "output_type": "execute_result"
    }
   ],
   "source": [
    "# find the 6 most common numbers in the list\n",
    "most_common_6_all = Counter(list_ball_all).most_common(6)\n",
    "most_common_6_all"
   ]
  },
  {
   "cell_type": "code",
   "execution_count": 110,
   "metadata": {},
   "outputs": [
    {
     "name": "stdout",
     "output_type": "stream",
     "text": [
      "[27, 42, 16, 31, 29, 47, 18, 34, 37, 45, 14, 38, 7, 22, 5, 10, 15, 40, 1, 9, 2, 12, 23, 17, 30, 28, 20, 39, 35, 46, 3, 44, 33, 41, 4, 25, 8, 19, 43, 13, 21, 6, 11, 24, 32, 26, 36]\n",
      "{2: 93, 1: 94, 8: 82, 6: 79, 7: 98, 4: 83, 30: 90, 3: 85, 12: 92, 13: 81, 20: 89, 11: 79, 5: 96, 9: 94, 10: 96, 22: 98, 15: 96, 16: 104, 19: 82, 14: 100, 21: 81, 17: 91, 31: 104, 18: 102, 27: 115, 33: 84, 26: 65, 23: 92, 29: 104, 25: 83, 36: 65, 35: 87, 28: 90, 32: 75, 38: 100, 24: 78, 34: 102, 37: 101, 39: 88, 44: 85, 42: 107, 43: 82, 40: 96, 41: 84, 45: 101, 46: 86, 47: 104}\n"
     ]
    }
   ],
   "source": [
    "number_counter_all = {}\n",
    "for number in list_ball_all:\n",
    "    if number in number_counter_all:\n",
    "        number_counter_all[number] += 1\n",
    "    else:\n",
    "        number_counter_all[number] = 1\n",
    " \n",
    "popular_numbers_all = sorted(number_counter_all, key = number_counter_all.get, reverse = True)\n",
    " \n",
    "print(popular_numbers_all)\n",
    "print(number_counter_all)"
   ]
  },
  {
   "cell_type": "markdown",
   "metadata": {},
   "source": [
    "## 2016-2021: Most drawn balls dicionary"
   ]
  },
  {
   "cell_type": "code",
   "execution_count": 111,
   "metadata": {},
   "outputs": [
    {
     "name": "stdout",
     "output_type": "stream",
     "text": [
      "27\t: \t 115 times\n",
      "42\t: \t 107 times\n",
      "16\t: \t 104 times\n",
      "31\t: \t 104 times\n",
      "29\t: \t 104 times\n",
      "47\t: \t 104 times\n",
      "18\t: \t 102 times\n",
      "34\t: \t 102 times\n",
      "37\t: \t 101 times\n",
      "45\t: \t 101 times\n",
      "14\t: \t 100 times\n",
      "38\t: \t 100 times\n",
      "7\t: \t 98 times\n",
      "22\t: \t 98 times\n",
      "5\t: \t 96 times\n",
      "10\t: \t 96 times\n",
      "15\t: \t 96 times\n",
      "40\t: \t 96 times\n",
      "1\t: \t 94 times\n",
      "9\t: \t 94 times\n",
      "2\t: \t 93 times\n",
      "12\t: \t 92 times\n",
      "23\t: \t 92 times\n",
      "17\t: \t 91 times\n",
      "30\t: \t 90 times\n",
      "28\t: \t 90 times\n",
      "20\t: \t 89 times\n",
      "39\t: \t 88 times\n",
      "35\t: \t 87 times\n",
      "46\t: \t 86 times\n",
      "3\t: \t 85 times\n",
      "44\t: \t 85 times\n",
      "33\t: \t 84 times\n",
      "41\t: \t 84 times\n",
      "4\t: \t 83 times\n",
      "25\t: \t 83 times\n",
      "8\t: \t 82 times\n",
      "19\t: \t 82 times\n",
      "43\t: \t 82 times\n",
      "13\t: \t 81 times\n",
      "21\t: \t 81 times\n",
      "6\t: \t 79 times\n",
      "11\t: \t 79 times\n",
      "24\t: \t 78 times\n",
      "32\t: \t 75 times\n",
      "26\t: \t 65 times\n",
      "36\t: \t 65 times\n"
     ]
    }
   ],
   "source": [
    "#print the dictionary with sorted values\n",
    "dictionary_numbers_all = Counter(list_ball_all)\n",
    "dictionary_numbers_sorted_keys_all = sorted(dictionary_numbers_all, key=dictionary_numbers_all.get, reverse=True)\n",
    "for r in dictionary_numbers_sorted_keys_all:\n",
    "    print (\"{}\\t: \\t {} times\".format(r, dictionary_numbers_all[r]))"
   ]
  },
  {
   "cell_type": "code",
   "execution_count": null,
   "metadata": {},
   "outputs": [],
   "source": []
  },
  {
   "cell_type": "code",
   "execution_count": null,
   "metadata": {},
   "outputs": [],
   "source": []
  },
  {
   "cell_type": "code",
   "execution_count": null,
   "metadata": {},
   "outputs": [],
   "source": []
  }
 ],
 "metadata": {
  "kernelspec": {
   "display_name": "Python 3 (ipykernel)",
   "language": "python",
   "name": "python3"
  },
  "language_info": {
   "codemirror_mode": {
    "name": "ipython",
    "version": 3
   },
   "file_extension": ".py",
   "mimetype": "text/x-python",
   "name": "python",
   "nbconvert_exporter": "python",
   "pygments_lexer": "ipython3",
   "version": "3.8.5"
  }
 },
 "nbformat": 4,
 "nbformat_minor": 4
}
